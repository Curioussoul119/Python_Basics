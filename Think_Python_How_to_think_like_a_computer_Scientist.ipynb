{
  "nbformat": 4,
  "nbformat_minor": 0,
  "metadata": {
    "colab": {
      "name": "Think Python_How to think like a computer Scientist.ipynb",
      "provenance": [],
      "collapsed_sections": [],
      "authorship_tag": "ABX9TyPs/GXg0ITCtZyz0NsIvs9l",
      "include_colab_link": true
    },
    "kernelspec": {
      "name": "python3",
      "display_name": "Python 3"
    },
    "language_info": {
      "name": "python"
    }
  },
  "cells": [
    {
      "cell_type": "markdown",
      "metadata": {
        "id": "view-in-github",
        "colab_type": "text"
      },
      "source": [
        "<a href=\"https://colab.research.google.com/github/Curioussoul119/Python_Basics/blob/main/Think_Python_How_to_think_like_a_computer_Scientist.ipynb\" target=\"_parent\"><img src=\"https://colab.research.google.com/assets/colab-badge.svg\" alt=\"Open In Colab\"/></a>"
      ]
    },
    {
      "cell_type": "code",
      "execution_count": null,
      "metadata": {
        "id": "DlPgD-RHx1-L"
      },
      "outputs": [],
      "source": [
        ""
      ]
    },
    {
      "cell_type": "markdown",
      "source": [
        "# Debugging"
      ],
      "metadata": {
        "id": "UBog_fO54H4J"
      }
    },
    {
      "cell_type": "code",
      "source": [
        "# Syntax error,  Run time error, Semantic Error"
      ],
      "metadata": {
        "id": "9cJVfevG4P83"
      },
      "execution_count": null,
      "outputs": []
    },
    {
      "cell_type": "code",
      "source": [
        "import math\n",
        "math"
      ],
      "metadata": {
        "colab": {
          "base_uri": "https://localhost:8080/"
        },
        "id": "EARAAzZ14XkZ",
        "outputId": "3dc230c5-57f7-4769-96f2-89270887bc42"
      },
      "execution_count": null,
      "outputs": [
        {
          "output_type": "execute_result",
          "data": {
            "text/plain": [
              "<module 'math' (built-in)>"
            ]
          },
          "metadata": {},
          "execution_count": 2
        }
      ]
    },
    {
      "cell_type": "code",
      "source": [
        "radians = 0.7\n",
        "height = math.sin(radians)"
      ],
      "metadata": {
        "id": "Ktqrn3BF9teB"
      },
      "execution_count": null,
      "outputs": []
    },
    {
      "cell_type": "code",
      "source": [
        "height"
      ],
      "metadata": {
        "colab": {
          "base_uri": "https://localhost:8080/"
        },
        "id": "Hbdy_DHy-GJI",
        "outputId": "87b07cf8-a6cf-4f57-97f8-321b54d14a29"
      },
      "execution_count": null,
      "outputs": [
        {
          "output_type": "execute_result",
          "data": {
            "text/plain": [
              "0.644217687237691"
            ]
          },
          "metadata": {},
          "execution_count": 4
        }
      ]
    },
    {
      "cell_type": "code",
      "source": [
        "ratio = 0.8\n",
        "decibels = 10 * math.log10(ratio)\n",
        "decibels"
      ],
      "metadata": {
        "colab": {
          "base_uri": "https://localhost:8080/"
        },
        "id": "rKnqrEia-JIg",
        "outputId": "23e76a71-6f8e-4f3f-a0a4-ab751a20f8b4"
      },
      "execution_count": null,
      "outputs": [
        {
          "output_type": "execute_result",
          "data": {
            "text/plain": [
              "-0.969100130080564"
            ]
          },
          "metadata": {},
          "execution_count": 5
        }
      ]
    },
    {
      "cell_type": "code",
      "source": [
        "math.pi"
      ],
      "metadata": {
        "colab": {
          "base_uri": "https://localhost:8080/"
        },
        "id": "HjqIUnnZ-Wr3",
        "outputId": "eb9738d7-d9a2-40a3-da67-58f68adc976c"
      },
      "execution_count": null,
      "outputs": [
        {
          "output_type": "execute_result",
          "data": {
            "text/plain": [
              "3.141592653589793"
            ]
          },
          "metadata": {},
          "execution_count": 6
        }
      ]
    },
    {
      "cell_type": "code",
      "source": [
        ""
      ],
      "metadata": {
        "id": "NLEDH83jxUcZ"
      },
      "execution_count": null,
      "outputs": []
    },
    {
      "cell_type": "markdown",
      "source": [
        "# 3.Functions"
      ],
      "metadata": {
        "id": "op0-GZtoxVDK"
      }
    },
    {
      "cell_type": "code",
      "source": [
        "def print_lyrics():\n",
        "  print(\"I'm a curious soul, and I'm okay all the time.\")\n",
        "  print(\"But I sleep all day and night when I'm under stress\")\n"
      ],
      "metadata": {
        "id": "lN2GqKvO-m2O"
      },
      "execution_count": null,
      "outputs": []
    },
    {
      "cell_type": "code",
      "source": [
        "print(print_lyrics)"
      ],
      "metadata": {
        "colab": {
          "base_uri": "https://localhost:8080/"
        },
        "id": "BsUzSEufBh0o",
        "outputId": "f27c5630-e5a8-43a9-f255-897ed6f2cc91"
      },
      "execution_count": null,
      "outputs": [
        {
          "output_type": "stream",
          "name": "stdout",
          "text": [
            "<function print_lyrics at 0x7fa3b2706050>\n"
          ]
        }
      ]
    },
    {
      "cell_type": "code",
      "source": [
        "print_lyrics()"
      ],
      "metadata": {
        "colab": {
          "base_uri": "https://localhost:8080/"
        },
        "id": "OmHGcII3Bpft",
        "outputId": "879f5322-ea8f-4f80-f39d-4cd734984db4"
      },
      "execution_count": null,
      "outputs": [
        {
          "output_type": "stream",
          "name": "stdout",
          "text": [
            "I'm a curious soul, and I'm okay all the time.\n",
            "But I sleep all day and night when I'm under stress\n"
          ]
        }
      ]
    },
    {
      "cell_type": "code",
      "source": [
        "def repeat_lyrics():\n",
        "  print_lyrics()\n",
        "  print_lyrics()"
      ],
      "metadata": {
        "id": "rqbqfUBZBskG"
      },
      "execution_count": null,
      "outputs": []
    },
    {
      "cell_type": "code",
      "source": [
        "repeat_lyrics()"
      ],
      "metadata": {
        "colab": {
          "base_uri": "https://localhost:8080/"
        },
        "id": "UjWd4SuqB-4N",
        "outputId": "8b0a8591-2378-46e3-9111-03aec6009f77"
      },
      "execution_count": null,
      "outputs": [
        {
          "output_type": "stream",
          "name": "stdout",
          "text": [
            "I'm a curious soul, and I'm okay all the time.\n",
            "But I sleep all day and night when I'm under stress\n",
            "I'm a curious soul, and I'm okay all the time.\n",
            "But I sleep all day and night when I'm under stress\n"
          ]
        }
      ]
    },
    {
      "cell_type": "code",
      "source": [
        "type(repeat_lyrics)"
      ],
      "metadata": {
        "colab": {
          "base_uri": "https://localhost:8080/"
        },
        "id": "FnJqBLcZCAyP",
        "outputId": "a5de7dd0-eeb0-4bf6-f0ae-8a097e1f8812"
      },
      "execution_count": null,
      "outputs": [
        {
          "output_type": "execute_result",
          "data": {
            "text/plain": [
              "function"
            ]
          },
          "metadata": {},
          "execution_count": 12
        }
      ]
    },
    {
      "cell_type": "code",
      "source": [
        "def print_lyrics():\n",
        "  print(\"I'm a curious soul, and I'm okay all the time.\")\n",
        "  print(\"But I sleep all day and night when I'm under stress\")\n",
        "\n",
        "def repeat_lyrics():\n",
        "  print_lyrics()\n",
        "  print_lyrics()\n",
        "repeat_lyrics()"
      ],
      "metadata": {
        "colab": {
          "base_uri": "https://localhost:8080/"
        },
        "id": "qTeI-0oVCErP",
        "outputId": "c3ab16c9-0774-40f6-e4e8-36d33cf85aca"
      },
      "execution_count": null,
      "outputs": [
        {
          "output_type": "stream",
          "name": "stdout",
          "text": [
            "I'm a curious soul, and I'm okay all the time.\n",
            "But I sleep all day and night when I'm under stress\n",
            "I'm a curious soul, and I'm okay all the time.\n",
            "But I sleep all day and night when I'm under stress\n"
          ]
        }
      ]
    },
    {
      "cell_type": "code",
      "source": [
        "# functions with arguments\n",
        "math.sin(0.3) # sin function require one argument here\n",
        "math.pow(2,3) # pow function require two arguments, base and exponent"
      ],
      "metadata": {
        "colab": {
          "base_uri": "https://localhost:8080/"
        },
        "id": "RTMMgYlyDnZA",
        "outputId": "f8cb9b07-88de-4bcf-eb11-cf43b076e913"
      },
      "execution_count": null,
      "outputs": [
        {
          "output_type": "execute_result",
          "data": {
            "text/plain": [
              "8.0"
            ]
          },
          "metadata": {},
          "execution_count": 14
        }
      ]
    },
    {
      "cell_type": "code",
      "source": [
        "math.sin(0.3)"
      ],
      "metadata": {
        "colab": {
          "base_uri": "https://localhost:8080/"
        },
        "id": "ge2uE7z7GBUN",
        "outputId": "13791951-e443-4ccc-c095-69ff27f347f8"
      },
      "execution_count": null,
      "outputs": [
        {
          "output_type": "execute_result",
          "data": {
            "text/plain": [
              "0.29552020666133955"
            ]
          },
          "metadata": {},
          "execution_count": 15
        }
      ]
    },
    {
      "cell_type": "code",
      "source": [
        "def print_twice(curioussoul):\n",
        "  print(curioussoul)\n",
        "  print(curioussoul)"
      ],
      "metadata": {
        "id": "8m9SnmJBGMOn"
      },
      "execution_count": null,
      "outputs": []
    },
    {
      "cell_type": "code",
      "source": [
        "print_twice('go to heaven')"
      ],
      "metadata": {
        "colab": {
          "base_uri": "https://localhost:8080/"
        },
        "id": "jc-qFJq9G6IS",
        "outputId": "e01eb2d4-ddf8-42b4-ccad-74b4003af0c7"
      },
      "execution_count": null,
      "outputs": [
        {
          "output_type": "stream",
          "name": "stdout",
          "text": [
            "go to heaven\n",
            "go to heaven\n"
          ]
        }
      ]
    },
    {
      "cell_type": "code",
      "source": [
        "print_twice(19)"
      ],
      "metadata": {
        "colab": {
          "base_uri": "https://localhost:8080/"
        },
        "id": "OE0fmsmpHFIV",
        "outputId": "f0cd3989-867f-44f8-b4a6-86727b10487f"
      },
      "execution_count": null,
      "outputs": [
        {
          "output_type": "stream",
          "name": "stdout",
          "text": [
            "19\n",
            "19\n"
          ]
        }
      ]
    },
    {
      "cell_type": "code",
      "source": [
        "print_twice(math.pi)"
      ],
      "metadata": {
        "colab": {
          "base_uri": "https://localhost:8080/"
        },
        "id": "7jNQHDFoHrkF",
        "outputId": "0e025769-6847-4f04-ef38-1b505dc1a89e"
      },
      "execution_count": null,
      "outputs": [
        {
          "output_type": "stream",
          "name": "stdout",
          "text": [
            "3.141592653589793\n",
            "3.141592653589793\n"
          ]
        }
      ]
    },
    {
      "cell_type": "code",
      "source": [
        "print_twice('jiro '*2)"
      ],
      "metadata": {
        "colab": {
          "base_uri": "https://localhost:8080/"
        },
        "id": "6-fFo1TJHvxN",
        "outputId": "60d3e78b-45d4-4925-a069-4707185ee4b3"
      },
      "execution_count": null,
      "outputs": [
        {
          "output_type": "stream",
          "name": "stdout",
          "text": [
            "jiro jiro \n",
            "jiro jiro \n"
          ]
        }
      ]
    },
    {
      "cell_type": "code",
      "source": [
        "print_twice(math.cos(math.pi))"
      ],
      "metadata": {
        "colab": {
          "base_uri": "https://localhost:8080/"
        },
        "id": "MPLzy4cqIobB",
        "outputId": "e43983f9-4a84-4720-cf7a-59dc64cb29f4"
      },
      "execution_count": null,
      "outputs": [
        {
          "output_type": "stream",
          "name": "stdout",
          "text": [
            "-1.0\n",
            "-1.0\n"
          ]
        }
      ]
    },
    {
      "cell_type": "code",
      "source": [
        "hi = 'good moorning, lets have a productive day'\n",
        "print_twice(hi)\n",
        "hello = ' Hope you are doing Ok!'"
      ],
      "metadata": {
        "colab": {
          "base_uri": "https://localhost:8080/"
        },
        "id": "ufgZ5tROI97X",
        "outputId": "ddd0119c-dc1e-4461-bcb7-a29938cbffd8"
      },
      "execution_count": null,
      "outputs": [
        {
          "output_type": "stream",
          "name": "stdout",
          "text": [
            "good moorning, lets have a productive day\n",
            "good moorning, lets have a productive day\n"
          ]
        }
      ]
    },
    {
      "cell_type": "code",
      "source": [
        "#This function takes two arguments, concatenates them, and prints the result twice. Here is\n",
        "# an example that uses it\n",
        "def live_twice(bc, ad):\n",
        "  live = bc + ad\n",
        "  print_twice(live)"
      ],
      "metadata": {
        "id": "EV-WCDoDJTTA"
      },
      "execution_count": null,
      "outputs": []
    },
    {
      "cell_type": "code",
      "source": [
        "live_twice(hi,hello )"
      ],
      "metadata": {
        "colab": {
          "base_uri": "https://localhost:8080/"
        },
        "id": "FYbL2nbRJ24k",
        "outputId": "7aa4a632-e691-4a8f-e284-ee6c6409a3cc"
      },
      "execution_count": null,
      "outputs": [
        {
          "output_type": "stream",
          "name": "stdout",
          "text": [
            "good moorning, lets have a productive day Hope you are doing Ok!\n",
            "good moorning, lets have a productive day Hope you are doing Ok!\n"
          ]
        }
      ]
    },
    {
      "cell_type": "code",
      "source": [
        "math.sqrt(5)              "
      ],
      "metadata": {
        "id": "WPFjNUxwLSGu",
        "colab": {
          "base_uri": "https://localhost:8080/"
        },
        "outputId": "31fc768f-5d14-4b1a-9a2a-7a4a4b674ef2"
      },
      "execution_count": null,
      "outputs": [
        {
          "output_type": "execute_result",
          "data": {
            "text/plain": [
              "2.23606797749979"
            ]
          },
          "metadata": {},
          "execution_count": 25
        }
      ]
    },
    {
      "cell_type": "code",
      "source": [
        "# Fruitful functions and void functions"
      ],
      "metadata": {
        "id": "NA48yOUVhAwY"
      },
      "execution_count": null,
      "outputs": []
    },
    {
      "cell_type": "code",
      "source": [
        "#module #dot notation for calling a function"
      ],
      "metadata": {
        "id": "zFGxW_KrhH0m"
      },
      "execution_count": null,
      "outputs": []
    },
    {
      "cell_type": "code",
      "source": [
        "def right_justify(s):\n",
        "  print((' '*70)+s)"
      ],
      "metadata": {
        "id": "yJum3-R6iyFT"
      },
      "execution_count": null,
      "outputs": []
    },
    {
      "cell_type": "code",
      "source": [
        "right_justify('monty') #yayyyyy"
      ],
      "metadata": {
        "colab": {
          "base_uri": "https://localhost:8080/"
        },
        "id": "8ow6hTFemP0x",
        "outputId": "289f3ba8-0050-4c28-c4ae-36776a830018"
      },
      "execution_count": null,
      "outputs": [
        {
          "output_type": "stream",
          "name": "stdout",
          "text": [
            "                                                                      monty\n"
          ]
        }
      ]
    },
    {
      "cell_type": "code",
      "source": [
        "from __future__ import print_function, division"
      ],
      "metadata": {
        "id": "qJl8UYlImTlP"
      },
      "execution_count": null,
      "outputs": []
    },
    {
      "cell_type": "code",
      "source": [
        "def do_twice(func, arg):\n",
        "  func(arg)\n",
        "  func(arg)"
      ],
      "metadata": {
        "id": "5SaATjD1oruO"
      },
      "execution_count": null,
      "outputs": []
    },
    {
      "cell_type": "code",
      "source": [
        "def print_twice(arg):\n",
        "  print(arg)\n",
        "  print(arg)"
      ],
      "metadata": {
        "id": "A75rh85lo3JE"
      },
      "execution_count": null,
      "outputs": []
    },
    {
      "cell_type": "code",
      "source": [
        "do_twice(print_twice, ' go to heaven,')"
      ],
      "metadata": {
        "colab": {
          "base_uri": "https://localhost:8080/"
        },
        "id": "-mJY5WPxo_YU",
        "outputId": "a776f377-a02f-4dcb-f0a3-77e57bf7a79e"
      },
      "execution_count": null,
      "outputs": [
        {
          "output_type": "stream",
          "name": "stdout",
          "text": [
            " go to heaven,\n",
            " go to heaven,\n",
            " go to heaven,\n",
            " go to heaven,\n"
          ]
        }
      ]
    },
    {
      "cell_type": "code",
      "source": [
        "def do_four(func, arg):\n",
        "  do_twice(func, arg)\n",
        "  do_twice(func, arg)"
      ],
      "metadata": {
        "id": "1cqIg46WrDij"
      },
      "execution_count": null,
      "outputs": []
    },
    {
      "cell_type": "code",
      "source": [
        "do_twice(print, 'spam')\n",
        "print('')\n"
      ],
      "metadata": {
        "colab": {
          "base_uri": "https://localhost:8080/"
        },
        "id": "zm5HDt1srOX9",
        "outputId": "77d10cd2-79a9-473d-fd1c-b4a99a4606ca"
      },
      "execution_count": null,
      "outputs": [
        {
          "output_type": "stream",
          "name": "stdout",
          "text": [
            "spam\n",
            "spam\n",
            "\n"
          ]
        }
      ]
    },
    {
      "cell_type": "code",
      "source": [
        "do_four(print, 'spam')"
      ],
      "metadata": {
        "colab": {
          "base_uri": "https://localhost:8080/"
        },
        "id": "EV97MQSTsEjW",
        "outputId": "71e98ab0-7554-412b-b2f5-9f89ca7f273f"
      },
      "execution_count": null,
      "outputs": [
        {
          "output_type": "stream",
          "name": "stdout",
          "text": [
            "spam\n",
            "spam\n",
            "spam\n",
            "spam\n"
          ]
        }
      ]
    },
    {
      "cell_type": "code",
      "source": [
        "do_four(print_twice,'spam')"
      ],
      "metadata": {
        "colab": {
          "base_uri": "https://localhost:8080/"
        },
        "id": "-COuWID-sOL8",
        "outputId": "50d9a3b4-c8da-49dd-da4f-82e217bca0c8"
      },
      "execution_count": null,
      "outputs": [
        {
          "output_type": "stream",
          "name": "stdout",
          "text": [
            "spam\n",
            "spam\n",
            "spam\n",
            "spam\n",
            "spam\n",
            "spam\n",
            "spam\n",
            "spam\n"
          ]
        }
      ]
    },
    {
      "cell_type": "code",
      "source": [
        "def do_twice(f):\n",
        "  f()\n",
        "  f()\n"
      ],
      "metadata": {
        "id": "Z6SILZbnseaL"
      },
      "execution_count": null,
      "outputs": []
    },
    {
      "cell_type": "code",
      "source": [
        "def do_four(f):\n",
        "  do_twice(f)\n",
        "  do_twice(f)"
      ],
      "metadata": {
        "id": "i15tHip9ubY-"
      },
      "execution_count": null,
      "outputs": []
    },
    {
      "cell_type": "code",
      "source": [
        "def print_beam():\n",
        "  print('+ - - - -', end=' ')"
      ],
      "metadata": {
        "id": "xxsRJyh2uovY"
      },
      "execution_count": null,
      "outputs": []
    },
    {
      "cell_type": "code",
      "source": [
        "def print_post():\n",
        "  print('|        ', end =' ')"
      ],
      "metadata": {
        "id": "6qtrLtSZu7yS"
      },
      "execution_count": null,
      "outputs": []
    },
    {
      "cell_type": "code",
      "source": [
        "def print_beams():\n",
        "  do_twice(print_beam)"
      ],
      "metadata": {
        "id": "nd2omT3PvTwj"
      },
      "execution_count": null,
      "outputs": []
    },
    {
      "cell_type": "code",
      "source": [
        "def print_posts():\n",
        "  do_twice(print_post)\n",
        "  print('|')"
      ],
      "metadata": {
        "id": "ivY8_AJWvn14"
      },
      "execution_count": null,
      "outputs": []
    },
    {
      "cell_type": "code",
      "source": [
        "def print_row():\n",
        "  print_beams()\n",
        "  do_four(print_posts)"
      ],
      "metadata": {
        "id": "B_dan4ZfvzDo"
      },
      "execution_count": null,
      "outputs": []
    },
    {
      "cell_type": "code",
      "source": [
        "def print_grid():\n",
        "  do_twice(print_row)\n",
        "  print_beams()"
      ],
      "metadata": {
        "id": "xa423Kw4v7wV"
      },
      "execution_count": null,
      "outputs": []
    },
    {
      "cell_type": "code",
      "source": [
        "print_grid()"
      ],
      "metadata": {
        "colab": {
          "base_uri": "https://localhost:8080/"
        },
        "id": "1bW2scNNwEcE",
        "outputId": "e879ca3e-2eb9-4b34-bab6-b8d5d90fd5cf"
      },
      "execution_count": null,
      "outputs": [
        {
          "output_type": "stream",
          "name": "stdout",
          "text": [
            "+ - - - - + - - - - |         |         |\n",
            "|         |         |\n",
            "|         |         |\n",
            "|         |         |\n",
            "+ - - - - + - - - - |         |         |\n",
            "|         |         |\n",
            "|         |         |\n",
            "|         |         |\n",
            "+ - - - - + - - - - "
          ]
        }
      ]
    },
    {
      "cell_type": "markdown",
      "source": [
        "https://[Think_python_grid_pg69](https://github.com/AllenDowney/ThinkPython2/blob/master/code/grid.py)"
      ],
      "metadata": {
        "id": "pkelne1DwUD0"
      }
    },
    {
      "cell_type": "markdown",
      "source": [
        "# C4: Interface Design"
      ],
      "metadata": {
        "id": "kun3Kqwgxp2u"
      }
    },
    {
      "cell_type": "code",
      "source": [
        "import turtle\n",
        "#bob = turtle.Turtle()\n",
        "#print(bob)\n",
        "#turtle.mainloop()"
      ],
      "metadata": {
        "id": "K97hk2J3wm7h"
      },
      "execution_count": null,
      "outputs": []
    },
    {
      "cell_type": "code",
      "source": [
        "#method, loop, Wrapping a piece of code up in a function is called encapsulation"
      ],
      "metadata": {
        "id": "MmbIGqCyy_V0"
      },
      "execution_count": null,
      "outputs": []
    },
    {
      "cell_type": "code",
      "source": [
        "#import math\n",
        "#def circle(t, r):\n",
        "  #circumference=2*math.pi*r\n",
        " # n=50\n",
        " # length = circumference/n\n",
        "  #polygon(t,n,length)"
      ],
      "metadata": {
        "id": "eDhMufDb8irC"
      },
      "execution_count": null,
      "outputs": []
    },
    {
      "cell_type": "code",
      "source": [
        ""
      ],
      "metadata": {
        "id": "cdm8F2v1-ajK"
      },
      "execution_count": null,
      "outputs": []
    },
    {
      "cell_type": "markdown",
      "source": [
        "## A Development Plan\n",
        "A development plan is a process for writing programs. The process we used in this case\n",
        "study is “encapsulation and generalization”. The steps of this process are:\n",
        "1. Start by writing a small program with no function definitions.\n",
        "2. Once you get the program working, identify a coherent piece of it, encapsulate the\n",
        "piece in a function and give it a name.\n",
        "3. Generalize the function by adding appropriate parameters.\n",
        "4. Repeat steps 1–3 until you have a set of working functions. Copy and paste working\n",
        "code to avoid retyping (and re-debugging).\n",
        "5. Look for opportunities to improve the program by refactoring. For example, if you\n",
        "have similar code in several places, consider factoring it into an appropriately\n",
        "general function."
      ],
      "metadata": {
        "id": "fo3QiJ8l_Ac5"
      }
    },
    {
      "cell_type": "code",
      "source": [
        "# triple quotes: more than one line: interface: An interface is like a contract between a function and a caller. The caller agrees to provide\n",
        "#certain parameters and the function agrees to do certain work"
      ],
      "metadata": {
        "id": "xKR8HhKn_K5K"
      },
      "execution_count": null,
      "outputs": []
    },
    {
      "cell_type": "code",
      "source": [
        ""
      ],
      "metadata": {
        "id": "x1Qzzgt5_scd"
      },
      "execution_count": null,
      "outputs": []
    },
    {
      "cell_type": "markdown",
      "source": [
        "These requirements are called preconditions because they are supposed to be true before\n",
        "the function starts executing. Conversely, conditions at the end of the function are\n",
        "postconditions. Postconditions include the intended effect of the function (like drawing\n",
        "line segments) and any side effects (like moving the Turtle or making other changes).\n",
        "Preconditions are the responsibility of the caller. If the caller violates a (properly\n",
        "documented!) precondition and the function doesn’t work correctly, the bug is in the\n",
        "caller, not the function.\n",
        "If the preconditions are satisfied and the postconditions are not, the bug is in the function.\n",
        "If your pre- and postconditions are clear, they can help with debugging"
      ],
      "metadata": {
        "id": "KNeD-R6wAT8I"
      }
    },
    {
      "cell_type": "code",
      "source": [
        ""
      ],
      "metadata": {
        "id": "xMF0Xz_WBbbs"
      },
      "execution_count": null,
      "outputs": []
    },
    {
      "cell_type": "markdown",
      "source": [
        "# C5. Conditionals and Recursion"
      ],
      "metadata": {
        "id": "wGgQbmvJFAaa"
      }
    },
    {
      "cell_type": "code",
      "source": [
        "# Floor division: divides two numbers and rounds down to an integer and \n",
        "#Modulus operator:divides two numbers and returns the remainder"
      ],
      "metadata": {
        "id": "hyTRzBHmFFji"
      },
      "execution_count": null,
      "outputs": []
    },
    {
      "cell_type": "code",
      "source": [
        "minutes = 105\n",
        "hours = minutes //60\n",
        "hours"
      ],
      "metadata": {
        "colab": {
          "base_uri": "https://localhost:8080/"
        },
        "id": "HSFtSPq9F9nv",
        "outputId": "88cf2b04-0899-4dc5-f770-6b171a557b74"
      },
      "execution_count": null,
      "outputs": [
        {
          "output_type": "execute_result",
          "data": {
            "text/plain": [
              "1"
            ]
          },
          "metadata": {},
          "execution_count": 52
        }
      ]
    },
    {
      "cell_type": "markdown",
      "source": [
        "## Modulus operator"
      ],
      "metadata": {
        "id": "dfJh0gdeIUBo"
      }
    },
    {
      "cell_type": "code",
      "source": [
        "reminder = minutes % 60\n",
        "reminder"
      ],
      "metadata": {
        "colab": {
          "base_uri": "https://localhost:8080/"
        },
        "id": "K2iUgX4bGW7p",
        "outputId": "0f19a99c-c582-4ed4-c55f-fafe68a62bc1"
      },
      "execution_count": null,
      "outputs": [
        {
          "output_type": "execute_result",
          "data": {
            "text/plain": [
              "45"
            ]
          },
          "metadata": {},
          "execution_count": 53
        }
      ]
    },
    {
      "cell_type": "code",
      "source": [
        "x=1234\n",
        "y= x%10\n",
        "y"
      ],
      "metadata": {
        "colab": {
          "base_uri": "https://localhost:8080/"
        },
        "id": "BaaPccEVGbeS",
        "outputId": "02a84218-87ee-4ea3-f4c6-a7f21d2734fa"
      },
      "execution_count": null,
      "outputs": [
        {
          "output_type": "execute_result",
          "data": {
            "text/plain": [
              "4"
            ]
          },
          "metadata": {},
          "execution_count": 54
        }
      ]
    },
    {
      "cell_type": "code",
      "source": [
        "y=x%100\n",
        "y"
      ],
      "metadata": {
        "colab": {
          "base_uri": "https://localhost:8080/"
        },
        "id": "Fch5K-4UG4Kq",
        "outputId": "76efaaf4-6b28-464d-b17f-11da2910f613"
      },
      "execution_count": null,
      "outputs": [
        {
          "output_type": "execute_result",
          "data": {
            "text/plain": [
              "34"
            ]
          },
          "metadata": {},
          "execution_count": 55
        }
      ]
    },
    {
      "cell_type": "markdown",
      "source": [
        "## Boolean Expressions\n",
        "A boolean expression is an expression that is either true or false. The following examples\n",
        "use the operator ==, which compares two operands and produces True if they are equal\n",
        "and False otherwise:\n"
      ],
      "metadata": {
        "id": "UdRAbtTWIP5e"
      }
    },
    {
      "cell_type": "code",
      "source": [
        "5==5"
      ],
      "metadata": {
        "id": "kC7u9UHRHDOy",
        "colab": {
          "base_uri": "https://localhost:8080/"
        },
        "outputId": "c0c46ead-8308-40f5-d102-42224a5efd57"
      },
      "execution_count": null,
      "outputs": [
        {
          "output_type": "execute_result",
          "data": {
            "text/plain": [
              "True"
            ]
          },
          "metadata": {},
          "execution_count": 56
        }
      ]
    },
    {
      "cell_type": "code",
      "source": [
        "5==6"
      ],
      "metadata": {
        "colab": {
          "base_uri": "https://localhost:8080/"
        },
        "id": "1se1RgaSItzp",
        "outputId": "1681c742-dd5c-4c02-8911-462d075c801a"
      },
      "execution_count": null,
      "outputs": [
        {
          "output_type": "execute_result",
          "data": {
            "text/plain": [
              "False"
            ]
          },
          "metadata": {},
          "execution_count": 57
        }
      ]
    },
    {
      "cell_type": "code",
      "source": [
        "type (True)"
      ],
      "metadata": {
        "colab": {
          "base_uri": "https://localhost:8080/"
        },
        "id": "OLr-BdMOIvw4",
        "outputId": "111033ba-3b61-4736-9df1-a015983db288"
      },
      "execution_count": null,
      "outputs": [
        {
          "output_type": "execute_result",
          "data": {
            "text/plain": [
              "bool"
            ]
          },
          "metadata": {},
          "execution_count": 58
        }
      ]
    },
    {
      "cell_type": "markdown",
      "source": [
        "The == operator is one of the relational operators; the others are:\n",
        "\n",
        "x != y # x is not equal to y\n",
        "\n",
        "x > y # x is greater than y\n",
        "\n",
        "x < y # x is less than y\n",
        "\n",
        "x >= y # x is greater than or equal to y\n",
        "\n",
        "x <= y # x is less than or equal to y\n",
        "\n",
        "Although these operations are probably familiar to you, the Python symbols are different\n",
        "from the mathematical symbols.\n",
        "A common error is to use a single equal sign (=) instead\n",
        "of a double equal sign (==).\n",
        "Remember that = is an assignment operator and == is a\n",
        "relational operator. There is no such thing as =< or =>"
      ],
      "metadata": {
        "id": "6FyCCpZkJtVg"
      }
    },
    {
      "cell_type": "markdown",
      "source": [
        "## Logical operators\n",
        "There are three logical operators: and, or, and not. The semantics (meaning) of these\n",
        "operators is similar to their meaning in English. For example, x > 0 and x < 10 is true\n",
        "only if x is greater than 0 and less than 10.\n",
        "\n",
        "n%2 == 0 or n%3 == 0 is true if either or both of the conditions is true, that is, if the\n",
        "number is divisible by 2 or 3.\n",
        "\n",
        "Strictly speaking, the operands of the logical operators should be boolean expressions, but\n",
        "Python is not very strict. Any nonzero number is interpreted as True\n"
      ],
      "metadata": {
        "id": "PBw1EwdGKI7c"
      }
    },
    {
      "cell_type": "code",
      "source": [
        "42 and True"
      ],
      "metadata": {
        "colab": {
          "base_uri": "https://localhost:8080/"
        },
        "id": "0-g1uE3IJQqj",
        "outputId": "49ef7fd3-c9ab-4044-d394-4ad479784c89"
      },
      "execution_count": null,
      "outputs": [
        {
          "output_type": "execute_result",
          "data": {
            "text/plain": [
              "True"
            ]
          },
          "metadata": {},
          "execution_count": 59
        }
      ]
    },
    {
      "cell_type": "code",
      "source": [
        ""
      ],
      "metadata": {
        "id": "te5dZ3BPJvxg"
      },
      "execution_count": null,
      "outputs": []
    },
    {
      "cell_type": "markdown",
      "source": [
        "## Conditional execution\n",
        "In order to write useful programs, we almost always need the ability to check conditions\n",
        "and change the behavior of the program accordingly. Conditional statements give us this\n",
        "ability. The simplest form is the if statement:\n",
        "\n",
        "if x > 0:\n",
        "\n",
        "  print('x is positive')\n",
        "\n",
        "The boolean expression after if is called the condition. If it is true, the indented statement\n",
        "runs. If not, nothing happens.\n",
        "\n",
        "if statements have the same structure as function definitions: a header followed by an\n",
        "indented body. Statements like this are called compound statements.\n",
        "\n",
        "There is no limit on the number of statements that can appear in the body, but there has to\n",
        "be at least one. Occasionally, it is useful to have a body with no statements (usually as a\n",
        "place keeper for code you haven’t written yet). In that case, you can use the pass\n",
        "statement, which does nothing."
      ],
      "metadata": {
        "id": "xKqbnJTfL_RD"
      }
    },
    {
      "cell_type": "code",
      "source": [
        "if x<0:\n",
        "  pass"
      ],
      "metadata": {
        "id": "D7SmDYFJMdML"
      },
      "execution_count": null,
      "outputs": []
    },
    {
      "cell_type": "code",
      "source": [
        "# alternative exercution: The\n",
        "#alternatives are called branches, because they are branches in the flow of execution\n",
        "\n",
        "if x % 2 == 0:\n",
        "  print('x is even')\n",
        "else:\n",
        "  print('x is odd')"
      ],
      "metadata": {
        "colab": {
          "base_uri": "https://localhost:8080/"
        },
        "id": "k0jdQG4_MlFL",
        "outputId": "29208678-dc1c-4250-f6d9-b8b8e7af4367"
      },
      "execution_count": null,
      "outputs": [
        {
          "output_type": "stream",
          "name": "stdout",
          "text": [
            "x is even\n"
          ]
        }
      ]
    },
    {
      "cell_type": "code",
      "source": [
        ""
      ],
      "metadata": {
        "id": "v3PLeSrNM9OQ"
      },
      "execution_count": null,
      "outputs": []
    },
    {
      "cell_type": "markdown",
      "source": [
        "## Chained conditionals\n",
        "Sometimes there are more than two possibilities and we need more than two branches.\n",
        "One way to express a computation like that is a chained conditional:\n",
        "if x < y:\n",
        "\n",
        "print('x is less than y')\n",
        "\n",
        "elif x > y:\n",
        "\n",
        "print('x is greater than y')\n",
        "\n",
        "else:\n",
        "\n",
        "print('x and y are equal')\n",
        "\n",
        "There is no limit\n",
        "on the number of elif statements. If there is an else clause, it has to be at the end, but\n",
        "there doesn’t have to be one.\n",
        "\n",
        "\n",
        "if choice == 'a':\n",
        "\n",
        "draw_a()\n",
        "\n",
        "elif choice == 'b':\n",
        "\n",
        "draw_b()\n",
        "\n",
        "elif choice == 'c':\n",
        "\n",
        "draw_c()\n",
        "\n",
        "Each condition is checked in order. If the first is false, the next is checked, and so on. If\n",
        "one of them is true, the corresponding branch runs and the statement ends. Even if more\n",
        "than one condition is true, only the first true branch runs.\n"
      ],
      "metadata": {
        "id": "ajqOacBeU3vR"
      }
    },
    {
      "cell_type": "code",
      "source": [
        ""
      ],
      "metadata": {
        "id": "b8ddiDyCNAdA"
      },
      "execution_count": null,
      "outputs": []
    },
    {
      "cell_type": "markdown",
      "source": [
        "# nested conditionals"
      ],
      "metadata": {
        "id": "waQiZKUCN91l"
      }
    },
    {
      "cell_type": "code",
      "source": [
        "x=9\n",
        "y=3"
      ],
      "metadata": {
        "id": "WFdn2fMUOnNw"
      },
      "execution_count": null,
      "outputs": []
    },
    {
      "cell_type": "code",
      "source": [
        "# Nested\n",
        "if x == y:\n",
        "  print('x and y are equal')\n",
        "else:\n",
        "  if x<y:\n",
        "    print('x is less than y')\n",
        "  else:\n",
        "    print('x is greater than y')"
      ],
      "metadata": {
        "colab": {
          "base_uri": "https://localhost:8080/"
        },
        "id": "E6a14v9FOEtx",
        "outputId": "516fbb0a-e85f-4757-88f9-3a64a3dad0fd"
      },
      "execution_count": null,
      "outputs": [
        {
          "output_type": "stream",
          "name": "stdout",
          "text": [
            "x is greater than y\n"
          ]
        }
      ]
    },
    {
      "cell_type": "code",
      "source": [
        "#alternative to nested: body compute after passing two conditionals without nesting\n",
        "if 0<x:\n",
        "  if x<10:\n",
        "    print('x is a positive single-digit number')"
      ],
      "metadata": {
        "colab": {
          "base_uri": "https://localhost:8080/"
        },
        "id": "6yBAac4wOgH1",
        "outputId": "5a6cec30-dd79-456f-a892-5138a2b527bc"
      },
      "execution_count": null,
      "outputs": [
        {
          "output_type": "stream",
          "name": "stdout",
          "text": [
            "x is a positive single-digit number\n"
          ]
        }
      ]
    },
    {
      "cell_type": "code",
      "source": [
        "if 0<x and x<10:\n",
        "  print(' x is a positive single digit number')"
      ],
      "metadata": {
        "colab": {
          "base_uri": "https://localhost:8080/"
        },
        "id": "f_SN216xPDcT",
        "outputId": "3a95e498-b31e-4e17-d350-780c11961159"
      },
      "execution_count": null,
      "outputs": [
        {
          "output_type": "stream",
          "name": "stdout",
          "text": [
            " x is a positive single digit number\n"
          ]
        }
      ]
    },
    {
      "cell_type": "code",
      "source": [
        "if 0<x<10:\n",
        "  print('x is a positive single digit number')"
      ],
      "metadata": {
        "colab": {
          "base_uri": "https://localhost:8080/"
        },
        "id": "RRPKSLTOP0bg",
        "outputId": "9dc990fc-fce0-416a-ab2d-6db54736756f"
      },
      "execution_count": null,
      "outputs": [
        {
          "output_type": "stream",
          "name": "stdout",
          "text": [
            "x is a positive single digit number\n"
          ]
        }
      ]
    },
    {
      "cell_type": "markdown",
      "source": [
        "## recursion\n",
        "It is legal for one function to call another; it is also legal for a function to call itself. It may\n",
        "not be obvious why that is a good thing, but it turns out to be one of the most magical\n",
        "things a program can do."
      ],
      "metadata": {
        "id": "CAZS40lXQCDf"
      }
    },
    {
      "cell_type": "code",
      "source": [
        "def countdown(n):\n",
        "  if n<=0:\n",
        "    print('blastoff!')\n",
        "  else:\n",
        "    print(n, end=' ')\n",
        "    countdown(n-1)\n"
      ],
      "metadata": {
        "id": "uYKPvBf4P-M9"
      },
      "execution_count": null,
      "outputs": []
    },
    {
      "cell_type": "code",
      "source": [
        "countdown(10)"
      ],
      "metadata": {
        "colab": {
          "base_uri": "https://localhost:8080/"
        },
        "id": "dNuYvMlOQ22K",
        "outputId": "e0101133-c240-40ba-f19c-3d3118a75c19"
      },
      "execution_count": null,
      "outputs": [
        {
          "output_type": "stream",
          "name": "stdout",
          "text": [
            "10 9 8 7 6 5 4 3 2 1 blastoff!\n"
          ]
        }
      ]
    },
    {
      "cell_type": "code",
      "source": [
        "def countdown(n):\n",
        "  if n<=0:\n",
        "    print('blastoff!')\n",
        "  else:\n",
        "    print(n)\n",
        "    countdown(n-1)\n"
      ],
      "metadata": {
        "id": "iWbWNM8JQ5ph"
      },
      "execution_count": null,
      "outputs": []
    },
    {
      "cell_type": "code",
      "source": [
        "countdown(10)"
      ],
      "metadata": {
        "colab": {
          "base_uri": "https://localhost:8080/"
        },
        "id": "1e_v8enwREaA",
        "outputId": "7ca65bcb-20e2-4aba-a7af-5795fef9861f"
      },
      "execution_count": null,
      "outputs": [
        {
          "output_type": "stream",
          "name": "stdout",
          "text": [
            "10\n",
            "9\n",
            "8\n",
            "7\n",
            "6\n",
            "5\n",
            "4\n",
            "3\n",
            "2\n",
            "1\n",
            "blastoff!\n"
          ]
        }
      ]
    },
    {
      "cell_type": "markdown",
      "source": [
        "A function that calls itself is recursive; the process of executing it is called recursion"
      ],
      "metadata": {
        "id": "xfu3l4JMS4Tz"
      }
    },
    {
      "cell_type": "code",
      "source": [
        "def print_n(s,n):\n",
        "  if n<=0:\n",
        "    return\n",
        "  print(s)\n",
        "  print_n(s, n-1)"
      ],
      "metadata": {
        "id": "MAzs0bPDRGnn"
      },
      "execution_count": null,
      "outputs": []
    },
    {
      "cell_type": "code",
      "source": [
        "print_n('holy', 5)"
      ],
      "metadata": {
        "colab": {
          "base_uri": "https://localhost:8080/"
        },
        "id": "c4cf8_y2S1gY",
        "outputId": "0731a7e7-7faa-4aca-e02f-b05ef47fdaff"
      },
      "execution_count": null,
      "outputs": [
        {
          "output_type": "stream",
          "name": "stdout",
          "text": [
            "holy\n",
            "holy\n",
            "holy\n",
            "holy\n",
            "holy\n"
          ]
        }
      ]
    },
    {
      "cell_type": "markdown",
      "source": [
        "## Infinite recursion\n",
        "If a recursion never reaches a base case, it goes on making recursive calls forever, and the\n",
        "program never terminates. This is known as infinite recursion, and it is generally not a\n",
        "good idea.\n",
        "In most programming environments, a program with infinite recursion does not really run\n",
        "forever. Python reports an error message when the maximum recursion depth is reached"
      ],
      "metadata": {
        "id": "ZErfUUGBdIaM"
      }
    },
    {
      "cell_type": "code",
      "source": [
        "def recurse():\n",
        "  recurse()"
      ],
      "metadata": {
        "id": "Ja3eAGWLT92P"
      },
      "execution_count": null,
      "outputs": []
    },
    {
      "cell_type": "code",
      "source": [
        "recurse()"
      ],
      "metadata": {
        "colab": {
          "base_uri": "https://localhost:8080/",
          "height": 294
        },
        "id": "lhmtFTX9eamN",
        "outputId": "6c82a9b7-4caf-43e2-9cc7-87dc87affabe"
      },
      "execution_count": null,
      "outputs": [
        {
          "output_type": "error",
          "ename": "RecursionError",
          "evalue": "ignored",
          "traceback": [
            "\u001b[0;31m---------------------------------------------------------------------------\u001b[0m",
            "\u001b[0;31mRecursionError\u001b[0m                            Traceback (most recent call last)",
            "\u001b[0;32m<ipython-input-74-b67bdaf44d76>\u001b[0m in \u001b[0;36m<module>\u001b[0;34m()\u001b[0m\n\u001b[0;32m----> 1\u001b[0;31m \u001b[0mrecurse\u001b[0m\u001b[0;34m(\u001b[0m\u001b[0;34m)\u001b[0m\u001b[0;34m\u001b[0m\u001b[0;34m\u001b[0m\u001b[0m\n\u001b[0m",
            "\u001b[0;32m<ipython-input-73-2aea437b87f8>\u001b[0m in \u001b[0;36mrecurse\u001b[0;34m()\u001b[0m\n\u001b[1;32m      1\u001b[0m \u001b[0;32mdef\u001b[0m \u001b[0mrecurse\u001b[0m\u001b[0;34m(\u001b[0m\u001b[0;34m)\u001b[0m\u001b[0;34m:\u001b[0m\u001b[0;34m\u001b[0m\u001b[0;34m\u001b[0m\u001b[0m\n\u001b[0;32m----> 2\u001b[0;31m   \u001b[0mrecurse\u001b[0m\u001b[0;34m(\u001b[0m\u001b[0;34m)\u001b[0m\u001b[0;34m\u001b[0m\u001b[0;34m\u001b[0m\u001b[0m\n\u001b[0m",
            "... last 1 frames repeated, from the frame below ...\n",
            "\u001b[0;32m<ipython-input-73-2aea437b87f8>\u001b[0m in \u001b[0;36mrecurse\u001b[0;34m()\u001b[0m\n\u001b[1;32m      1\u001b[0m \u001b[0;32mdef\u001b[0m \u001b[0mrecurse\u001b[0m\u001b[0;34m(\u001b[0m\u001b[0;34m)\u001b[0m\u001b[0;34m:\u001b[0m\u001b[0;34m\u001b[0m\u001b[0;34m\u001b[0m\u001b[0m\n\u001b[0;32m----> 2\u001b[0;31m   \u001b[0mrecurse\u001b[0m\u001b[0;34m(\u001b[0m\u001b[0;34m)\u001b[0m\u001b[0;34m\u001b[0m\u001b[0;34m\u001b[0m\u001b[0m\n\u001b[0m",
            "\u001b[0;31mRecursionError\u001b[0m: maximum recursion depth exceeded"
          ]
        }
      ]
    },
    {
      "cell_type": "markdown",
      "source": [
        "## Keyboard input\n",
        "Python provides a built-in function called input that stops the program and waits for the\n",
        "user to type something. When the user presses Return or Enter, the program resumes and\n",
        "input returns what the user typed as a string"
      ],
      "metadata": {
        "id": "24KMc5Vzel56"
      }
    },
    {
      "cell_type": "code",
      "source": [
        "text=input()"
      ],
      "metadata": {
        "colab": {
          "base_uri": "https://localhost:8080/"
        },
        "id": "3SGibg8yeeZd",
        "outputId": "ce620b22-cca7-4aaa-94b7-85668b57359e"
      },
      "execution_count": null,
      "outputs": [
        {
          "name": "stdout",
          "output_type": "stream",
          "text": [
            "What do you want?\n"
          ]
        }
      ]
    },
    {
      "cell_type": "code",
      "source": [
        "text"
      ],
      "metadata": {
        "colab": {
          "base_uri": "https://localhost:8080/",
          "height": 35
        },
        "id": "byTEXTjPe3NO",
        "outputId": "82962538-58e9-4b39-f70e-593d6127d179"
      },
      "execution_count": null,
      "outputs": [
        {
          "output_type": "execute_result",
          "data": {
            "application/vnd.google.colaboratory.intrinsic+json": {
              "type": "string"
            },
            "text/plain": [
              "'What do you want?'"
            ]
          },
          "metadata": {},
          "execution_count": 80
        }
      ]
    },
    {
      "cell_type": "markdown",
      "source": [
        "Before getting input from the user, it is a good idea to print a prompt telling the user what\n",
        "to type. input can take a prompt as an argument"
      ],
      "metadata": {
        "id": "iRtrPckWfMJP"
      }
    },
    {
      "cell_type": "code",
      "source": [
        "name = input('what is your name?\\n')"
      ],
      "metadata": {
        "colab": {
          "base_uri": "https://localhost:8080/"
        },
        "id": "YXdYQ4SYfBO2",
        "outputId": "9190e2c8-378e-4c60-8147-993318e9343c"
      },
      "execution_count": null,
      "outputs": [
        {
          "name": "stdout",
          "output_type": "stream",
          "text": [
            "what is your name?\n",
            "Curious Soul\n"
          ]
        }
      ]
    },
    {
      "cell_type": "code",
      "source": [
        "name"
      ],
      "metadata": {
        "colab": {
          "base_uri": "https://localhost:8080/",
          "height": 35
        },
        "id": "ndOvH2Y3fNLF",
        "outputId": "8246272e-8b27-4fff-9cab-5b71a6db9566"
      },
      "execution_count": null,
      "outputs": [
        {
          "output_type": "execute_result",
          "data": {
            "application/vnd.google.colaboratory.intrinsic+json": {
              "type": "string"
            },
            "text/plain": [
              "'Curious Soul'"
            ]
          },
          "metadata": {},
          "execution_count": 82
        }
      ]
    },
    {
      "cell_type": "code",
      "source": [
        "prompt =' what is the airspeed velocity of an unladen swallow?\\n'\n",
        "speed = input(prompt)"
      ],
      "metadata": {
        "colab": {
          "base_uri": "https://localhost:8080/"
        },
        "id": "ScQfvSMifeFG",
        "outputId": "1e393cde-7de0-4645-c903-2c9f19fd7fcb"
      },
      "execution_count": null,
      "outputs": [
        {
          "name": "stdout",
          "output_type": "stream",
          "text": [
            " what is the airspeed velocity of an unladen swallow?\n",
            "42\n"
          ]
        }
      ]
    },
    {
      "cell_type": "code",
      "source": [
        "int(speed)"
      ],
      "metadata": {
        "colab": {
          "base_uri": "https://localhost:8080/"
        },
        "id": "DZ48SF9vf2Lt",
        "outputId": "5d3a74a8-347b-4911-9812-fb96361f1f9b"
      },
      "execution_count": null,
      "outputs": [
        {
          "output_type": "execute_result",
          "data": {
            "text/plain": [
              "42"
            ]
          },
          "metadata": {},
          "execution_count": 84
        }
      ]
    },
    {
      "cell_type": "code",
      "source": [
        "float(speed)"
      ],
      "metadata": {
        "colab": {
          "base_uri": "https://localhost:8080/"
        },
        "id": "3DZz9vfaf6ht",
        "outputId": "09fca234-d86e-4b68-e2aa-7db9f4c64d8f"
      },
      "execution_count": null,
      "outputs": [
        {
          "output_type": "execute_result",
          "data": {
            "text/plain": [
              "42.0"
            ]
          },
          "metadata": {},
          "execution_count": 85
        }
      ]
    },
    {
      "cell_type": "code",
      "source": [
        "speed = input(prompt)\n",
        "int(speed)"
      ],
      "metadata": {
        "colab": {
          "base_uri": "https://localhost:8080/"
        },
        "id": "AMJ52lidf751",
        "outputId": "c787f65a-dae5-44e4-ee94-65794f386127"
      },
      "execution_count": null,
      "outputs": [
        {
          "name": "stdout",
          "output_type": "stream",
          "text": [
            " what is the airspeed velocity of an unladen swallow?\n",
            "42\n"
          ]
        },
        {
          "output_type": "execute_result",
          "data": {
            "text/plain": [
              "42"
            ]
          },
          "metadata": {},
          "execution_count": 86
        }
      ]
    },
    {
      "cell_type": "code",
      "source": [
        "x = 5\n",
        "  y=6"
      ],
      "metadata": {
        "colab": {
          "base_uri": "https://localhost:8080/",
          "height": 130
        },
        "id": "avcQ7Ww6gQOm",
        "outputId": "46af3364-74ba-46c1-e0b5-45f6030caa8c"
      },
      "execution_count": null,
      "outputs": [
        {
          "output_type": "error",
          "ename": "IndentationError",
          "evalue": "ignored",
          "traceback": [
            "\u001b[0;36m  File \u001b[0;32m\"<ipython-input-87-33c67cd075d8>\"\u001b[0;36m, line \u001b[0;32m2\u001b[0m\n\u001b[0;31m    y=6\u001b[0m\n\u001b[0m    ^\u001b[0m\n\u001b[0;31mIndentationError\u001b[0m\u001b[0;31m:\u001b[0m unexpected indent\n"
          ]
        }
      ]
    },
    {
      "cell_type": "code",
      "source": [
        "import math\n",
        "signal_power = 9\n",
        "noise_power = 10\n",
        "ratio = signal_power // noise_power\n",
        "decibels = 10 * math.log10(ratio)\n",
        "print(decibels)"
      ],
      "metadata": {
        "colab": {
          "base_uri": "https://localhost:8080/",
          "height": 217
        },
        "id": "gL8cHsRDhzHY",
        "outputId": "03451c02-6818-4bd4-e411-f2421f985bf7"
      },
      "execution_count": null,
      "outputs": [
        {
          "output_type": "error",
          "ename": "ValueError",
          "evalue": "ignored",
          "traceback": [
            "\u001b[0;31m---------------------------------------------------------------------------\u001b[0m",
            "\u001b[0;31mValueError\u001b[0m                                Traceback (most recent call last)",
            "\u001b[0;32m<ipython-input-88-b7de43b79c71>\u001b[0m in \u001b[0;36m<module>\u001b[0;34m()\u001b[0m\n\u001b[1;32m      3\u001b[0m \u001b[0mnoise_power\u001b[0m \u001b[0;34m=\u001b[0m \u001b[0;36m10\u001b[0m\u001b[0;34m\u001b[0m\u001b[0;34m\u001b[0m\u001b[0m\n\u001b[1;32m      4\u001b[0m \u001b[0mratio\u001b[0m \u001b[0;34m=\u001b[0m \u001b[0msignal_power\u001b[0m \u001b[0;34m//\u001b[0m \u001b[0mnoise_power\u001b[0m\u001b[0;34m\u001b[0m\u001b[0;34m\u001b[0m\u001b[0m\n\u001b[0;32m----> 5\u001b[0;31m \u001b[0mdecibels\u001b[0m \u001b[0;34m=\u001b[0m \u001b[0;36m10\u001b[0m \u001b[0;34m*\u001b[0m \u001b[0mmath\u001b[0m\u001b[0;34m.\u001b[0m\u001b[0mlog10\u001b[0m\u001b[0;34m(\u001b[0m\u001b[0mratio\u001b[0m\u001b[0;34m)\u001b[0m\u001b[0;34m\u001b[0m\u001b[0;34m\u001b[0m\u001b[0m\n\u001b[0m\u001b[1;32m      6\u001b[0m \u001b[0mprint\u001b[0m\u001b[0;34m(\u001b[0m\u001b[0mdecibels\u001b[0m\u001b[0;34m)\u001b[0m\u001b[0;34m\u001b[0m\u001b[0;34m\u001b[0m\u001b[0m\n",
            "\u001b[0;31mValueError\u001b[0m: math domain error"
          ]
        }
      ]
    },
    {
      "cell_type": "markdown",
      "source": [
        "The error message indicates line 5, but there is nothing wrong with that line. To find the\n",
        "real error, it might be useful to print the value of ratio, which turns out to be 0. The\n",
        "problem is in line 4, which uses floor division instead of floating-point division.\n",
        "You should take the time to read error messages carefully, but don’t assume that\n",
        "everything they say is correct"
      ],
      "metadata": {
        "id": "VOQ2PJv0i1gK"
      }
    },
    {
      "cell_type": "code",
      "source": [
        "import math\n",
        "signal_power = 9\n",
        "noise_power = 10\n",
        "ratio = signal_power / noise_power\n",
        "decibels = 10 * math.log10(ratio)\n",
        "print(decibels)"
      ],
      "metadata": {
        "colab": {
          "base_uri": "https://localhost:8080/"
        },
        "id": "Ai53_Yw_ik3O",
        "outputId": "31d7b878-f739-47fa-ccf3-95927ea8f840"
      },
      "execution_count": null,
      "outputs": [
        {
          "output_type": "stream",
          "name": "stdout",
          "text": [
            "-0.4575749056067512\n"
          ]
        }
      ]
    },
    {
      "cell_type": "markdown",
      "source": [
        "floor division:\n",
        "An operator, denoted //, that divides two numbers and rounds down (toward zero) to\n",
        "an integer.\n",
        "\n",
        "modulus operator:\n",
        "An operator, denoted with a percent sign (%), that works on integers and returns the\n",
        "remainder when one number is divided by another.\n"
      ],
      "metadata": {
        "id": "dhpPiR97jIbo"
      }
    },
    {
      "cell_type": "code",
      "source": [
        "# Exercise 5-1\n",
        "import time\n",
        "time.time()"
      ],
      "metadata": {
        "colab": {
          "base_uri": "https://localhost:8080/"
        },
        "id": "TXnoHhVCi36k",
        "outputId": "f65e3535-ffe3-468d-c555-6c4dbbf32781"
      },
      "execution_count": null,
      "outputs": [
        {
          "output_type": "execute_result",
          "data": {
            "text/plain": [
              "1645678605.2443228"
            ]
          },
          "metadata": {},
          "execution_count": 90
        }
      ]
    },
    {
      "cell_type": "code",
      "source": [
        "# Exercise 5-4\n",
        "def recurse(n, s):\n",
        "  if n == 0:\n",
        "    print(s)\n",
        "  else:\n",
        "    recurse(n-1, n+s)\n",
        "recurse(3, 0)"
      ],
      "metadata": {
        "colab": {
          "base_uri": "https://localhost:8080/"
        },
        "id": "LZg1Ic00jJVV",
        "outputId": "561f3a36-bb4e-439b-be23-b32844a95b6b"
      },
      "execution_count": null,
      "outputs": [
        {
          "output_type": "stream",
          "name": "stdout",
          "text": [
            "6\n"
          ]
        }
      ]
    },
    {
      "cell_type": "code",
      "source": [
        "recurse(-1, 0)"
      ],
      "metadata": {
        "colab": {
          "base_uri": "https://localhost:8080/",
          "height": 328
        },
        "id": "HUlX0xJRnNG2",
        "outputId": "3720ecf6-05a1-4a52-c6f7-ab8f6c180e02"
      },
      "execution_count": null,
      "outputs": [
        {
          "output_type": "error",
          "ename": "RecursionError",
          "evalue": "ignored",
          "traceback": [
            "\u001b[0;31m---------------------------------------------------------------------------\u001b[0m",
            "\u001b[0;31mRecursionError\u001b[0m                            Traceback (most recent call last)",
            "\u001b[0;32m<ipython-input-92-6da4f5310c53>\u001b[0m in \u001b[0;36m<module>\u001b[0;34m()\u001b[0m\n\u001b[0;32m----> 1\u001b[0;31m \u001b[0mrecurse\u001b[0m\u001b[0;34m(\u001b[0m\u001b[0;34m-\u001b[0m\u001b[0;36m1\u001b[0m\u001b[0;34m,\u001b[0m \u001b[0;36m0\u001b[0m\u001b[0;34m)\u001b[0m\u001b[0;34m\u001b[0m\u001b[0;34m\u001b[0m\u001b[0m\n\u001b[0m",
            "\u001b[0;32m<ipython-input-91-219cac6f0d27>\u001b[0m in \u001b[0;36mrecurse\u001b[0;34m(n, s)\u001b[0m\n\u001b[1;32m      4\u001b[0m     \u001b[0mprint\u001b[0m\u001b[0;34m(\u001b[0m\u001b[0ms\u001b[0m\u001b[0;34m)\u001b[0m\u001b[0;34m\u001b[0m\u001b[0;34m\u001b[0m\u001b[0m\n\u001b[1;32m      5\u001b[0m   \u001b[0;32melse\u001b[0m\u001b[0;34m:\u001b[0m\u001b[0;34m\u001b[0m\u001b[0;34m\u001b[0m\u001b[0m\n\u001b[0;32m----> 6\u001b[0;31m     \u001b[0mrecurse\u001b[0m\u001b[0;34m(\u001b[0m\u001b[0mn\u001b[0m\u001b[0;34m-\u001b[0m\u001b[0;36m1\u001b[0m\u001b[0;34m,\u001b[0m \u001b[0mn\u001b[0m\u001b[0;34m+\u001b[0m\u001b[0ms\u001b[0m\u001b[0;34m)\u001b[0m\u001b[0;34m\u001b[0m\u001b[0;34m\u001b[0m\u001b[0m\n\u001b[0m\u001b[1;32m      7\u001b[0m \u001b[0mrecurse\u001b[0m\u001b[0;34m(\u001b[0m\u001b[0;36m3\u001b[0m\u001b[0;34m,\u001b[0m \u001b[0;36m0\u001b[0m\u001b[0;34m)\u001b[0m\u001b[0;34m\u001b[0m\u001b[0;34m\u001b[0m\u001b[0m\n",
            "... last 1 frames repeated, from the frame below ...\n",
            "\u001b[0;32m<ipython-input-91-219cac6f0d27>\u001b[0m in \u001b[0;36mrecurse\u001b[0;34m(n, s)\u001b[0m\n\u001b[1;32m      4\u001b[0m     \u001b[0mprint\u001b[0m\u001b[0;34m(\u001b[0m\u001b[0ms\u001b[0m\u001b[0;34m)\u001b[0m\u001b[0;34m\u001b[0m\u001b[0;34m\u001b[0m\u001b[0m\n\u001b[1;32m      5\u001b[0m   \u001b[0;32melse\u001b[0m\u001b[0;34m:\u001b[0m\u001b[0;34m\u001b[0m\u001b[0;34m\u001b[0m\u001b[0m\n\u001b[0;32m----> 6\u001b[0;31m     \u001b[0mrecurse\u001b[0m\u001b[0;34m(\u001b[0m\u001b[0mn\u001b[0m\u001b[0;34m-\u001b[0m\u001b[0;36m1\u001b[0m\u001b[0;34m,\u001b[0m \u001b[0mn\u001b[0m\u001b[0;34m+\u001b[0m\u001b[0ms\u001b[0m\u001b[0;34m)\u001b[0m\u001b[0;34m\u001b[0m\u001b[0;34m\u001b[0m\u001b[0m\n\u001b[0m\u001b[1;32m      7\u001b[0m \u001b[0mrecurse\u001b[0m\u001b[0;34m(\u001b[0m\u001b[0;36m3\u001b[0m\u001b[0;34m,\u001b[0m \u001b[0;36m0\u001b[0m\u001b[0;34m)\u001b[0m\u001b[0;34m\u001b[0m\u001b[0;34m\u001b[0m\u001b[0m\n",
            "\u001b[0;31mRecursionError\u001b[0m: maximum recursion depth exceeded in comparison"
          ]
        }
      ]
    },
    {
      "cell_type": "code",
      "source": [
        "''' First check if 3==0, no? recurse(3-1, 3+0)\n",
        "  2, 3\n",
        "      1, 5\n",
        "          0, 6\n",
        "              if n==0, print(6)'''"
      ],
      "metadata": {
        "colab": {
          "base_uri": "https://localhost:8080/",
          "height": 53
        },
        "id": "ICD5hvobnQXt",
        "outputId": "a8a42678-9834-445d-9098-615baeeec909"
      },
      "execution_count": null,
      "outputs": [
        {
          "output_type": "execute_result",
          "data": {
            "application/vnd.google.colaboratory.intrinsic+json": {
              "type": "string"
            },
            "text/plain": [
              "' First check if 3==0, no? recurse(3-1, 3+0)\\n  2, 3\\n      1, 5\\n          0, 6\\n              if n==0, print(6)'"
            ]
          },
          "metadata": {},
          "execution_count": 93
        }
      ]
    },
    {
      "cell_type": "markdown",
      "source": [
        "# C6. Fruitful functions"
      ],
      "metadata": {
        "id": "pJslTzwLsRtN"
      }
    },
    {
      "cell_type": "code",
      "source": [
        "# dead code: code after return statement\n",
        "def absolute_value(x):\n",
        "  if x < 0:\n",
        "    return -x\n",
        "  if x > 0:\n",
        "    return x"
      ],
      "metadata": {
        "id": "eGYjL4Buoedt"
      },
      "execution_count": null,
      "outputs": []
    },
    {
      "cell_type": "code",
      "source": [
        "absolute_value(10)"
      ],
      "metadata": {
        "colab": {
          "base_uri": "https://localhost:8080/"
        },
        "id": "SUK5RirvuwlW",
        "outputId": "ef733d20-dbec-4ca8-c467-7a96df1f9632"
      },
      "execution_count": null,
      "outputs": [
        {
          "output_type": "execute_result",
          "data": {
            "text/plain": [
              "10"
            ]
          },
          "metadata": {},
          "execution_count": 95
        }
      ]
    },
    {
      "cell_type": "code",
      "source": [
        "absolute_value(0) #None"
      ],
      "metadata": {
        "id": "s4CLr_vRu0i1"
      },
      "execution_count": null,
      "outputs": []
    },
    {
      "cell_type": "markdown",
      "source": [
        "## incremental development"
      ],
      "metadata": {
        "id": "w-zq2RGVyAwP"
      }
    },
    {
      "cell_type": "code",
      "source": [
        "def distance(x1, y1, x2, y2):\n",
        "  return 0.0"
      ],
      "metadata": {
        "id": "H11PgjapyHvb"
      },
      "execution_count": null,
      "outputs": []
    },
    {
      "cell_type": "code",
      "source": [
        "distance(1,2,4,6)"
      ],
      "metadata": {
        "colab": {
          "base_uri": "https://localhost:8080/"
        },
        "id": "VSDMwr7TyZ6-",
        "outputId": "28c36992-98b2-4540-bf0f-196b7018808f"
      },
      "execution_count": null,
      "outputs": [
        {
          "output_type": "execute_result",
          "data": {
            "text/plain": [
              "0.0"
            ]
          },
          "metadata": {},
          "execution_count": 98
        }
      ]
    },
    {
      "cell_type": "code",
      "source": [
        "def distance(x1, y1, x2, y2):\n",
        "  dx = x2-x1\n",
        "  dy = y2-y1\n",
        "  print('dx is', dx)\n",
        "  print('dy is', dy)\n",
        "  return 0.0"
      ],
      "metadata": {
        "id": "5e8W9rhEyiqd"
      },
      "execution_count": null,
      "outputs": []
    },
    {
      "cell_type": "code",
      "source": [
        "distance(1,2,4,6)"
      ],
      "metadata": {
        "colab": {
          "base_uri": "https://localhost:8080/"
        },
        "id": "Aq_Mj7VLy7Hb",
        "outputId": "0a60ed58-9168-4db7-dc38-08f5460ba776"
      },
      "execution_count": null,
      "outputs": [
        {
          "output_type": "stream",
          "name": "stdout",
          "text": [
            "dx is 3\n",
            "dy is 4\n"
          ]
        },
        {
          "output_type": "execute_result",
          "data": {
            "text/plain": [
              "0.0"
            ]
          },
          "metadata": {},
          "execution_count": 100
        }
      ]
    },
    {
      "cell_type": "code",
      "source": [
        "def distance(x1, y1, x2, y2):\n",
        "  dx = x2-x1\n",
        "  dy = y2-y1\n",
        "  dsquared = dx**2 + dy**2\n",
        "  print('dsquared is:', dsquared)\n",
        "  return 0.0"
      ],
      "metadata": {
        "id": "F6TmeDS4zBrP"
      },
      "execution_count": null,
      "outputs": []
    },
    {
      "cell_type": "code",
      "source": [
        "distance(1,2,4,6)"
      ],
      "metadata": {
        "colab": {
          "base_uri": "https://localhost:8080/"
        },
        "id": "XE_KrzxI0P3k",
        "outputId": "2e3ec2dd-e54f-4b68-def1-b5fd8c95c7c9"
      },
      "execution_count": null,
      "outputs": [
        {
          "output_type": "stream",
          "name": "stdout",
          "text": [
            "dsquared is: 25\n"
          ]
        },
        {
          "output_type": "execute_result",
          "data": {
            "text/plain": [
              "0.0"
            ]
          },
          "metadata": {},
          "execution_count": 102
        }
      ]
    },
    {
      "cell_type": "code",
      "source": [
        "def distance(x1, y1, x2,y2):\n",
        "  dx=x2-x1\n",
        "  dy=y2-y1\n",
        "  dsquared=dx**2+dy**2\n",
        "  result = math.sqrt(dsquared)\n",
        "  return result"
      ],
      "metadata": {
        "id": "qtP64Y4A0THz"
      },
      "execution_count": null,
      "outputs": []
    },
    {
      "cell_type": "code",
      "source": [
        "distance(1,2,4,6)"
      ],
      "metadata": {
        "colab": {
          "base_uri": "https://localhost:8080/"
        },
        "id": "kkzbz8iF0xCt",
        "outputId": "fa016205-524c-46ba-e781-f3141c291910"
      },
      "execution_count": null,
      "outputs": [
        {
          "output_type": "execute_result",
          "data": {
            "text/plain": [
              "5.0"
            ]
          },
          "metadata": {},
          "execution_count": 104
        }
      ]
    },
    {
      "cell_type": "markdown",
      "source": [
        "The final version of the function doesn’t display anything when it runs; it only returns a\n",
        "value. The print statements we wrote are useful for debugging, but once you get the\n",
        "function working, you should remove them. Code like that is called scaffolding because it\n",
        "is helpful for building the program but is not part of the final product.\n",
        "\n",
        "When you start out, you should add only a line or two of code at a time. As you gain more\n",
        "experience, you might find yourself writing and debugging bigger chunks. Either way,\n",
        "incremental development can save you a lot of debugging time."
      ],
      "metadata": {
        "id": "KX6zVsG72J1w"
      }
    },
    {
      "cell_type": "markdown",
      "source": [
        "The key aspects of the process are:\n",
        "1. Start with a working program and make small incremental changes. At any point, if\n",
        "there is an error, you should have a good idea where it is.\n",
        "2. Use variables to hold intermediate values so you can display and check them.\n",
        "3. Once the program is working, you might want to remove some of the scaffolding or\n",
        "consolidate multiple statements into compound expressions, but only if it does not\n",
        "make the program difficult to read."
      ],
      "metadata": {
        "id": "SX-3pIF12ULn"
      }
    },
    {
      "cell_type": "code",
      "source": [
        "def circle_area(xc, yc, xp, yp):\n",
        "  radius = distance(xc, yc, xp, yp)\n",
        "  result = area(radius)\n",
        "  return result"
      ],
      "metadata": {
        "id": "HcJ-NxAf2QGK"
      },
      "execution_count": null,
      "outputs": []
    },
    {
      "cell_type": "code",
      "source": [
        "circle_area(1,2,4,6)"
      ],
      "metadata": {
        "colab": {
          "base_uri": "https://localhost:8080/",
          "height": 270
        },
        "id": "0qis0Du-3QOc",
        "outputId": "a70a1fb1-59b2-4683-fd31-65ea1d286000"
      },
      "execution_count": null,
      "outputs": [
        {
          "output_type": "error",
          "ename": "NameError",
          "evalue": "ignored",
          "traceback": [
            "\u001b[0;31m---------------------------------------------------------------------------\u001b[0m",
            "\u001b[0;31mNameError\u001b[0m                                 Traceback (most recent call last)",
            "\u001b[0;32m<ipython-input-106-71abf4c9ccdb>\u001b[0m in \u001b[0;36m<module>\u001b[0;34m()\u001b[0m\n\u001b[0;32m----> 1\u001b[0;31m \u001b[0mcircle_area\u001b[0m\u001b[0;34m(\u001b[0m\u001b[0;36m1\u001b[0m\u001b[0;34m,\u001b[0m\u001b[0;36m2\u001b[0m\u001b[0;34m,\u001b[0m\u001b[0;36m4\u001b[0m\u001b[0;34m,\u001b[0m\u001b[0;36m6\u001b[0m\u001b[0;34m)\u001b[0m\u001b[0;34m\u001b[0m\u001b[0;34m\u001b[0m\u001b[0m\n\u001b[0m",
            "\u001b[0;32m<ipython-input-105-a83d518bf318>\u001b[0m in \u001b[0;36mcircle_area\u001b[0;34m(xc, yc, xp, yp)\u001b[0m\n\u001b[1;32m      1\u001b[0m \u001b[0;32mdef\u001b[0m \u001b[0mcircle_area\u001b[0m\u001b[0;34m(\u001b[0m\u001b[0mxc\u001b[0m\u001b[0;34m,\u001b[0m \u001b[0myc\u001b[0m\u001b[0;34m,\u001b[0m \u001b[0mxp\u001b[0m\u001b[0;34m,\u001b[0m \u001b[0myp\u001b[0m\u001b[0;34m)\u001b[0m\u001b[0;34m:\u001b[0m\u001b[0;34m\u001b[0m\u001b[0;34m\u001b[0m\u001b[0m\n\u001b[1;32m      2\u001b[0m   \u001b[0mradius\u001b[0m \u001b[0;34m=\u001b[0m \u001b[0mdistance\u001b[0m\u001b[0;34m(\u001b[0m\u001b[0mxc\u001b[0m\u001b[0;34m,\u001b[0m \u001b[0myc\u001b[0m\u001b[0;34m,\u001b[0m \u001b[0mxp\u001b[0m\u001b[0;34m,\u001b[0m \u001b[0myp\u001b[0m\u001b[0;34m)\u001b[0m\u001b[0;34m\u001b[0m\u001b[0;34m\u001b[0m\u001b[0m\n\u001b[0;32m----> 3\u001b[0;31m   \u001b[0mresult\u001b[0m \u001b[0;34m=\u001b[0m \u001b[0marea\u001b[0m\u001b[0;34m(\u001b[0m\u001b[0mradius\u001b[0m\u001b[0;34m)\u001b[0m\u001b[0;34m\u001b[0m\u001b[0;34m\u001b[0m\u001b[0m\n\u001b[0m\u001b[1;32m      4\u001b[0m   \u001b[0;32mreturn\u001b[0m \u001b[0mresult\u001b[0m\u001b[0;34m\u001b[0m\u001b[0;34m\u001b[0m\u001b[0m\n",
            "\u001b[0;31mNameError\u001b[0m: name 'area' is not defined"
          ]
        }
      ]
    },
    {
      "cell_type": "code",
      "source": [
        "def area(radius):\n",
        "  a = math.pi*radius**2\n",
        "  return a"
      ],
      "metadata": {
        "id": "_zquPFAY3U28"
      },
      "execution_count": null,
      "outputs": []
    },
    {
      "cell_type": "code",
      "source": [
        "area(5)"
      ],
      "metadata": {
        "colab": {
          "base_uri": "https://localhost:8080/"
        },
        "id": "c9-udDr13kgj",
        "outputId": "a8166749-a7a2-49fe-92fa-66407a8bed8f"
      },
      "execution_count": null,
      "outputs": [
        {
          "output_type": "execute_result",
          "data": {
            "text/plain": [
              "78.53981633974483"
            ]
          },
          "metadata": {},
          "execution_count": 109
        }
      ]
    },
    {
      "cell_type": "code",
      "source": [
        "circle_area(1,2,4,6)"
      ],
      "metadata": {
        "colab": {
          "base_uri": "https://localhost:8080/"
        },
        "id": "cJ8pesAP3pdr",
        "outputId": "681e91c7-ee7d-4c6f-cbf2-372c6fdd6d5d"
      },
      "execution_count": null,
      "outputs": [
        {
          "output_type": "execute_result",
          "data": {
            "text/plain": [
              "78.53981633974483"
            ]
          },
          "metadata": {},
          "execution_count": 110
        }
      ]
    },
    {
      "cell_type": "code",
      "source": [
        ""
      ],
      "metadata": {
        "id": "BBTIUUk53-4q"
      },
      "execution_count": null,
      "outputs": []
    },
    {
      "cell_type": "markdown",
      "source": [
        "## boolean functions"
      ],
      "metadata": {
        "id": "9h_k8z2B5Fir"
      }
    },
    {
      "cell_type": "code",
      "source": [
        "def is_divisible(x,y):\n",
        "  if x % y == 0:\n",
        "    return True\n",
        "  else:\n",
        "    return False"
      ],
      "metadata": {
        "id": "svOmOu3O5Hp9"
      },
      "execution_count": null,
      "outputs": []
    },
    {
      "cell_type": "code",
      "source": [
        "is_divisible(6,4)"
      ],
      "metadata": {
        "colab": {
          "base_uri": "https://localhost:8080/"
        },
        "id": "LsQVlKmJ9gNb",
        "outputId": "307248f8-84ef-4df2-b9f1-734713551a00"
      },
      "execution_count": null,
      "outputs": [
        {
          "output_type": "execute_result",
          "data": {
            "text/plain": [
              "False"
            ]
          },
          "metadata": {},
          "execution_count": 112
        }
      ]
    },
    {
      "cell_type": "code",
      "source": [
        "is_divisible(6,3)"
      ],
      "metadata": {
        "colab": {
          "base_uri": "https://localhost:8080/"
        },
        "id": "oOCBooms9lBD",
        "outputId": "430649d2-1a0d-4a26-c2a1-c0823a1eebef"
      },
      "execution_count": null,
      "outputs": [
        {
          "output_type": "execute_result",
          "data": {
            "text/plain": [
              "True"
            ]
          },
          "metadata": {},
          "execution_count": 113
        }
      ]
    },
    {
      "cell_type": "markdown",
      "source": [
        "The result of the == operator is a boolean, so we can write the function more concisely by\n",
        "returning it directly"
      ],
      "metadata": {
        "id": "L2abxcFv93UB"
      }
    },
    {
      "cell_type": "code",
      "source": [
        "def is_divisible(x,y):\n",
        "  return x % y ==0\n",
        "is_divisible(2,6)"
      ],
      "metadata": {
        "colab": {
          "base_uri": "https://localhost:8080/"
        },
        "id": "lGCHhvLQ9pss",
        "outputId": "70da035f-c88c-40aa-c6b9-ac0ce684430e"
      },
      "execution_count": null,
      "outputs": [
        {
          "output_type": "execute_result",
          "data": {
            "text/plain": [
              "False"
            ]
          },
          "metadata": {},
          "execution_count": 114
        }
      ]
    },
    {
      "cell_type": "code",
      "source": [
        "is_divisible(6,2)"
      ],
      "metadata": {
        "colab": {
          "base_uri": "https://localhost:8080/"
        },
        "id": "IIepA2sh94NC",
        "outputId": "b88e9636-58d3-4dc6-c8b0-c6244196e511"
      },
      "execution_count": null,
      "outputs": [
        {
          "output_type": "execute_result",
          "data": {
            "text/plain": [
              "True"
            ]
          },
          "metadata": {},
          "execution_count": 115
        }
      ]
    },
    {
      "cell_type": "code",
      "source": [
        "def is_between(x,y,z):\n",
        "  if x<=y<=z:\n",
        "    return True\n",
        "  else:\n",
        "    return False"
      ],
      "metadata": {
        "id": "e23j-jTS-4ae"
      },
      "execution_count": null,
      "outputs": []
    },
    {
      "cell_type": "code",
      "source": [
        "is_between(2,8,9)"
      ],
      "metadata": {
        "colab": {
          "base_uri": "https://localhost:8080/"
        },
        "id": "Ra0xdO1VAMlL",
        "outputId": "510adbd6-8762-4684-c000-5ab72ba8e2ec"
      },
      "execution_count": null,
      "outputs": [
        {
          "output_type": "execute_result",
          "data": {
            "text/plain": [
              "True"
            ]
          },
          "metadata": {},
          "execution_count": 117
        }
      ]
    },
    {
      "cell_type": "code",
      "source": [
        "#166 Page No"
      ],
      "metadata": {
        "id": "FopRdcbzARTq"
      },
      "execution_count": null,
      "outputs": []
    },
    {
      "cell_type": "code",
      "source": [
        ""
      ],
      "metadata": {
        "id": "sDf-3805FlmC"
      },
      "execution_count": null,
      "outputs": []
    },
    {
      "cell_type": "markdown",
      "source": [
        "## More Recursion"
      ],
      "metadata": {
        "id": "MLk6J6jo_UWn"
      }
    },
    {
      "cell_type": "code",
      "source": [
        "def factorial(n):\n",
        "  if n == 0:\n",
        "    return 1\n",
        "  else:\n",
        "    recurse = factorial(n-1)\n",
        "    result = n* recurse\n",
        "    result = n * recurse\n",
        "    return result"
      ],
      "metadata": {
        "id": "JJ8yTcseGJIt"
      },
      "execution_count": null,
      "outputs": []
    },
    {
      "cell_type": "code",
      "source": [
        "factorial(9)"
      ],
      "metadata": {
        "colab": {
          "base_uri": "https://localhost:8080/"
        },
        "id": "oDUvTxgqGwHa",
        "outputId": "6b0687fc-78f5-4b55-9a30-1d9cf092a6bb"
      },
      "execution_count": null,
      "outputs": [
        {
          "output_type": "execute_result",
          "data": {
            "text/plain": [
              "362880"
            ]
          },
          "metadata": {},
          "execution_count": 120
        }
      ]
    },
    {
      "cell_type": "code",
      "source": [
        "factorial(0)"
      ],
      "metadata": {
        "colab": {
          "base_uri": "https://localhost:8080/"
        },
        "id": "9xj1BTI9GzVC",
        "outputId": "588202e1-ef98-4e6b-c25a-a5ab2417af16"
      },
      "execution_count": null,
      "outputs": [
        {
          "output_type": "execute_result",
          "data": {
            "text/plain": [
              "1"
            ]
          },
          "metadata": {},
          "execution_count": 121
        }
      ]
    },
    {
      "cell_type": "code",
      "source": [
        "factorial(100)"
      ],
      "metadata": {
        "colab": {
          "base_uri": "https://localhost:8080/"
        },
        "id": "AvC96ogwG2do",
        "outputId": "3599c952-9769-4f6a-d671-85eb2d8236e7"
      },
      "execution_count": null,
      "outputs": [
        {
          "output_type": "execute_result",
          "data": {
            "text/plain": [
              "93326215443944152681699238856266700490715968264381621468592963895217599993229915608941463976156518286253697920827223758251185210916864000000000000000000000000"
            ]
          },
          "metadata": {},
          "execution_count": 122
        }
      ]
    },
    {
      "cell_type": "code",
      "source": [
        "factorial(1000)"
      ],
      "metadata": {
        "colab": {
          "base_uri": "https://localhost:8080/",
          "height": 346
        },
        "id": "B2YMAl0uG4gK",
        "outputId": "8b9538d1-8abb-4ac4-dbdf-c1d4c16490ea"
      },
      "execution_count": null,
      "outputs": [
        {
          "output_type": "error",
          "ename": "RecursionError",
          "evalue": "ignored",
          "traceback": [
            "\u001b[0;31m---------------------------------------------------------------------------\u001b[0m",
            "\u001b[0;31mRecursionError\u001b[0m                            Traceback (most recent call last)",
            "\u001b[0;32m<ipython-input-124-0b8d23898b9b>\u001b[0m in \u001b[0;36m<module>\u001b[0;34m()\u001b[0m\n\u001b[0;32m----> 1\u001b[0;31m \u001b[0mfactorial\u001b[0m\u001b[0;34m(\u001b[0m\u001b[0;36m1000\u001b[0m\u001b[0;34m)\u001b[0m\u001b[0;34m\u001b[0m\u001b[0;34m\u001b[0m\u001b[0m\n\u001b[0m",
            "\u001b[0;32m<ipython-input-119-5204b1465f69>\u001b[0m in \u001b[0;36mfactorial\u001b[0;34m(n)\u001b[0m\n\u001b[1;32m      3\u001b[0m     \u001b[0;32mreturn\u001b[0m \u001b[0;36m1\u001b[0m\u001b[0;34m\u001b[0m\u001b[0;34m\u001b[0m\u001b[0m\n\u001b[1;32m      4\u001b[0m   \u001b[0;32melse\u001b[0m\u001b[0;34m:\u001b[0m\u001b[0;34m\u001b[0m\u001b[0;34m\u001b[0m\u001b[0m\n\u001b[0;32m----> 5\u001b[0;31m     \u001b[0mrecurse\u001b[0m \u001b[0;34m=\u001b[0m \u001b[0mfactorial\u001b[0m\u001b[0;34m(\u001b[0m\u001b[0mn\u001b[0m\u001b[0;34m-\u001b[0m\u001b[0;36m1\u001b[0m\u001b[0;34m)\u001b[0m\u001b[0;34m\u001b[0m\u001b[0;34m\u001b[0m\u001b[0m\n\u001b[0m\u001b[1;32m      6\u001b[0m     \u001b[0mresult\u001b[0m \u001b[0;34m=\u001b[0m \u001b[0mn\u001b[0m\u001b[0;34m*\u001b[0m \u001b[0mrecurse\u001b[0m\u001b[0;34m\u001b[0m\u001b[0;34m\u001b[0m\u001b[0m\n\u001b[1;32m      7\u001b[0m     \u001b[0mresult\u001b[0m \u001b[0;34m=\u001b[0m \u001b[0mn\u001b[0m \u001b[0;34m*\u001b[0m \u001b[0mrecurse\u001b[0m\u001b[0;34m\u001b[0m\u001b[0;34m\u001b[0m\u001b[0m\n",
            "... last 1 frames repeated, from the frame below ...\n",
            "\u001b[0;32m<ipython-input-119-5204b1465f69>\u001b[0m in \u001b[0;36mfactorial\u001b[0;34m(n)\u001b[0m\n\u001b[1;32m      3\u001b[0m     \u001b[0;32mreturn\u001b[0m \u001b[0;36m1\u001b[0m\u001b[0;34m\u001b[0m\u001b[0;34m\u001b[0m\u001b[0m\n\u001b[1;32m      4\u001b[0m   \u001b[0;32melse\u001b[0m\u001b[0;34m:\u001b[0m\u001b[0;34m\u001b[0m\u001b[0;34m\u001b[0m\u001b[0m\n\u001b[0;32m----> 5\u001b[0;31m     \u001b[0mrecurse\u001b[0m \u001b[0;34m=\u001b[0m \u001b[0mfactorial\u001b[0m\u001b[0;34m(\u001b[0m\u001b[0mn\u001b[0m\u001b[0;34m-\u001b[0m\u001b[0;36m1\u001b[0m\u001b[0;34m)\u001b[0m\u001b[0;34m\u001b[0m\u001b[0;34m\u001b[0m\u001b[0m\n\u001b[0m\u001b[1;32m      6\u001b[0m     \u001b[0mresult\u001b[0m \u001b[0;34m=\u001b[0m \u001b[0mn\u001b[0m\u001b[0;34m*\u001b[0m \u001b[0mrecurse\u001b[0m\u001b[0;34m\u001b[0m\u001b[0;34m\u001b[0m\u001b[0m\n\u001b[1;32m      7\u001b[0m     \u001b[0mresult\u001b[0m \u001b[0;34m=\u001b[0m \u001b[0mn\u001b[0m \u001b[0;34m*\u001b[0m \u001b[0mrecurse\u001b[0m\u001b[0;34m\u001b[0m\u001b[0;34m\u001b[0m\u001b[0m\n",
            "\u001b[0;31mRecursionError\u001b[0m: maximum recursion depth exceeded in comparison"
          ]
        }
      ]
    },
    {
      "cell_type": "code",
      "source": [
        "factorial(968)"
      ],
      "metadata": {
        "colab": {
          "base_uri": "https://localhost:8080/"
        },
        "id": "MGPJ9M5iG8wP",
        "outputId": "0cd1094a-b27f-4618-b11c-441d81bb694f"
      },
      "execution_count": null,
      "outputs": [
        {
          "output_type": "execute_result",
          "data": {
            "text/plain": [
              "664281859377706235192276234565735250298568313080526163562226238075190230264260968184891752376551055458858868845802771628998265183359657872849110022955882655189833013229049439318347811680355299701904679694647881149111960747002616558499159930034562656909570044323303107667613126850702236175933392658287984267795168869866655546086373961126640643493002192149149589430599885850470638761667252980522443755822245696263607872205631669346321628886572549328231847211559951826546237412596594227374267165676091028080773281367997049855638888289693960776920898443319590886522505141920372578800743515002232457035837540322152095005614039813604940244740322154291989440470969758700664661206389740639685720542157509260553812351796372638856443137152445775461105022165213448780995031143624923972342176598057489490032310361156551978888682608614105985955471234328654986436508921031947491856978125270693505979483833975868938803000183499601990951768261614953969456203601790994331224932421694290073628552184232742758034388762816373139491535489873471003958890525853918831534178546689330491330536547725283747803439836444446686636364959567448398503288367883690540658265662821767308792812082252570803466521792843597654003420008122537336884893013129091158834382300606656480872235523350294508829733670488820174822559406868193015100879062889628448581229840345645893314304232228206458630258163150562583853136112224332490697072456997229389058751315238439641541541620827302400266663488380417676391944451359847595528565068633223383159791538709891415420262977834308648078493095741788601534309143636175862955283418424715831760243609217052270707883580084081809212733334375045732533594318319088178984355011010043779685654814694511560095464396131045602018897308591795762650046234954923255043382175979167812948383373984946306663853569834366905802758443498159140215108265020134392390695222990876084873772394232715419443503472974237462776879829648140005803152750153482561231977493094790737598781535881102558770598040372737018562185088875063368629875191668273801474753544765169528968047055394726165070658202074377925031548589573668994437364746283719197598621980176359865919509098133211316156147859804034333315519977260946172624443111086625505843823618065133882891620807626824089600000000000000000000000000000000000000000000000000000000000000000000000000000000000000000000000000000000000000000000000000000000000000000000000000000000000000000000000000000000000000000000000000000000000000000000000000000000000000000000000"
            ]
          },
          "metadata": {},
          "execution_count": 140
        }
      ]
    },
    {
      "cell_type": "code",
      "source": [
        "def fibonacci(n):\n",
        "  if n == 0:\n",
        "    return 0\n",
        "  elif n == 1:\n",
        "    return 1\n",
        "  else:\n",
        "    return fibonacci(n-1)+fibonacci(n-2)"
      ],
      "metadata": {
        "id": "w-EcBi-yHHDU"
      },
      "execution_count": null,
      "outputs": []
    },
    {
      "cell_type": "markdown",
      "source": [
        "If you try to follow the flow of execution here, even for fairly small values of n, your head\n",
        "explodes. But according to the leap of faith, if you assume that the two recursive calls\n",
        "work correctly, then it is clear that you get the right result by adding them together"
      ],
      "metadata": {
        "id": "Ezhd14SDQAtm"
      }
    },
    {
      "cell_type": "code",
      "source": [
        "fibonacci(5)"
      ],
      "metadata": {
        "colab": {
          "base_uri": "https://localhost:8080/"
        },
        "id": "PprVqUCgP4sv",
        "outputId": "e7bcd560-528e-4f1d-9e45-11649b044a8b"
      },
      "execution_count": null,
      "outputs": [
        {
          "output_type": "execute_result",
          "data": {
            "text/plain": [
              "5"
            ]
          },
          "metadata": {},
          "execution_count": 142
        }
      ]
    },
    {
      "cell_type": "code",
      "source": [
        "# debugging with check statements\n",
        "def factorial(n):\n",
        "  space = ' ' * (4*n)\n",
        "  print(space, 'factorial', n)\n",
        "  if n == 0:\n",
        "    print(space, 'returning 1')\n",
        "    return 1\n",
        "  else:\n",
        "    recurse = factorial(n-1)\n",
        "    result= n* recurse\n",
        "    print(space, 'returning', result)\n",
        "    return result"
      ],
      "metadata": {
        "id": "s7wSEW62QeiT"
      },
      "execution_count": null,
      "outputs": []
    },
    {
      "cell_type": "code",
      "source": [
        "factorial(4)"
      ],
      "metadata": {
        "colab": {
          "base_uri": "https://localhost:8080/"
        },
        "id": "GJt_5FySe-bX",
        "outputId": "804a53d3-1bf4-4ad3-fbf4-5a12c03b6c16"
      },
      "execution_count": null,
      "outputs": [
        {
          "output_type": "stream",
          "name": "stdout",
          "text": [
            "                 factorial 4\n",
            "             factorial 3\n",
            "         factorial 2\n",
            "     factorial 1\n",
            " factorial 0\n",
            " returning 1\n",
            "     returning 1\n",
            "         returning 2\n",
            "             returning 6\n",
            "                 returning 24\n"
          ]
        },
        {
          "output_type": "execute_result",
          "data": {
            "text/plain": [
              "24"
            ]
          },
          "metadata": {},
          "execution_count": 145
        }
      ]
    },
    {
      "cell_type": "markdown",
      "source": [
        "If you are confused about the flow of execution, this kind of output can be helpful. It takes\n",
        "some time to develop effective scaffolding, but a little bit of scaffolding can save a lot of\n",
        "debugging\n",
        "\n",
        "temporary variable:\n",
        "\n",
        "A variable used to store an intermediate value in a complex calculation.\n",
        "\n",
        "dead code:\n",
        "\n",
        "Part of a program that can never run, often because it appears after a return\n",
        "statement.\n",
        "\n",
        "incremental development:\n",
        "\n",
        "A program development plan intended to avoid debugging by adding and testing only\n",
        "a small amount of code at a time.\n",
        "\n",
        "scaffolding:\n",
        "\n",
        "Code that is used during program development but is not part of the final version.\n",
        "\n",
        "guardian:\n",
        "\n",
        "A programming pattern that uses a conditional statement to check for and handle\n",
        "circumstances that might cause an error"
      ],
      "metadata": {
        "id": "7eLbJQBwfI_S"
      }
    },
    {
      "cell_type": "code",
      "source": [
        "# Exercise 6:3\n",
        "def first(word):\n",
        "  return word[0]\n",
        "def last(word):\n",
        "  return word[-1]\n",
        "def middle(word):\n",
        "  return word[1:-1]\n",
        "\n",
        "def is_palindrome(word):\n",
        "  if len(word) <=1:\n",
        "    return True\n",
        "  if first(word) != last(word):\n",
        "    return False\n",
        "  return is_palindrome(middle(word))"
      ],
      "metadata": {
        "id": "eykfeqY-fAuS"
      },
      "execution_count": null,
      "outputs": []
    },
    {
      "cell_type": "code",
      "source": [
        "is_palindrome('allen')"
      ],
      "metadata": {
        "colab": {
          "base_uri": "https://localhost:8080/"
        },
        "id": "EGYaLMIRfKAv",
        "outputId": "9f033fa0-dee2-4f1d-e285-8c401b413dcf"
      },
      "execution_count": null,
      "outputs": [
        {
          "output_type": "execute_result",
          "data": {
            "text/plain": [
              "False"
            ]
          },
          "metadata": {},
          "execution_count": 147
        }
      ]
    },
    {
      "cell_type": "code",
      "source": [
        "is_palindrome('20022022')"
      ],
      "metadata": {
        "colab": {
          "base_uri": "https://localhost:8080/"
        },
        "id": "YIqOLEzYiXz4",
        "outputId": "52b979a8-68d9-43de-88db-b5209add2ee4"
      },
      "execution_count": null,
      "outputs": [
        {
          "output_type": "execute_result",
          "data": {
            "text/plain": [
              "False"
            ]
          },
          "metadata": {},
          "execution_count": 148
        }
      ]
    },
    {
      "cell_type": "code",
      "source": [
        "is_palindrome('bob')"
      ],
      "metadata": {
        "colab": {
          "base_uri": "https://localhost:8080/"
        },
        "id": "U9IRsFRBiepK",
        "outputId": "f7490419-4719-4d66-f9a7-462e01b6ddd4"
      },
      "execution_count": null,
      "outputs": [
        {
          "output_type": "execute_result",
          "data": {
            "text/plain": [
              "True"
            ]
          },
          "metadata": {},
          "execution_count": 149
        }
      ]
    },
    {
      "cell_type": "code",
      "source": [
        "is_palindrome('redivider')"
      ],
      "metadata": {
        "colab": {
          "base_uri": "https://localhost:8080/"
        },
        "id": "8QDIHOTwiifh",
        "outputId": "2a84575f-a695-4cea-cac4-1140907e15d6"
      },
      "execution_count": null,
      "outputs": [
        {
          "output_type": "execute_result",
          "data": {
            "text/plain": [
              "True"
            ]
          },
          "metadata": {},
          "execution_count": 151
        }
      ]
    },
    {
      "cell_type": "code",
      "source": [
        "def is_divisible(a,b):\n",
        "  if a % b == 0:\n",
        "    return True\n",
        "  else:\n",
        "    return False"
      ],
      "metadata": {
        "id": "ot7voFxVim1t"
      },
      "execution_count": null,
      "outputs": []
    },
    {
      "cell_type": "code",
      "source": [
        "is_divisible(4, 2)"
      ],
      "metadata": {
        "colab": {
          "base_uri": "https://localhost:8080/"
        },
        "id": "OPdT1fMfjpyo",
        "outputId": "779f60d9-e22d-4213-979e-d178be36fb17"
      },
      "execution_count": null,
      "outputs": [
        {
          "output_type": "execute_result",
          "data": {
            "text/plain": [
              "True"
            ]
          },
          "metadata": {},
          "execution_count": 154
        }
      ]
    },
    {
      "cell_type": "code",
      "source": [
        "is_divisible(123435, 5)"
      ],
      "metadata": {
        "colab": {
          "base_uri": "https://localhost:8080/"
        },
        "id": "HosLKVp8juM-",
        "outputId": "cb210613-5f11-499a-a096-cb48ea60a467"
      },
      "execution_count": null,
      "outputs": [
        {
          "output_type": "execute_result",
          "data": {
            "text/plain": [
              "True"
            ]
          },
          "metadata": {},
          "execution_count": 157
        }
      ]
    },
    {
      "cell_type": "code",
      "source": [
        "is_divisible(123334, 3)"
      ],
      "metadata": {
        "colab": {
          "base_uri": "https://localhost:8080/"
        },
        "id": "mkJtffdnj_9q",
        "outputId": "9400c668-e489-4dc8-b2c2-e9ca3c41dbfb"
      },
      "execution_count": null,
      "outputs": [
        {
          "output_type": "execute_result",
          "data": {
            "text/plain": [
              "False"
            ]
          },
          "metadata": {},
          "execution_count": 158
        }
      ]
    },
    {
      "cell_type": "markdown",
      "source": [
        "The greatest common divisor (GCD) of a and b is the largest number that divides both of\n",
        "them with no remainder.\n",
        "One way to find the GCD of two numbers is based on the observation that if r is the\n",
        "remainder when a is divided by b, then . As a base case, we\n",
        "can use .\n",
        "Write a function called gcd that takes parameters a and b and returns their greatest\n",
        "common divisor.\n",
        "\n",
        "Credit: This exercise is based on an example from Abelson and Sussman’s Structure and\n",
        "Interpretation of Computer Programs (MIT Press, 1996).\n",
        "\n"
      ],
      "metadata": {
        "id": "u8nRhPpmlGk-"
      }
    },
    {
      "cell_type": "code",
      "source": [
        "import math\n",
        "x= 24\n",
        "y=6\n",
        "gcd =math.gcd(x,y)\n",
        "gcd"
      ],
      "metadata": {
        "colab": {
          "base_uri": "https://localhost:8080/"
        },
        "id": "ySnNC1G_kHID",
        "outputId": "a7b84d5f-7680-4bea-e6e0-10e01a729d62"
      },
      "execution_count": null,
      "outputs": [
        {
          "output_type": "execute_result",
          "data": {
            "text/plain": [
              "6"
            ]
          },
          "metadata": {},
          "execution_count": 162
        }
      ]
    },
    {
      "cell_type": "code",
      "source": [
        "math.gcd(1240, 5)"
      ],
      "metadata": {
        "colab": {
          "base_uri": "https://localhost:8080/"
        },
        "id": "Kia-9_nHlJwA",
        "outputId": "3a98bdcf-4108-4071-e98d-6d2891108e99"
      },
      "execution_count": null,
      "outputs": [
        {
          "output_type": "execute_result",
          "data": {
            "text/plain": [
              "5"
            ]
          },
          "metadata": {},
          "execution_count": 163
        }
      ]
    },
    {
      "cell_type": "code",
      "source": [
        "# Using recursion\n",
        "def hcf(a , b):\n",
        "  if (b == 0):\n",
        "    print('returning base', b)\n",
        "    return a\n",
        "  else:\n",
        "    print('returning higest common factor', b)\n",
        "    return hcf(b, a % b)\n",
        "    "
      ],
      "metadata": {
        "id": "Zc8rzA9YoCbf"
      },
      "execution_count": null,
      "outputs": []
    },
    {
      "cell_type": "code",
      "source": [
        "hcf(60,48)"
      ],
      "metadata": {
        "colab": {
          "base_uri": "https://localhost:8080/"
        },
        "id": "QApG7D-fohl3",
        "outputId": "d5749920-9f75-4614-c7d8-8909d5aec3d6"
      },
      "execution_count": null,
      "outputs": [
        {
          "output_type": "stream",
          "name": "stdout",
          "text": [
            "returning higest common factor 48\n",
            "returning higest common factor 12\n",
            "returning base 0\n"
          ]
        },
        {
          "output_type": "execute_result",
          "data": {
            "text/plain": [
              "12"
            ]
          },
          "metadata": {},
          "execution_count": 180
        }
      ]
    },
    {
      "cell_type": "code",
      "source": [
        "hcf(98, 56)"
      ],
      "metadata": {
        "colab": {
          "base_uri": "https://localhost:8080/"
        },
        "id": "iRqAHRy1omsP",
        "outputId": "d6d8e537-c820-42b1-b147-7aacc91f2412"
      },
      "execution_count": null,
      "outputs": [
        {
          "output_type": "stream",
          "name": "stdout",
          "text": [
            "returning higest common factor 56\n",
            "returning higest common factor 42\n",
            "returning higest common factor 14\n",
            "returning base 0\n"
          ]
        },
        {
          "output_type": "execute_result",
          "data": {
            "text/plain": [
              "14"
            ]
          },
          "metadata": {},
          "execution_count": 181
        }
      ]
    },
    {
      "cell_type": "code",
      "source": [
        "# Using Euclidean Algorithm\n",
        "def gcd(a,b):\n",
        "  if (a == 0):\n",
        "    return b\n",
        "  if (b == 0):\n",
        "    return a\n",
        "  \n",
        "  # base case\n",
        "  if (a==b):\n",
        "    return a\n",
        "  \n",
        "  if a>b:\n",
        "    return gcd(a-b, b)\n",
        "  return gcd(a, b-a)\n",
        "  a = 98\n",
        "  b = 56\n",
        "  if (gcd(a,b)):\n",
        "    print('gcd of', a, 'and', b, 'is', gcd(a,b))\n",
        "  else:\n",
        "    print('not found')"
      ],
      "metadata": {
        "id": "lWhebNckrWc3"
      },
      "execution_count": null,
      "outputs": []
    },
    {
      "cell_type": "code",
      "source": [
        "gcd(98,56)"
      ],
      "metadata": {
        "colab": {
          "base_uri": "https://localhost:8080/"
        },
        "id": "XR6RXlm0tGp2",
        "outputId": "e6723a68-e27d-4e0c-a1bb-acc880123af0"
      },
      "execution_count": null,
      "outputs": [
        {
          "output_type": "execute_result",
          "data": {
            "text/plain": [
              "14"
            ]
          },
          "metadata": {},
          "execution_count": 183
        }
      ]
    },
    {
      "cell_type": "code",
      "source": [
        ""
      ],
      "metadata": {
        "id": "rl2A7tUotOcO"
      },
      "execution_count": null,
      "outputs": []
    },
    {
      "cell_type": "markdown",
      "source": [
        "# C7. Iteration"
      ],
      "metadata": {
        "id": "R6hOAlQVvZty"
      }
    },
    {
      "cell_type": "code",
      "source": [
        "# Reassigning '=' is not the mathematical proposition of equality\n",
        "a =5\n",
        "b=a\n",
        "a=3"
      ],
      "metadata": {
        "id": "Guxb9RSLvcP9"
      },
      "execution_count": null,
      "outputs": []
    },
    {
      "cell_type": "code",
      "source": [
        "b"
      ],
      "metadata": {
        "colab": {
          "base_uri": "https://localhost:8080/"
        },
        "id": "ek9xzo2oGrqq",
        "outputId": "d9e8422e-647a-4cfc-e747-12febd8864cf"
      },
      "execution_count": null,
      "outputs": [
        {
          "output_type": "execute_result",
          "data": {
            "text/plain": [
              "5"
            ]
          },
          "metadata": {},
          "execution_count": 2
        }
      ]
    },
    {
      "cell_type": "code",
      "source": [
        "a"
      ],
      "metadata": {
        "colab": {
          "base_uri": "https://localhost:8080/"
        },
        "id": "mCghiLV5GtvZ",
        "outputId": "2ae5bc25-b68a-4065-a278-0a3679fa0ce0"
      },
      "execution_count": null,
      "outputs": [
        {
          "output_type": "execute_result",
          "data": {
            "text/plain": [
              "3"
            ]
          },
          "metadata": {},
          "execution_count": 3
        }
      ]
    },
    {
      "cell_type": "code",
      "source": [
        ""
      ],
      "metadata": {
        "id": "yomhYZ0VGu0i"
      },
      "execution_count": null,
      "outputs": []
    },
    {
      "cell_type": "markdown",
      "source": [
        "The third line changes the value of a but does not change the value of b, so they are no\n",
        "longer equal."
      ],
      "metadata": {
        "id": "74ki5_RgG0w7"
      }
    },
    {
      "cell_type": "code",
      "source": [
        "# updating variables\n",
        "a = a+1"
      ],
      "metadata": {
        "id": "vr8la8zJG11p"
      },
      "execution_count": null,
      "outputs": []
    },
    {
      "cell_type": "code",
      "source": [
        "a"
      ],
      "metadata": {
        "colab": {
          "base_uri": "https://localhost:8080/"
        },
        "id": "UCK3ICibHEdi",
        "outputId": "5639de65-5535-4b66-f569-aa552057587b"
      },
      "execution_count": null,
      "outputs": [
        {
          "output_type": "execute_result",
          "data": {
            "text/plain": [
              "4"
            ]
          },
          "metadata": {},
          "execution_count": 5
        }
      ]
    },
    {
      "cell_type": "code",
      "source": [
        "a"
      ],
      "metadata": {
        "colab": {
          "base_uri": "https://localhost:8080/"
        },
        "id": "sBsb_vYdHFd-",
        "outputId": "a9f5662a-7adc-448f-8145-039d9b50738c"
      },
      "execution_count": null,
      "outputs": [
        {
          "output_type": "execute_result",
          "data": {
            "text/plain": [
              "4"
            ]
          },
          "metadata": {},
          "execution_count": 6
        }
      ]
    },
    {
      "cell_type": "markdown",
      "source": [
        "Before you can update a variable, you have to initialize it, usually with a simple\n",
        "assignment:\n",
        ">>> x = 0\n",
        "\n",
        ">>> x = x + 1\n",
        "\n",
        "Updating a variable by adding 1 is called an increment; subtracting 1 is called a\n",
        "decrement"
      ],
      "metadata": {
        "id": "NVRpCOMJHci8"
      }
    },
    {
      "cell_type": "markdown",
      "source": [
        "## The while statement\n",
        "Computers are often used to automate repetitive tasks. Repeating identical or similar tasks\n",
        "without making errors is something that computers do well and people do poorly. In a\n",
        "computer program, repetition is also called iteration."
      ],
      "metadata": {
        "id": "5GerpNmLH2u7"
      }
    },
    {
      "cell_type": "code",
      "source": [
        "def countdown(n):\n",
        "  while n>0:\n",
        "    print(n)\n",
        "    n=n-1\n",
        "  print('Blastoff!')"
      ],
      "metadata": {
        "id": "o8_8wY9RHeOC"
      },
      "execution_count": null,
      "outputs": []
    },
    {
      "cell_type": "code",
      "source": [
        "countdown(9)"
      ],
      "metadata": {
        "colab": {
          "base_uri": "https://localhost:8080/"
        },
        "id": "RK5lI0-gId96",
        "outputId": "1518d415-b7ae-49e6-c90e-e4274c9a9bea"
      },
      "execution_count": null,
      "outputs": [
        {
          "output_type": "stream",
          "name": "stdout",
          "text": [
            "9\n",
            "8\n",
            "7\n",
            "6\n",
            "5\n",
            "4\n",
            "3\n",
            "2\n",
            "1\n",
            "Blastoff!\n"
          ]
        }
      ]
    },
    {
      "cell_type": "markdown",
      "source": [
        "More formally, here is the flow of execution for a while statement:\n",
        "1. Determine whether the condition is true or false.\n",
        "2. If false, exit the while statement and continue execution at the next statement.\n",
        "3. If the condition is true, run the body and then go back to step 1.\n",
        "\n",
        "This type of flow is called a loop because the third step loops back around to the top.\n",
        "The body of the loop should change the value of one or more variables so that the\n",
        "condition becomes false eventually and the loop terminates. Otherwise the loop will repeat\n",
        "forever, which is called an infinite loop. An endless source of amusement for computer\n",
        "scientists is the observation that the directions on shampoo, “Lather, rinse, repeat”, are an\n",
        "infinite loop."
      ],
      "metadata": {
        "id": "nLXs-3Q1JOmm"
      }
    },
    {
      "cell_type": "code",
      "source": [
        "def sequence(n):\n",
        "  while n != 1:\n",
        "    print(n)\n",
        "    if n % 2 == 0:           # n is even\n",
        "      n = n/2\n",
        "    else:\n",
        "      n=n*3 +1                # n is odd"
      ],
      "metadata": {
        "id": "WAfHN04PIgoK"
      },
      "execution_count": null,
      "outputs": []
    },
    {
      "cell_type": "code",
      "source": [
        "sequence(16)"
      ],
      "metadata": {
        "colab": {
          "base_uri": "https://localhost:8080/"
        },
        "id": "Gp0-kHCoLQHh",
        "outputId": "ddb152dd-f679-482c-df78-f80cc8fc2c48"
      },
      "execution_count": null,
      "outputs": [
        {
          "output_type": "stream",
          "name": "stdout",
          "text": [
            "16\n",
            "8.0\n",
            "4.0\n",
            "2.0\n"
          ]
        }
      ]
    },
    {
      "cell_type": "code",
      "source": [
        "sequence(17)"
      ],
      "metadata": {
        "colab": {
          "base_uri": "https://localhost:8080/"
        },
        "id": "poZEzzbWLSwJ",
        "outputId": "5029f057-d5b9-4959-cfba-a55e20f6a4ed"
      },
      "execution_count": null,
      "outputs": [
        {
          "output_type": "stream",
          "name": "stdout",
          "text": [
            "17\n",
            "52\n",
            "26.0\n",
            "13.0\n",
            "40.0\n",
            "20.0\n",
            "10.0\n",
            "5.0\n",
            "16.0\n",
            "8.0\n",
            "4.0\n",
            "2.0\n"
          ]
        }
      ]
    },
    {
      "cell_type": "code",
      "source": [
        "# Break\n",
        "while True:\n",
        "  line = input('-_-')\n",
        "  if line == 'curious soul':\n",
        "    break\n",
        "  print(line)\n",
        "print('Good Job')"
      ],
      "metadata": {
        "colab": {
          "base_uri": "https://localhost:8080/"
        },
        "id": "ReHBs3QqLaZZ",
        "outputId": "9d2cc8d0-1c1d-4479-917a-936ef99bb11a"
      },
      "execution_count": null,
      "outputs": [
        {
          "output_type": "stream",
          "name": "stdout",
          "text": [
            "-_-not done\n",
            "not done\n",
            "-_-go to hell\n",
            "go to hell\n",
            "-_-what do you want?\n",
            "what do you want?\n",
            "-_-curious soul\n",
            "Good Job\n"
          ]
        }
      ]
    },
    {
      "cell_type": "code",
      "source": [
        ""
      ],
      "metadata": {
        "id": "wYa4WdeTNUW5"
      },
      "execution_count": null,
      "outputs": []
    },
    {
      "cell_type": "markdown",
      "source": [
        "## Square roots"
      ],
      "metadata": {
        "id": "w21W1j7OQBBU"
      }
    },
    {
      "cell_type": "code",
      "source": [
        "a =4\n",
        "x=3\n"
      ],
      "metadata": {
        "id": "55gEEMNaQEua"
      },
      "execution_count": null,
      "outputs": []
    },
    {
      "cell_type": "code",
      "source": [
        "y"
      ],
      "metadata": {
        "colab": {
          "base_uri": "https://localhost:8080/"
        },
        "id": "QqBFS6z5SNBg",
        "outputId": "61bf97dc-4b0f-40d2-f2c5-06e54f128762"
      },
      "execution_count": null,
      "outputs": [
        {
          "output_type": "execute_result",
          "data": {
            "text/plain": [
              "2.1666666666666665"
            ]
          },
          "metadata": {},
          "execution_count": 21
        }
      ]
    },
    {
      "cell_type": "code",
      "source": [
        "x=y"
      ],
      "metadata": {
        "id": "x4OnrgEQSOGJ"
      },
      "execution_count": null,
      "outputs": []
    },
    {
      "cell_type": "code",
      "source": [
        "y =(x+a/x) / 2\n",
        "y"
      ],
      "metadata": {
        "colab": {
          "base_uri": "https://localhost:8080/"
        },
        "id": "W-mV_Ix9SP-4",
        "outputId": "785c6520-9204-4e84-9da8-f663cefaf1d4"
      },
      "execution_count": null,
      "outputs": [
        {
          "output_type": "execute_result",
          "data": {
            "text/plain": [
              "2.0064102564102564"
            ]
          },
          "metadata": {},
          "execution_count": 24
        }
      ]
    },
    {
      "cell_type": "code",
      "source": [
        "x=y"
      ],
      "metadata": {
        "id": "xcjmqRshSRPI"
      },
      "execution_count": null,
      "outputs": []
    },
    {
      "cell_type": "code",
      "source": [
        "y =(x+a/x) / 2\n",
        "y"
      ],
      "metadata": {
        "colab": {
          "base_uri": "https://localhost:8080/"
        },
        "id": "kmq6YLe9SYgp",
        "outputId": "b1065883-00ef-41ab-8a9e-976a9962e58b"
      },
      "execution_count": null,
      "outputs": [
        {
          "output_type": "execute_result",
          "data": {
            "text/plain": [
              "2.0000102400262145"
            ]
          },
          "metadata": {},
          "execution_count": 26
        }
      ]
    },
    {
      "cell_type": "code",
      "source": [
        "x=y"
      ],
      "metadata": {
        "id": "LsnDRlxoSa0A"
      },
      "execution_count": null,
      "outputs": []
    },
    {
      "cell_type": "code",
      "source": [
        "y =(x+a/x) / 2\n",
        "y"
      ],
      "metadata": {
        "colab": {
          "base_uri": "https://localhost:8080/"
        },
        "id": "ix7_mYZcS3Oz",
        "outputId": "346e5269-7c4d-4014-dc7b-4be9dec37eba"
      },
      "execution_count": null,
      "outputs": [
        {
          "output_type": "execute_result",
          "data": {
            "text/plain": [
              "2.0000000000262146"
            ]
          },
          "metadata": {},
          "execution_count": 28
        }
      ]
    },
    {
      "cell_type": "code",
      "source": [
        "x=y"
      ],
      "metadata": {
        "id": "tJgPcirXS4oo"
      },
      "execution_count": null,
      "outputs": []
    },
    {
      "cell_type": "code",
      "source": [
        "y =(x+a/x) / 2\n",
        "y\n"
      ],
      "metadata": {
        "colab": {
          "base_uri": "https://localhost:8080/"
        },
        "id": "Rc06zsDGS6cw",
        "outputId": "3d260584-a60d-4bb6-d2ac-a3760b0e36d6"
      },
      "execution_count": null,
      "outputs": [
        {
          "output_type": "execute_result",
          "data": {
            "text/plain": [
              "2.0"
            ]
          },
          "metadata": {},
          "execution_count": 30
        }
      ]
    },
    {
      "cell_type": "code",
      "source": [
        "x=y"
      ],
      "metadata": {
        "id": "otOmKgC4S7t5"
      },
      "execution_count": null,
      "outputs": []
    },
    {
      "cell_type": "code",
      "source": [
        "y =(x+a/x) / 2\n",
        "y"
      ],
      "metadata": {
        "colab": {
          "base_uri": "https://localhost:8080/"
        },
        "id": "V1dejXeuS-Ep",
        "outputId": "2f347e27-5af9-4e03-e107-9b7a99659688"
      },
      "execution_count": null,
      "outputs": [
        {
          "output_type": "execute_result",
          "data": {
            "text/plain": [
              "2.0"
            ]
          },
          "metadata": {},
          "execution_count": 32
        }
      ]
    },
    {
      "cell_type": "markdown",
      "source": [
        "When y == x, we can stop. Here is a loop that starts with an initial estimate, x, and\n",
        "improves it until it stops changing"
      ],
      "metadata": {
        "id": "f8tL5qjPTKXE"
      }
    },
    {
      "cell_type": "code",
      "source": [
        "while True:\n",
        "  print(x)\n",
        "  y = (x+a/x)/2\n",
        "  if y == x:\n",
        "    break\n",
        "  x = y"
      ],
      "metadata": {
        "colab": {
          "base_uri": "https://localhost:8080/"
        },
        "id": "dLboyuplS_J4",
        "outputId": "ab54e70d-f899-4f15-cba9-2182b1409be4"
      },
      "execution_count": null,
      "outputs": [
        {
          "output_type": "stream",
          "name": "stdout",
          "text": [
            "2.0\n"
          ]
        }
      ]
    },
    {
      "cell_type": "code",
      "source": [
        "x=5\n",
        "a = 10"
      ],
      "metadata": {
        "id": "k_aCZJcvTLqo"
      },
      "execution_count": null,
      "outputs": []
    },
    {
      "cell_type": "code",
      "source": [
        "while True:\n",
        "  print(x)\n",
        "  y = (x+a/x)/2\n",
        "  if y == x:\n",
        "    break\n",
        "  x = y"
      ],
      "metadata": {
        "colab": {
          "base_uri": "https://localhost:8080/"
        },
        "id": "We4kLosxT7tX",
        "outputId": "a7a4b6e8-c2af-4fa0-d3f2-e95998e6d5be"
      },
      "execution_count": null,
      "outputs": [
        {
          "output_type": "stream",
          "name": "stdout",
          "text": [
            "5\n",
            "3.5\n",
            "3.178571428571429\n",
            "3.162319422150883\n",
            "3.1622776604441363\n",
            "3.162277660168379\n"
          ]
        }
      ]
    },
    {
      "cell_type": "code",
      "source": [
        "if abs(y-x) < epsilon:\n",
        "  break"
      ],
      "metadata": {
        "colab": {
          "base_uri": "https://localhost:8080/",
          "height": 130
        },
        "id": "nIFs2xVeUA6A",
        "outputId": "8cedea3e-e527-4e2d-e765-b26d850a20d3"
      },
      "execution_count": null,
      "outputs": [
        {
          "output_type": "error",
          "ename": "SyntaxError",
          "evalue": "ignored",
          "traceback": [
            "\u001b[0;36m  File \u001b[0;32m\"<ipython-input-41-4a9bc9fc0bdf>\"\u001b[0;36m, line \u001b[0;32m2\u001b[0m\n\u001b[0;31m    break\u001b[0m\n\u001b[0m    ^\u001b[0m\n\u001b[0;31mSyntaxError\u001b[0m\u001b[0;31m:\u001b[0m 'break' outside loop\n"
          ]
        }
      ]
    },
    {
      "cell_type": "markdown",
      "source": [
        "## Algorithms\n",
        "Newton’s method is an example of an algorithm: it is a mechanical process for solving a\n",
        "category of problems (in this case, computing square roots).\n",
        "To understand what an algorithm is, it might help to start with something that is not an\n",
        "algorithm. When you learned to multiply single-digit numbers, you probably memorized\n",
        "the multiplication table. In effect, you memorized 100 specific solutions. That kind of\n",
        "knowledge is not algorithmic.\n",
        "But if you were “lazy”, you might have learned a few tricks. For example, to find the\n",
        "product of n and 9, you can write n-1 as the first digit and 10-n as the second digit. This\n",
        "trick is a general solution for multiplying any single-digit number by 9. That’s an\n",
        "algorithm\n",
        "\n",
        "reassignment:\n",
        "\n",
        "Assigning a new value to a variable that already exists.\n",
        "\n",
        "update:\n",
        "An assignment where the new value of the variable depends on the old.\n",
        "\n",
        "initialization:\n",
        "An assignment that gives an initial value to a variable that will be updated.\n",
        "\n",
        "increment:\n",
        "An update that increases the value of a variable (often by one).\n",
        "\n",
        "decrement:\n",
        "An update that decreases the value of a variable.\n",
        "\n",
        "iteration:\n",
        "Repeated execution of a set of statements using either a recursive function call or a\n",
        "loop.\n",
        "\n",
        "infinite loop:\n",
        "A loop in which the terminating condition is never satisfied.\n",
        "\n",
        "algorithm:\n",
        "A general process for solving a category of problems.\n"
      ],
      "metadata": {
        "id": "qcVVVztlU4cd"
      }
    },
    {
      "cell_type": "code",
      "source": [
        ""
      ],
      "metadata": {
        "id": "DjOK2hXgUaag"
      },
      "execution_count": null,
      "outputs": []
    },
    {
      "cell_type": "markdown",
      "source": [
        "# C8. Strings pg No: 142 \n",
        "Strings are not like integers, floats, and booleans. A string is a sequence, which means it is\n",
        "an ordered collection of other values"
      ],
      "metadata": {
        "id": "7kM_7Ps2Z5Jf"
      }
    },
    {
      "cell_type": "code",
      "source": [
        "# access strings by bracket operator: The expression in brackets is called an index\n",
        "fruit = 'banana'\n",
        "letter = fruit[1]"
      ],
      "metadata": {
        "id": "hIZlSRtOZ7zo"
      },
      "execution_count": null,
      "outputs": []
    },
    {
      "cell_type": "code",
      "source": [
        "letter"
      ],
      "metadata": {
        "colab": {
          "base_uri": "https://localhost:8080/",
          "height": 35
        },
        "id": "IjGEqwEv7Au3",
        "outputId": "6ef1c6c8-74cd-46ce-f82f-d091202e1a7d"
      },
      "execution_count": null,
      "outputs": [
        {
          "output_type": "execute_result",
          "data": {
            "application/vnd.google.colaboratory.intrinsic+json": {
              "type": "string"
            },
            "text/plain": [
              "'a'"
            ]
          },
          "metadata": {},
          "execution_count": 7
        }
      ]
    },
    {
      "cell_type": "code",
      "source": [
        "length =len(fruit)"
      ],
      "metadata": {
        "id": "jffm97TU7GR0"
      },
      "execution_count": null,
      "outputs": []
    },
    {
      "cell_type": "code",
      "source": [
        "last = fruit[length]"
      ],
      "metadata": {
        "colab": {
          "base_uri": "https://localhost:8080/",
          "height": 165
        },
        "id": "0aEWTESj7tA8",
        "outputId": "35ea0a1d-b0ea-43f8-87d8-e9b9b5917d12"
      },
      "execution_count": null,
      "outputs": [
        {
          "output_type": "error",
          "ename": "IndexError",
          "evalue": "ignored",
          "traceback": [
            "\u001b[0;31m---------------------------------------------------------------------------\u001b[0m",
            "\u001b[0;31mIndexError\u001b[0m                                Traceback (most recent call last)",
            "\u001b[0;32m<ipython-input-12-c0ac3b589ac1>\u001b[0m in \u001b[0;36m<module>\u001b[0;34m()\u001b[0m\n\u001b[0;32m----> 1\u001b[0;31m \u001b[0mlast\u001b[0m \u001b[0;34m=\u001b[0m \u001b[0mfruit\u001b[0m\u001b[0;34m[\u001b[0m\u001b[0mlength\u001b[0m\u001b[0;34m]\u001b[0m\u001b[0;34m\u001b[0m\u001b[0;34m\u001b[0m\u001b[0m\n\u001b[0m",
            "\u001b[0;31mIndexError\u001b[0m: string index out of range"
          ]
        }
      ]
    },
    {
      "cell_type": "code",
      "source": [
        "last = fruit[length-1]"
      ],
      "metadata": {
        "id": "yDOnSQNW9QUx"
      },
      "execution_count": null,
      "outputs": []
    },
    {
      "cell_type": "code",
      "source": [
        "last"
      ],
      "metadata": {
        "colab": {
          "base_uri": "https://localhost:8080/",
          "height": 35
        },
        "id": "m-zETOwK9UTg",
        "outputId": "133a0081-2e8f-4069-db1f-aa9e4913c4b0"
      },
      "execution_count": null,
      "outputs": [
        {
          "output_type": "execute_result",
          "data": {
            "application/vnd.google.colaboratory.intrinsic+json": {
              "type": "string"
            },
            "text/plain": [
              "'a'"
            ]
          },
          "metadata": {},
          "execution_count": 13
        }
      ]
    },
    {
      "cell_type": "code",
      "source": [
        "# negative indices\n",
        "fruit[-1]"
      ],
      "metadata": {
        "colab": {
          "base_uri": "https://localhost:8080/",
          "height": 35
        },
        "id": "JGjl12NN9iJY",
        "outputId": "6d2e1afe-e8e5-48f7-8b0d-31448fda6a7d"
      },
      "execution_count": null,
      "outputs": [
        {
          "output_type": "execute_result",
          "data": {
            "application/vnd.google.colaboratory.intrinsic+json": {
              "type": "string"
            },
            "text/plain": [
              "'a'"
            ]
          },
          "metadata": {},
          "execution_count": 14
        }
      ]
    },
    {
      "cell_type": "code",
      "source": [
        "fruit[-2]"
      ],
      "metadata": {
        "colab": {
          "base_uri": "https://localhost:8080/",
          "height": 35
        },
        "id": "OBAJvmkB9oQM",
        "outputId": "424067f2-2141-4c0a-a05e-8439e213096f"
      },
      "execution_count": null,
      "outputs": [
        {
          "output_type": "execute_result",
          "data": {
            "application/vnd.google.colaboratory.intrinsic+json": {
              "type": "string"
            },
            "text/plain": [
              "'n'"
            ]
          },
          "metadata": {},
          "execution_count": 15
        }
      ]
    },
    {
      "cell_type": "markdown",
      "source": [
        "## Traversal with a loop\n",
        "A lot of computations involve processing a string one character at a time. Often they start\n",
        "at the beginning, select each character in turn, do something to it, and continue until the\n",
        "end. This pattern of processing is called a traversal. One way to write a traversal is with a\n",
        "while loop:\n"
      ],
      "metadata": {
        "id": "YbbqmENI9vgZ"
      }
    },
    {
      "cell_type": "code",
      "source": [
        "index =0\n",
        "while index < len(fruit):\n",
        "  letter = fruit[index]\n",
        "  print(letter)\n",
        "  index = index +1"
      ],
      "metadata": {
        "colab": {
          "base_uri": "https://localhost:8080/"
        },
        "id": "A_bDfCpi9qog",
        "outputId": "39b3baf0-734b-45f4-907f-54f043d6f0d6"
      },
      "execution_count": null,
      "outputs": [
        {
          "output_type": "stream",
          "name": "stdout",
          "text": [
            "b\n",
            "a\n",
            "n\n",
            "a\n",
            "n\n",
            "a\n"
          ]
        }
      ]
    },
    {
      "cell_type": "code",
      "source": [
        "#Another way to write a traversal is with a for loop:\n",
        "for letter in fruit:\n",
        "  print(letter)\n"
      ],
      "metadata": {
        "colab": {
          "base_uri": "https://localhost:8080/"
        },
        "id": "O8nJ2_Nf9x72",
        "outputId": "d6ae379b-253e-4288-832e-eb3df2edff2b"
      },
      "execution_count": null,
      "outputs": [
        {
          "output_type": "stream",
          "name": "stdout",
          "text": [
            "b\n",
            "a\n",
            "n\n",
            "a\n",
            "n\n",
            "a\n"
          ]
        }
      ]
    },
    {
      "cell_type": "code",
      "source": [
        "prefixes = 'JKMNQPQ'\n",
        "suffix ='ack'"
      ],
      "metadata": {
        "id": "-klqYxKk_Iwa"
      },
      "execution_count": null,
      "outputs": []
    },
    {
      "cell_type": "code",
      "source": [
        "for letter in prefixes:\n",
        "  print(letter+suffix)"
      ],
      "metadata": {
        "colab": {
          "base_uri": "https://localhost:8080/"
        },
        "id": "-QOoK9GL_rqm",
        "outputId": "db54549a-07df-4ccd-c585-aa41198891a3"
      },
      "execution_count": null,
      "outputs": [
        {
          "output_type": "stream",
          "name": "stdout",
          "text": [
            "Jack\n",
            "Kack\n",
            "Mack\n",
            "Nack\n",
            "Qack\n",
            "Pack\n",
            "Qack\n"
          ]
        }
      ]
    },
    {
      "cell_type": "code",
      "source": [
        ""
      ],
      "metadata": {
        "id": "Psa1QAoq_zTZ"
      },
      "execution_count": null,
      "outputs": []
    },
    {
      "cell_type": "markdown",
      "source": [
        "## String Slices\n",
        "A segment of a string is called a slice. Selecting a slice is similar to selecting a character:"
      ],
      "metadata": {
        "id": "li1BW7hRAJ-V"
      }
    },
    {
      "cell_type": "code",
      "source": [
        "s = 'Monty Python'"
      ],
      "metadata": {
        "id": "9tAIUrE1APfU"
      },
      "execution_count": null,
      "outputs": []
    },
    {
      "cell_type": "code",
      "source": [
        "s[0:5]"
      ],
      "metadata": {
        "colab": {
          "base_uri": "https://localhost:8080/",
          "height": 35
        },
        "id": "NKbI_WkHATF9",
        "outputId": "1128ef10-3f16-4d39-8fcb-02a8095c3883"
      },
      "execution_count": null,
      "outputs": [
        {
          "output_type": "execute_result",
          "data": {
            "application/vnd.google.colaboratory.intrinsic+json": {
              "type": "string"
            },
            "text/plain": [
              "'Monty'"
            ]
          },
          "metadata": {},
          "execution_count": 21
        }
      ]
    },
    {
      "cell_type": "code",
      "source": [
        "s[6:12]"
      ],
      "metadata": {
        "colab": {
          "base_uri": "https://localhost:8080/",
          "height": 35
        },
        "id": "oAM0CRiqAVd8",
        "outputId": "9ee933d3-ed5b-465f-d118-05c193a72dd7"
      },
      "execution_count": null,
      "outputs": [
        {
          "output_type": "execute_result",
          "data": {
            "application/vnd.google.colaboratory.intrinsic+json": {
              "type": "string"
            },
            "text/plain": [
              "'Python'"
            ]
          },
          "metadata": {},
          "execution_count": 22
        }
      ]
    },
    {
      "cell_type": "markdown",
      "source": [
        "The operator [n:m] returns the part of the string from the “n-eth” character to the “m-eth”\n",
        "character, including the first but excluding the last"
      ],
      "metadata": {
        "id": "595GBWY3Aw5A"
      }
    },
    {
      "cell_type": "code",
      "source": [
        "fruit[:3]"
      ],
      "metadata": {
        "colab": {
          "base_uri": "https://localhost:8080/",
          "height": 35
        },
        "id": "KLePLmDHAy36",
        "outputId": "37a982f8-db4c-4e7f-decd-ae221e07889c"
      },
      "execution_count": null,
      "outputs": [
        {
          "output_type": "execute_result",
          "data": {
            "application/vnd.google.colaboratory.intrinsic+json": {
              "type": "string"
            },
            "text/plain": [
              "'ban'"
            ]
          },
          "metadata": {},
          "execution_count": 23
        }
      ]
    },
    {
      "cell_type": "code",
      "source": [
        "fruit[3:]"
      ],
      "metadata": {
        "colab": {
          "base_uri": "https://localhost:8080/",
          "height": 35
        },
        "id": "caa5KOrqA5wb",
        "outputId": "913342dc-2b7a-4bf4-f890-b29a26f48e9e"
      },
      "execution_count": null,
      "outputs": [
        {
          "output_type": "execute_result",
          "data": {
            "application/vnd.google.colaboratory.intrinsic+json": {
              "type": "string"
            },
            "text/plain": [
              "'ana'"
            ]
          },
          "metadata": {},
          "execution_count": 24
        }
      ]
    },
    {
      "cell_type": "code",
      "source": [
        "fruit[3:3]"
      ],
      "metadata": {
        "colab": {
          "base_uri": "https://localhost:8080/",
          "height": 35
        },
        "id": "f9-qXsxzA724",
        "outputId": "929acc2d-91db-42f0-899f-35a8db3dae81"
      },
      "execution_count": null,
      "outputs": [
        {
          "output_type": "execute_result",
          "data": {
            "application/vnd.google.colaboratory.intrinsic+json": {
              "type": "string"
            },
            "text/plain": [
              "''"
            ]
          },
          "metadata": {},
          "execution_count": 25
        }
      ]
    },
    {
      "cell_type": "code",
      "source": [
        "fruit[:]"
      ],
      "metadata": {
        "colab": {
          "base_uri": "https://localhost:8080/",
          "height": 35
        },
        "id": "ibcgC8FLBDKf",
        "outputId": "d3ea5508-58f5-4929-e5a7-818d6e99ea08"
      },
      "execution_count": null,
      "outputs": [
        {
          "output_type": "execute_result",
          "data": {
            "application/vnd.google.colaboratory.intrinsic+json": {
              "type": "string"
            },
            "text/plain": [
              "'banana'"
            ]
          },
          "metadata": {},
          "execution_count": 26
        }
      ]
    },
    {
      "cell_type": "code",
      "source": [
        ""
      ],
      "metadata": {
        "id": "DWMVOhwrBKD6"
      },
      "execution_count": null,
      "outputs": []
    },
    {
      "cell_type": "markdown",
      "source": [
        "## Strings are immutable\n",
        "The reason for the error is that strings are immutable, which means you can’t change an\n",
        "existing string. The best you can do is create a new string that is a variation on the\n",
        "original:\n",
        "\n",
        "This example concatenates a new first letter onto a slice of greeting. It has no effect on\n",
        "the original string"
      ],
      "metadata": {
        "id": "rCXe_6zgBLee"
      }
    },
    {
      "cell_type": "code",
      "source": [
        "greetings ='Hello world'\n",
        "new_greeting = 'J' + greetings[1:]\n",
        "new_greeting"
      ],
      "metadata": {
        "colab": {
          "base_uri": "https://localhost:8080/",
          "height": 35
        },
        "id": "U1vTgfqYBNx8",
        "outputId": "54cf39aa-b8fa-41a7-f9de-bf7e1f54e258"
      },
      "execution_count": null,
      "outputs": [
        {
          "output_type": "execute_result",
          "data": {
            "application/vnd.google.colaboratory.intrinsic+json": {
              "type": "string"
            },
            "text/plain": [
              "'Jello world'"
            ]
          },
          "metadata": {},
          "execution_count": 28
        }
      ]
    },
    {
      "cell_type": "markdown",
      "source": [
        "## Searching\n",
        "This pattern of computation — traversing a sequence and returning when we find what we\n",
        "are looking for — is called a search."
      ],
      "metadata": {
        "id": "UbqHQu4QCQGX"
      }
    },
    {
      "cell_type": "code",
      "source": [
        "def find(word, letter):\n",
        "  index =0\n",
        "  while index < len(word):\n",
        "    if word[index] == letter:\n",
        "      return index\n",
        "    index = index + 1\n",
        "  return -1\n"
      ],
      "metadata": {
        "id": "odF6nwrLCAhz"
      },
      "execution_count": null,
      "outputs": []
    },
    {
      "cell_type": "code",
      "source": [
        "find('ultramicroglagomyopecandrio', 'z')"
      ],
      "metadata": {
        "colab": {
          "base_uri": "https://localhost:8080/"
        },
        "id": "Z51FDOORDMjv",
        "outputId": "59a12776-7a2d-40ff-ebb3-e63819e75956"
      },
      "execution_count": null,
      "outputs": [
        {
          "output_type": "execute_result",
          "data": {
            "text/plain": [
              "-1"
            ]
          },
          "metadata": {},
          "execution_count": 32
        }
      ]
    },
    {
      "cell_type": "code",
      "source": [
        ""
      ],
      "metadata": {
        "id": "86FFxz-yDc4W"
      },
      "execution_count": null,
      "outputs": []
    },
    {
      "cell_type": "markdown",
      "source": [
        "## Looping and counting"
      ],
      "metadata": {
        "id": "53InpaQUFVIw"
      }
    },
    {
      "cell_type": "code",
      "source": [
        "word ='banana'\n",
        "count = 0\n",
        "for letter in word:\n",
        "  if letter == 'a':\n",
        "    count = count + 1\n",
        "  print(count)"
      ],
      "metadata": {
        "colab": {
          "base_uri": "https://localhost:8080/"
        },
        "id": "Vktol_JfFXfb",
        "outputId": "85983a60-637b-414b-e3a0-0d36502b45c8"
      },
      "execution_count": null,
      "outputs": [
        {
          "output_type": "stream",
          "name": "stdout",
          "text": [
            "0\n",
            "1\n",
            "1\n",
            "2\n",
            "2\n",
            "3\n"
          ]
        }
      ]
    },
    {
      "cell_type": "markdown",
      "source": [
        "## String Methods\n",
        "Strings provide methods that perform a variety of useful operations. A method is similar to\n",
        "a function — it takes arguments and returns a value — but the syntax is different. For\n",
        "example, the method upper takes a string and returns a new string with all uppercase\n",
        "letters.\n",
        "Instead of the function syntax upper(word), it uses the method syntax word.upper()"
      ],
      "metadata": {
        "id": "IobyPpOHF9Ip"
      }
    },
    {
      "cell_type": "code",
      "source": [
        "word ='banana'\n",
        "new_word = word.upper()"
      ],
      "metadata": {
        "id": "dsjtFz4OFnl8"
      },
      "execution_count": null,
      "outputs": []
    },
    {
      "cell_type": "code",
      "source": [
        "new_word"
      ],
      "metadata": {
        "colab": {
          "base_uri": "https://localhost:8080/",
          "height": 35
        },
        "id": "uVcbBoeZF-qP",
        "outputId": "966cdd57-8cdc-40ba-819b-e4f9354fd7f1"
      },
      "execution_count": null,
      "outputs": [
        {
          "output_type": "execute_result",
          "data": {
            "application/vnd.google.colaboratory.intrinsic+json": {
              "type": "string"
            },
            "text/plain": [
              "'BANANA'"
            ]
          },
          "metadata": {},
          "execution_count": 35
        }
      ]
    },
    {
      "cell_type": "code",
      "source": [
        ""
      ],
      "metadata": {
        "id": "QXVwjfibGi68"
      },
      "execution_count": null,
      "outputs": []
    },
    {
      "cell_type": "markdown",
      "source": [
        "This form of dot notation specifies the name of the method, upper, and the name of the\n",
        "string to apply the method to, word. The empty parentheses indicate that this method takes\n",
        "no arguments.\n",
        "A method call is called an invocation; in this case, we would say that we are invoking\n",
        "upper on word.\n"
      ],
      "metadata": {
        "id": "N6WEr4W-H7Su"
      }
    },
    {
      "cell_type": "code",
      "source": [
        "word = 'banana'\n",
        "index = word.find('a')\n",
        "index"
      ],
      "metadata": {
        "colab": {
          "base_uri": "https://localhost:8080/"
        },
        "id": "a2lOGXU8IB-U",
        "outputId": "0431cbd1-a4ba-4445-bfa4-5eda6992f842"
      },
      "execution_count": null,
      "outputs": [
        {
          "output_type": "execute_result",
          "data": {
            "text/plain": [
              "1"
            ]
          },
          "metadata": {},
          "execution_count": 36
        }
      ]
    },
    {
      "cell_type": "code",
      "source": [
        "word.find('na')"
      ],
      "metadata": {
        "colab": {
          "base_uri": "https://localhost:8080/"
        },
        "id": "pjHzsShqIL1M",
        "outputId": "9ad1cb08-b475-45f7-e3b5-b04fe386fc32"
      },
      "execution_count": null,
      "outputs": [
        {
          "output_type": "execute_result",
          "data": {
            "text/plain": [
              "2"
            ]
          },
          "metadata": {},
          "execution_count": 37
        }
      ]
    },
    {
      "cell_type": "code",
      "source": [
        "word.find('na', 3)"
      ],
      "metadata": {
        "colab": {
          "base_uri": "https://localhost:8080/"
        },
        "id": "MuNzWOSkIVJ0",
        "outputId": "a0e717a5-09d9-435e-d8bd-9852da505b11"
      },
      "execution_count": null,
      "outputs": [
        {
          "output_type": "execute_result",
          "data": {
            "text/plain": [
              "4"
            ]
          },
          "metadata": {},
          "execution_count": 38
        }
      ]
    },
    {
      "cell_type": "code",
      "source": [
        "name = 'bob'"
      ],
      "metadata": {
        "id": "Wxy6_bE4Ij8z"
      },
      "execution_count": null,
      "outputs": []
    },
    {
      "cell_type": "code",
      "source": [
        "name.find('b', 1,2)"
      ],
      "metadata": {
        "colab": {
          "base_uri": "https://localhost:8080/"
        },
        "id": "Xq0Nv-_2I6ws",
        "outputId": "b558d100-aa81-4c73-bdd0-2c28b7206819"
      },
      "execution_count": null,
      "outputs": [
        {
          "output_type": "execute_result",
          "data": {
            "text/plain": [
              "-1"
            ]
          },
          "metadata": {},
          "execution_count": 40
        }
      ]
    },
    {
      "cell_type": "code",
      "source": [
        ""
      ],
      "metadata": {
        "id": "FPdrcok0I-Fy"
      },
      "execution_count": null,
      "outputs": []
    },
    {
      "cell_type": "markdown",
      "source": [
        "## The in operator\n",
        "\n",
        "The word in is a boolean operator that takes two strings and returns True if the first\n",
        "appears as a substring in the second:"
      ],
      "metadata": {
        "id": "5KoXq_GSJPVz"
      }
    },
    {
      "cell_type": "code",
      "source": [
        "'a' in 'banana'"
      ],
      "metadata": {
        "colab": {
          "base_uri": "https://localhost:8080/"
        },
        "id": "IpCuw-k6JRry",
        "outputId": "3d9a3e6e-3b0b-4662-e2de-351c50f4f637"
      },
      "execution_count": null,
      "outputs": [
        {
          "output_type": "execute_result",
          "data": {
            "text/plain": [
              "True"
            ]
          },
          "metadata": {},
          "execution_count": 41
        }
      ]
    },
    {
      "cell_type": "code",
      "source": [
        "'seed' in 'banana'"
      ],
      "metadata": {
        "colab": {
          "base_uri": "https://localhost:8080/"
        },
        "id": "YNiowkbPJ9qf",
        "outputId": "6271febf-e0ea-4c0b-c1b4-259e09bcef19"
      },
      "execution_count": null,
      "outputs": [
        {
          "output_type": "execute_result",
          "data": {
            "text/plain": [
              "False"
            ]
          },
          "metadata": {},
          "execution_count": 42
        }
      ]
    },
    {
      "cell_type": "code",
      "source": [
        "def in_both(word1, word2):\n",
        "  for letter in word1:\n",
        "    if letter in word2:\n",
        "      print(letter)"
      ],
      "metadata": {
        "id": "EXEdadFVKIed"
      },
      "execution_count": null,
      "outputs": []
    },
    {
      "cell_type": "code",
      "source": [
        "in_both('love','ooty')"
      ],
      "metadata": {
        "colab": {
          "base_uri": "https://localhost:8080/"
        },
        "id": "3Z9M-Sk0KsOg",
        "outputId": "20c9111c-8108-4336-c870-c7be9208710b"
      },
      "execution_count": null,
      "outputs": [
        {
          "output_type": "stream",
          "name": "stdout",
          "text": [
            "o\n"
          ]
        }
      ]
    },
    {
      "cell_type": "markdown",
      "source": [
        "Python sometimes reads like English. You could read\n",
        "this loop, “for (each) letter in (the first) word, if (the) letter (appears) in (the second) word,\n",
        "print (the) letter.”"
      ],
      "metadata": {
        "id": "95p5ma3ELGrI"
      }
    },
    {
      "cell_type": "code",
      "source": [
        "in_both('apples','oranges')"
      ],
      "metadata": {
        "colab": {
          "base_uri": "https://localhost:8080/"
        },
        "id": "QcrjHES0KxQ0",
        "outputId": "d959c125-0915-4c6c-d677-dc59ed6c2818"
      },
      "execution_count": null,
      "outputs": [
        {
          "output_type": "stream",
          "name": "stdout",
          "text": [
            "a\n",
            "e\n",
            "s\n"
          ]
        }
      ]
    },
    {
      "cell_type": "code",
      "source": [
        ""
      ],
      "metadata": {
        "id": "BKFpwKm-LQeA"
      },
      "execution_count": null,
      "outputs": []
    },
    {
      "cell_type": "markdown",
      "source": [
        "## string comparision\n",
        "The relational operators work on strings. To see if two strings are equal"
      ],
      "metadata": {
        "id": "Gy97vSdcLj6B"
      }
    },
    {
      "cell_type": "code",
      "source": [
        "if word == 'banana':\n",
        "  print('All right, bananas')"
      ],
      "metadata": {
        "id": "CGXP6lFXLuUq"
      },
      "execution_count": null,
      "outputs": []
    },
    {
      "cell_type": "code",
      "source": [
        "word = 'apples'\n"
      ],
      "metadata": {
        "id": "TAjhUKu6L-Ur"
      },
      "execution_count": null,
      "outputs": []
    },
    {
      "cell_type": "code",
      "source": [
        "if word == 'banana':\n",
        "  print('All right, bananas')"
      ],
      "metadata": {
        "id": "1wiWatQqMEPn"
      },
      "execution_count": null,
      "outputs": []
    },
    {
      "cell_type": "code",
      "source": [
        "word = 'banana'"
      ],
      "metadata": {
        "id": "YBwOLwE7MPR5"
      },
      "execution_count": null,
      "outputs": []
    },
    {
      "cell_type": "code",
      "source": [
        "if word == 'banana':\n",
        "  print('All right, bananas')"
      ],
      "metadata": {
        "colab": {
          "base_uri": "https://localhost:8080/"
        },
        "id": "RzOpuKieMYOs",
        "outputId": "3f5e1f7c-2886-4e99-d9e3-7b3773c62e72"
      },
      "execution_count": null,
      "outputs": [
        {
          "output_type": "stream",
          "name": "stdout",
          "text": [
            "All right, bananas\n"
          ]
        }
      ]
    },
    {
      "cell_type": "code",
      "source": [
        "#relational operations\n",
        "word = 'Pineapple'\n",
        "if word < 'banana':\n",
        "  print('Your word, '+word+', comes before banana.')\n",
        "elif word > 'banana':\n",
        "  print('Your word, '+word+', comes after banana.')\n",
        "else:\n",
        "  print('All right, bananas.')"
      ],
      "metadata": {
        "colab": {
          "base_uri": "https://localhost:8080/"
        },
        "id": "Q9X2sb0EMbWs",
        "outputId": "3a0fc3d1-643a-4710-8510-daf1e686cd5b"
      },
      "execution_count": null,
      "outputs": [
        {
          "output_type": "stream",
          "name": "stdout",
          "text": [
            "Your word, Pineapple, comes before banana.\n"
          ]
        }
      ]
    },
    {
      "cell_type": "markdown",
      "source": [
        "Python does not handle uppercase and lowercase letters the same way people do. All the\n",
        "uppercase letters come before all the lowercase letters, so\n",
        "\n",
        "A common way to address this problem is to convert strings to a standard format, such as\n",
        "all lowercase, before performing the comparison. Keep that in mind in case you have to\n",
        "defend yourself against a man armed with a Pineapple"
      ],
      "metadata": {
        "id": "YuebxB1aOahz"
      }
    },
    {
      "cell_type": "code",
      "source": [
        "# Debugging\n",
        "def is_reverse(word1, word2):\n",
        "  if len(word1) != len(word2):\n",
        "    return False\n",
        "  i = 0\n",
        "  j = len(word2)\n",
        "\n",
        "  while j>0:\n",
        "    if word1[i] != word2[j]:\n",
        "      return False\n",
        "    i = i+1\n",
        "    j = j-1\n",
        "  return True"
      ],
      "metadata": {
        "id": "wq_Xw_tAOSHU"
      },
      "execution_count": null,
      "outputs": []
    },
    {
      "cell_type": "code",
      "source": [
        "is_reverse('pots','stop')"
      ],
      "metadata": {
        "colab": {
          "base_uri": "https://localhost:8080/",
          "height": 286
        },
        "id": "DDGJRvLtObdh",
        "outputId": "d18e5546-c902-4f99-d09e-66d075fb6df7"
      },
      "execution_count": null,
      "outputs": [
        {
          "output_type": "error",
          "ename": "IndexError",
          "evalue": "ignored",
          "traceback": [
            "\u001b[0;31m---------------------------------------------------------------------------\u001b[0m",
            "\u001b[0;31mIndexError\u001b[0m                                Traceback (most recent call last)",
            "\u001b[0;32m<ipython-input-62-e373b3cd7166>\u001b[0m in \u001b[0;36m<module>\u001b[0;34m()\u001b[0m\n\u001b[0;32m----> 1\u001b[0;31m \u001b[0mis_reverse\u001b[0m\u001b[0;34m(\u001b[0m\u001b[0;34m'pots'\u001b[0m\u001b[0;34m,\u001b[0m\u001b[0;34m'stop'\u001b[0m\u001b[0;34m)\u001b[0m\u001b[0;34m\u001b[0m\u001b[0;34m\u001b[0m\u001b[0m\n\u001b[0m",
            "\u001b[0;32m<ipython-input-61-7008c4192df2>\u001b[0m in \u001b[0;36mis_reverse\u001b[0;34m(word1, word2)\u001b[0m\n\u001b[1;32m      7\u001b[0m \u001b[0;34m\u001b[0m\u001b[0m\n\u001b[1;32m      8\u001b[0m   \u001b[0;32mwhile\u001b[0m \u001b[0mj\u001b[0m\u001b[0;34m>\u001b[0m\u001b[0;36m0\u001b[0m\u001b[0;34m:\u001b[0m\u001b[0;34m\u001b[0m\u001b[0;34m\u001b[0m\u001b[0m\n\u001b[0;32m----> 9\u001b[0;31m     \u001b[0;32mif\u001b[0m \u001b[0mword1\u001b[0m\u001b[0;34m[\u001b[0m\u001b[0mi\u001b[0m\u001b[0;34m]\u001b[0m \u001b[0;34m!=\u001b[0m \u001b[0mword2\u001b[0m\u001b[0;34m[\u001b[0m\u001b[0mj\u001b[0m\u001b[0;34m]\u001b[0m\u001b[0;34m:\u001b[0m\u001b[0;34m\u001b[0m\u001b[0;34m\u001b[0m\u001b[0m\n\u001b[0m\u001b[1;32m     10\u001b[0m       \u001b[0;32mreturn\u001b[0m \u001b[0;32mFalse\u001b[0m\u001b[0;34m\u001b[0m\u001b[0;34m\u001b[0m\u001b[0m\n\u001b[1;32m     11\u001b[0m     \u001b[0mi\u001b[0m \u001b[0;34m=\u001b[0m \u001b[0mi\u001b[0m\u001b[0;34m+\u001b[0m\u001b[0;36m1\u001b[0m\u001b[0;34m\u001b[0m\u001b[0;34m\u001b[0m\u001b[0m\n",
            "\u001b[0;31mIndexError\u001b[0m: string index out of range"
          ]
        }
      ]
    },
    {
      "cell_type": "code",
      "source": [
        "def is_reverse(word1, word2):\n",
        "  if len(word1) != len(word2):\n",
        "    return False\n",
        "  i = 0\n",
        "  j = len(word2)\n",
        "\n",
        "  while j>0:\n",
        "    print(i, j)\n",
        "    if word1[i] != word2[j]:\n",
        "      return False\n",
        "    i = i+1\n",
        "    j = j-1\n",
        "  return True"
      ],
      "metadata": {
        "id": "fNINmJIbVKZZ"
      },
      "execution_count": null,
      "outputs": []
    },
    {
      "cell_type": "code",
      "source": [
        "is_reverse('pots','stop')"
      ],
      "metadata": {
        "colab": {
          "base_uri": "https://localhost:8080/",
          "height": 304
        },
        "id": "CDYYhS2rVcu5",
        "outputId": "f7bb5457-5b21-4c1a-dd0b-bf3dd91f5836"
      },
      "execution_count": null,
      "outputs": [
        {
          "output_type": "stream",
          "name": "stdout",
          "text": [
            "0 4\n"
          ]
        },
        {
          "output_type": "error",
          "ename": "IndexError",
          "evalue": "ignored",
          "traceback": [
            "\u001b[0;31m---------------------------------------------------------------------------\u001b[0m",
            "\u001b[0;31mIndexError\u001b[0m                                Traceback (most recent call last)",
            "\u001b[0;32m<ipython-input-64-e373b3cd7166>\u001b[0m in \u001b[0;36m<module>\u001b[0;34m()\u001b[0m\n\u001b[0;32m----> 1\u001b[0;31m \u001b[0mis_reverse\u001b[0m\u001b[0;34m(\u001b[0m\u001b[0;34m'pots'\u001b[0m\u001b[0;34m,\u001b[0m\u001b[0;34m'stop'\u001b[0m\u001b[0;34m)\u001b[0m\u001b[0;34m\u001b[0m\u001b[0;34m\u001b[0m\u001b[0m\n\u001b[0m",
            "\u001b[0;32m<ipython-input-63-cad360f14b5a>\u001b[0m in \u001b[0;36mis_reverse\u001b[0;34m(word1, word2)\u001b[0m\n\u001b[1;32m      7\u001b[0m   \u001b[0;32mwhile\u001b[0m \u001b[0mj\u001b[0m\u001b[0;34m>\u001b[0m\u001b[0;36m0\u001b[0m\u001b[0;34m:\u001b[0m\u001b[0;34m\u001b[0m\u001b[0;34m\u001b[0m\u001b[0m\n\u001b[1;32m      8\u001b[0m     \u001b[0mprint\u001b[0m\u001b[0;34m(\u001b[0m\u001b[0mi\u001b[0m\u001b[0;34m,\u001b[0m \u001b[0mj\u001b[0m\u001b[0;34m)\u001b[0m\u001b[0;34m\u001b[0m\u001b[0;34m\u001b[0m\u001b[0m\n\u001b[0;32m----> 9\u001b[0;31m     \u001b[0;32mif\u001b[0m \u001b[0mword1\u001b[0m\u001b[0;34m[\u001b[0m\u001b[0mi\u001b[0m\u001b[0;34m]\u001b[0m \u001b[0;34m!=\u001b[0m \u001b[0mword2\u001b[0m\u001b[0;34m[\u001b[0m\u001b[0mj\u001b[0m\u001b[0;34m]\u001b[0m\u001b[0;34m:\u001b[0m\u001b[0;34m\u001b[0m\u001b[0;34m\u001b[0m\u001b[0m\n\u001b[0m\u001b[1;32m     10\u001b[0m       \u001b[0;32mreturn\u001b[0m \u001b[0;32mFalse\u001b[0m\u001b[0;34m\u001b[0m\u001b[0;34m\u001b[0m\u001b[0m\n\u001b[1;32m     11\u001b[0m     \u001b[0mi\u001b[0m \u001b[0;34m=\u001b[0m \u001b[0mi\u001b[0m\u001b[0;34m+\u001b[0m\u001b[0;36m1\u001b[0m\u001b[0;34m\u001b[0m\u001b[0;34m\u001b[0m\u001b[0m\n",
            "\u001b[0;31mIndexError\u001b[0m: string index out of range"
          ]
        }
      ]
    },
    {
      "cell_type": "code",
      "source": [
        "def is_reverse(word1, word2):\n",
        "  if len(word1) != len(word2):\n",
        "    return False\n",
        "  i = 0\n",
        "  j = len(word2)-1\n",
        "\n",
        "  while j>0:\n",
        "    if word1[i] != word2[j]:\n",
        "      return False\n",
        "    i = i+1\n",
        "    j = j-1\n",
        "  return True"
      ],
      "metadata": {
        "id": "SmMqVYFlVhWB"
      },
      "execution_count": null,
      "outputs": []
    },
    {
      "cell_type": "code",
      "source": [
        "is_reverse('pots','stop')"
      ],
      "metadata": {
        "colab": {
          "base_uri": "https://localhost:8080/"
        },
        "id": "tjslu9lhV0PK",
        "outputId": "78987c85-944a-457b-8d16-a79768724941"
      },
      "execution_count": null,
      "outputs": [
        {
          "output_type": "execute_result",
          "data": {
            "text/plain": [
              "True"
            ]
          },
          "metadata": {},
          "execution_count": 66
        }
      ]
    },
    {
      "cell_type": "code",
      "source": [
        ""
      ],
      "metadata": {
        "id": "QQqZtjKUV4OJ"
      },
      "execution_count": null,
      "outputs": []
    },
    {
      "cell_type": "markdown",
      "source": [
        "# c9. Case study: Word play: 160\n",
        "This chapter presents the second case study, which involves solving word puzzles by\n",
        "searching for words that have certain properties. For example, we’ll find the longest\n",
        "palindromes in English and search for words whose letters appear in alphabetical order.\n",
        "And I will present another program development plan: reduction to a previously solved\n",
        "problem.\n"
      ],
      "metadata": {
        "id": "mu5spAfNX71x"
      }
    },
    {
      "cell_type": "code",
      "source": [
        ""
      ],
      "metadata": {
        "id": "OzCIDMcaYBeo"
      },
      "execution_count": null,
      "outputs": []
    },
    {
      "cell_type": "markdown",
      "source": [
        "# Classes and Objects\n",
        "Objects will have atrributes(variables) and behaviour(action)\n",
        "\n",
        "class is like blue print\n",
        "https://www.youtube.com/watch?v=WIP3-woodlU&list=PLsyeobzWxl7poL9JTVyndKe62ieoN-MZ3&index=54\n",
        "\n",
        "Object is the subset of class. Class is like a building.\n",
        "\n",
        "Whenever you try to call an object using method(aka function), __init__ variables will be initialized."
      ],
      "metadata": {
        "id": "LHV_Ao7OLC7J"
      }
    },
    {
      "cell_type": "code",
      "source": [
        "# want to built a class called 'computer'..with objects\n",
        "class computer:\n",
        "  def config(self):        # we usually call this as function..but here 'method'\n",
        "    print('i5, 16gb, 1TB')\n",
        "\n",
        "com1 =computer() # com1 is an object of a computer\n",
        "config()\n"
      ],
      "metadata": {
        "colab": {
          "base_uri": "https://localhost:8080/",
          "height": 200
        },
        "id": "dzb2raKQMocd",
        "outputId": "63fc1298-24e7-4906-9d9f-ac5a13eeecdb"
      },
      "execution_count": null,
      "outputs": [
        {
          "output_type": "error",
          "ename": "NameError",
          "evalue": "ignored",
          "traceback": [
            "\u001b[0;31m---------------------------------------------------------------------------\u001b[0m",
            "\u001b[0;31mNameError\u001b[0m                                 Traceback (most recent call last)",
            "\u001b[0;32m<ipython-input-5-399cdb7646db>\u001b[0m in \u001b[0;36m<module>\u001b[0;34m()\u001b[0m\n\u001b[1;32m      5\u001b[0m \u001b[0;34m\u001b[0m\u001b[0m\n\u001b[1;32m      6\u001b[0m \u001b[0mcom1\u001b[0m \u001b[0;34m=\u001b[0m\u001b[0mcomputer\u001b[0m\u001b[0;34m(\u001b[0m\u001b[0;34m)\u001b[0m \u001b[0;31m# com1 is an object of a computer\u001b[0m\u001b[0;34m\u001b[0m\u001b[0;34m\u001b[0m\u001b[0m\n\u001b[0;32m----> 7\u001b[0;31m \u001b[0mconfig\u001b[0m\u001b[0;34m(\u001b[0m\u001b[0;34m)\u001b[0m\u001b[0;34m\u001b[0m\u001b[0;34m\u001b[0m\u001b[0m\n\u001b[0m",
            "\u001b[0;31mNameError\u001b[0m: name 'config' is not defined"
          ]
        }
      ]
    },
    {
      "cell_type": "code",
      "source": [
        "class computer:\n",
        "  def config(self):\n",
        "    print('i5, 16gb, 1TB')\n",
        "\n",
        "com1 = computer()\n",
        "computer.config(com1)"
      ],
      "metadata": {
        "colab": {
          "base_uri": "https://localhost:8080/"
        },
        "id": "XUKIBp1jOKGa",
        "outputId": "95d4853f-ce9d-435a-d724-f5bc9f333e5d"
      },
      "execution_count": null,
      "outputs": [
        {
          "output_type": "stream",
          "name": "stdout",
          "text": [
            "i5, 16gb, 1TB\n"
          ]
        }
      ]
    },
    {
      "cell_type": "code",
      "source": [
        "class computer:\n",
        "  def config(self):\n",
        "    print('i5, 16gb, 1TB')\n",
        "\n",
        "com1 = computer() # com1 is an object under class computer\n",
        "com2 = computer() # com2 is an another object under class computer\n",
        "computer.config(com1) # 1 object is doing its action using method 'config'\n",
        "computer.config(com2) # 2 object is doing its action using method 'config'"
      ],
      "metadata": {
        "colab": {
          "base_uri": "https://localhost:8080/"
        },
        "id": "FXKGSOSVOl20",
        "outputId": "fd72a91e-3478-4dd2-f426-4ba449c86866"
      },
      "execution_count": null,
      "outputs": [
        {
          "output_type": "stream",
          "name": "stdout",
          "text": [
            "i5, 16gb, 1TB\n",
            "i5, 16gb, 1TB\n"
          ]
        }
      ]
    },
    {
      "cell_type": "code",
      "source": [
        "class computer:\n",
        "  def config(self):\n",
        "    print('i5, 16gb, 1TB')\n",
        "\n",
        "com1 = computer() # com1 is an object under class computer\n",
        "com2 = computer() # com2 is an another object under class computer\n",
        "computer.config(com1) # 1 object is doing its action using method 'config'\n",
        "computer.config(com2) # 2 object is doing its action using method 'config'\n",
        "\n",
        "com1.config() # same as computer.config(com1) most used way notation\n",
        "com2.config() # same as computer.config(com2)"
      ],
      "metadata": {
        "colab": {
          "base_uri": "https://localhost:8080/"
        },
        "id": "WhdhB4SYPl87",
        "outputId": "494292fc-ed41-48d4-e5f1-63ddfc044748"
      },
      "execution_count": null,
      "outputs": [
        {
          "output_type": "stream",
          "name": "stdout",
          "text": [
            "i5, 16gb, 1TB\n",
            "i5, 16gb, 1TB\n",
            "i5, 16gb, 1TB\n",
            "i5, 16gb, 1TB\n"
          ]
        }
      ]
    },
    {
      "cell_type": "code",
      "source": [
        "a=5\n",
        "a.bit_length()"
      ],
      "metadata": {
        "colab": {
          "base_uri": "https://localhost:8080/"
        },
        "id": "jYhtODNUP08C",
        "outputId": "879b85e5-5f52-4bc6-e15f-549360e77164"
      },
      "execution_count": null,
      "outputs": [
        {
          "output_type": "execute_result",
          "data": {
            "text/plain": [
              "3"
            ]
          },
          "metadata": {},
          "execution_count": 13
        }
      ]
    },
    {
      "cell_type": "code",
      "source": [
        "# earlier we have worked with methods, we haven't with variables\n",
        "# 1 varible: type of cpu, 2 varialbe:amount of ram\n",
        "class computer:\n",
        "\n",
        "  def __init__(self,cpu,ram): # special method for initializing variables\n",
        "    self.cpu = cpu  # automatically this method will be called for every object\n",
        "    self.ram = ram\n",
        "\n",
        "  def config(self):\n",
        "    print('coonfig is', self.cpu, self.ram)\n",
        "\n",
        "com1 = computer('i5', 16) # accept this cpu and ram variables in init by adding there\n",
        "com2= computer('Ryzen 3', 8)\n",
        "\n",
        "com1.config()\n",
        "com2.config()\n",
        "\n"
      ],
      "metadata": {
        "colab": {
          "base_uri": "https://localhost:8080/"
        },
        "id": "rN5rsOXxQbMm",
        "outputId": "5c9cbfb5-9506-42ac-934d-25b42ed933db"
      },
      "execution_count": null,
      "outputs": [
        {
          "output_type": "stream",
          "name": "stdout",
          "text": [
            "coonfig is i5 16\n",
            "coonfig is Ryzen 3 8\n"
          ]
        }
      ]
    },
    {
      "cell_type": "code",
      "source": [
        ""
      ],
      "metadata": {
        "id": "UHFhwAlySyQD"
      },
      "execution_count": null,
      "outputs": []
    },
    {
      "cell_type": "markdown",
      "source": [
        "## Exercise 9-7, 8,9"
      ],
      "metadata": {
        "id": "VeVwwVPlgaVC"
      }
    },
    {
      "cell_type": "code",
      "source": [
        ""
      ],
      "metadata": {
        "id": "atmvfBNpgeJw"
      },
      "execution_count": null,
      "outputs": []
    },
    {
      "cell_type": "markdown",
      "source": [
        "# C10. Lists\n",
        "\n",
        "This chapter presents one of Python’s most useful built-in types: lists. You will also learn\n",
        "more about objects and what can happen when you have more than one name for the same\n",
        "object"
      ],
      "metadata": {
        "id": "fVHywfKMghMs"
      }
    },
    {
      "cell_type": "code",
      "source": [
        ""
      ],
      "metadata": {
        "id": "vfS0f7t7gksY"
      },
      "execution_count": null,
      "outputs": []
    },
    {
      "cell_type": "markdown",
      "source": [
        "# A list is Sequence\n",
        "Like a string, a list is a sequence of values. In a string, the values are characters; in a list,\n",
        "they can be any type. The values in a list are called elements or sometimes items.\n",
        "There are several ways to create a new list; the simplest is to enclose the elements in\n",
        "square brackets ([ and ])"
      ],
      "metadata": {
        "id": "NH0c3oD5z4aD"
      }
    },
    {
      "cell_type": "code",
      "source": [
        "# list of integers, # List of strings. elements/items are seperated within brackets by commas\n",
        "[10,20, 30, 40]\n",
        "['crunchy frog', 'ram bladder','lark vomit', 'LOL']"
      ],
      "metadata": {
        "id": "Tk1pu1dqz8zO",
        "colab": {
          "base_uri": "https://localhost:8080/"
        },
        "outputId": "5d141ff7-471c-476a-91be-43ac517c1ae5"
      },
      "execution_count": null,
      "outputs": [
        {
          "output_type": "execute_result",
          "data": {
            "text/plain": [
              "['crunchy frog', 'ram bladder', 'lark vomit', 'LOL']"
            ]
          },
          "metadata": {},
          "execution_count": 1
        }
      ]
    },
    {
      "cell_type": "code",
      "source": [
        "#The following list contains a string, a float, an integer, and (lo!) another list:\n",
        "['spam', 2.0, 5, [10,20]]"
      ],
      "metadata": {
        "colab": {
          "base_uri": "https://localhost:8080/"
        },
        "id": "l9ZSE-hk1iKF",
        "outputId": "f23b44d0-79a8-48ea-ba0c-b9b0eb921742"
      },
      "execution_count": null,
      "outputs": [
        {
          "output_type": "execute_result",
          "data": {
            "text/plain": [
              "['spam', 2.0, 5, [10, 20]]"
            ]
          },
          "metadata": {},
          "execution_count": 2
        }
      ]
    },
    {
      "cell_type": "code",
      "source": [
        ""
      ],
      "metadata": {
        "id": "sFOK_SIJ17q4"
      },
      "execution_count": null,
      "outputs": []
    },
    {
      "cell_type": "markdown",
      "source": [
        "A list within another list is nested.\n",
        "A list that contains no elements is called an empty list; you can create one with empty\n",
        "brackets, [].\n",
        "\n",
        "As you might expect, you can assign list values to variables:\n"
      ],
      "metadata": {
        "id": "GGc7DReq2HnD"
      }
    },
    {
      "cell_type": "code",
      "source": [
        "cheese = ['cheddar', 'Edam', 'Gouda']\n",
        "numbers = [42, 123]\n",
        "empty = []\n",
        "print(cheese, numbers, empty)"
      ],
      "metadata": {
        "colab": {
          "base_uri": "https://localhost:8080/"
        },
        "id": "dnzYtGza2IzY",
        "outputId": "e0cf2e77-a081-40fb-ef3c-a068a67ab338"
      },
      "execution_count": null,
      "outputs": [
        {
          "output_type": "stream",
          "name": "stdout",
          "text": [
            "['cheddar', 'Edam', 'Gouda'] [42, 123] []\n"
          ]
        }
      ]
    },
    {
      "cell_type": "code",
      "source": [
        ""
      ],
      "metadata": {
        "id": "v1WBvenH2emz"
      },
      "execution_count": null,
      "outputs": []
    },
    {
      "cell_type": "markdown",
      "source": [
        "## Lists are mutable\n",
        "The syntax for accessing the elements of a list is the same as for accessing the characters\n",
        "of a string — the bracket operator. The expression inside the brackets specifies the index.\n",
        "Remember that the indices start at 0:"
      ],
      "metadata": {
        "id": "7JZGJHpu2k7T"
      }
    },
    {
      "cell_type": "code",
      "source": [
        "cheese[0]"
      ],
      "metadata": {
        "colab": {
          "base_uri": "https://localhost:8080/",
          "height": 35
        },
        "id": "TwwP8OFG2rqw",
        "outputId": "42cdfd7c-7598-477a-e707-6af36848edf1"
      },
      "execution_count": null,
      "outputs": [
        {
          "output_type": "execute_result",
          "data": {
            "application/vnd.google.colaboratory.intrinsic+json": {
              "type": "string"
            },
            "text/plain": [
              "'cheddar'"
            ]
          },
          "metadata": {},
          "execution_count": 4
        }
      ]
    },
    {
      "cell_type": "code",
      "source": [
        "numbers[1]"
      ],
      "metadata": {
        "colab": {
          "base_uri": "https://localhost:8080/"
        },
        "id": "y3YKn-Y42vOJ",
        "outputId": "c015c1e6-e0ce-4eec-fa0c-ff3f46080b87"
      },
      "execution_count": null,
      "outputs": [
        {
          "output_type": "execute_result",
          "data": {
            "text/plain": [
              "123"
            ]
          },
          "metadata": {},
          "execution_count": 5
        }
      ]
    },
    {
      "cell_type": "code",
      "source": [
        "numbers=[42, 123]"
      ],
      "metadata": {
        "id": "4n6Pn0bX2xm_"
      },
      "execution_count": null,
      "outputs": []
    },
    {
      "cell_type": "code",
      "source": [
        "numbers[1]=5"
      ],
      "metadata": {
        "id": "HFBxI95R26sw"
      },
      "execution_count": null,
      "outputs": []
    },
    {
      "cell_type": "code",
      "source": [
        "numbers #The one-eth element of numbers, which used to be 123, is now 5.\n",
        "        # Hence lists are MUTABLE"
      ],
      "metadata": {
        "colab": {
          "base_uri": "https://localhost:8080/"
        },
        "id": "LT5MC6ad3Az4",
        "outputId": "1093c270-6f84-4a07-d78f-af40db5d0441"
      },
      "execution_count": null,
      "outputs": [
        {
          "output_type": "execute_result",
          "data": {
            "text/plain": [
              "[42, 5]"
            ]
          },
          "metadata": {},
          "execution_count": 9
        }
      ]
    },
    {
      "cell_type": "markdown",
      "source": [
        "List indices work the same way as string indices:\n",
        "Any integer expression can be used as an index.\n",
        "If you try to read or write an element that does not exist, you get an IndexError.\n",
        "If an index has a negative value, it counts backward from the end of the list.\n",
        "\n",
        "The in operator also works on lists:\n"
      ],
      "metadata": {
        "id": "L9IS-IOT3yLX"
      }
    },
    {
      "cell_type": "code",
      "source": [
        "cheese"
      ],
      "metadata": {
        "colab": {
          "base_uri": "https://localhost:8080/"
        },
        "id": "m1LYdC5v3C6Q",
        "outputId": "be35f886-dc15-4e27-cd28-90096dc635a3"
      },
      "execution_count": null,
      "outputs": [
        {
          "output_type": "execute_result",
          "data": {
            "text/plain": [
              "['cheddar', 'Edam', 'Gouda']"
            ]
          },
          "metadata": {},
          "execution_count": 10
        }
      ]
    },
    {
      "cell_type": "code",
      "source": [
        "'Edam' in cheese"
      ],
      "metadata": {
        "colab": {
          "base_uri": "https://localhost:8080/"
        },
        "id": "SJYVQDQM3y_w",
        "outputId": "521e97d4-c68b-49c9-f433-a01547fcff9f"
      },
      "execution_count": null,
      "outputs": [
        {
          "output_type": "execute_result",
          "data": {
            "text/plain": [
              "True"
            ]
          },
          "metadata": {},
          "execution_count": 12
        }
      ]
    },
    {
      "cell_type": "code",
      "source": [
        "'Brie' in cheese"
      ],
      "metadata": {
        "colab": {
          "base_uri": "https://localhost:8080/"
        },
        "id": "zFw-jddh3-lp",
        "outputId": "7f46f80d-5922-4aa3-8ee6-cd621a7b522c"
      },
      "execution_count": null,
      "outputs": [
        {
          "output_type": "execute_result",
          "data": {
            "text/plain": [
              "False"
            ]
          },
          "metadata": {},
          "execution_count": 13
        }
      ]
    },
    {
      "cell_type": "code",
      "source": [
        ""
      ],
      "metadata": {
        "id": "X5ZucJkT4GTA"
      },
      "execution_count": null,
      "outputs": []
    },
    {
      "cell_type": "markdown",
      "source": [
        "## Traversing a List\n",
        "The most common way to traverse the elements of a list is with a for loop. The syntax is\n",
        "the same as for strings:"
      ],
      "metadata": {
        "id": "o7lDgu8a4II9"
      }
    },
    {
      "cell_type": "code",
      "source": [
        "for item in cheese:\n",
        "  print(item)"
      ],
      "metadata": {
        "colab": {
          "base_uri": "https://localhost:8080/"
        },
        "id": "0W-fqzij4UJ_",
        "outputId": "d4c88d1b-7fa5-494b-b4cc-77826198ee7e"
      },
      "execution_count": null,
      "outputs": [
        {
          "output_type": "stream",
          "name": "stdout",
          "text": [
            "cheddar\n",
            "Edam\n",
            "Gouda\n"
          ]
        }
      ]
    },
    {
      "cell_type": "markdown",
      "source": [
        "This works well if you only need to read the elements of the list. But if you want to write\n",
        "or update the elements, you need the indices. A common way to do that is to combine the\n",
        "built-in functions range and len:\n"
      ],
      "metadata": {
        "id": "mQ4zmslh4tlT"
      }
    },
    {
      "cell_type": "code",
      "source": [
        "for i in range(len(numbers)):\n",
        "  print(i)\n",
        "  numbers[i]=numbers[i]+2\n",
        "  print(numbers)"
      ],
      "metadata": {
        "colab": {
          "base_uri": "https://localhost:8080/"
        },
        "id": "uinXKq9b4YlX",
        "outputId": "f004ebc4-229b-47ad-fbd3-88a1e583531a"
      },
      "execution_count": null,
      "outputs": [
        {
          "output_type": "stream",
          "name": "stdout",
          "text": [
            "0\n",
            "[52, 13]\n",
            "1\n",
            "[52, 15]\n"
          ]
        }
      ]
    },
    {
      "cell_type": "markdown",
      "source": [
        "This loop traverses the list and updates each element. len returns the number of elements\n",
        "in the list. range returns a list of indices from 0 to n-1, where n is the length of the list.\n",
        "Each time through the loop, i gets the index of the next element. The assignment\n",
        "statement in the body uses i to read the old value of the element and to assign the new\n",
        "value."
      ],
      "metadata": {
        "id": "kww42XrA57tl"
      }
    },
    {
      "cell_type": "markdown",
      "source": [
        "Although a list can contain another list, the nested list still counts as a single element. The\n",
        "length of this list is four:\n"
      ],
      "metadata": {
        "id": "KXufTE7a6aZR"
      }
    },
    {
      "cell_type": "code",
      "source": [
        "Nested_list =['spam', 1, ['Brie', 'Roquefort','Pol le Veq'],[1,2,3]]"
      ],
      "metadata": {
        "id": "UNJYqpp_4wcY"
      },
      "execution_count": null,
      "outputs": []
    },
    {
      "cell_type": "code",
      "source": [
        "len(Nested_list)"
      ],
      "metadata": {
        "colab": {
          "base_uri": "https://localhost:8080/"
        },
        "id": "kixhDLZO6bF_",
        "outputId": "630428c1-4dce-498c-bac8-cf7eb88e1a15"
      },
      "execution_count": null,
      "outputs": [
        {
          "output_type": "execute_result",
          "data": {
            "text/plain": [
              "4"
            ]
          },
          "metadata": {},
          "execution_count": 21
        }
      ]
    },
    {
      "cell_type": "code",
      "source": [
        "range(len(Nested_list))"
      ],
      "metadata": {
        "colab": {
          "base_uri": "https://localhost:8080/"
        },
        "id": "nq402tbh62LA",
        "outputId": "9ae6ec82-5110-4f37-f64f-8aa5e2165510"
      },
      "execution_count": null,
      "outputs": [
        {
          "output_type": "execute_result",
          "data": {
            "text/plain": [
              "range(0, 4)"
            ]
          },
          "metadata": {},
          "execution_count": 22
        }
      ]
    },
    {
      "cell_type": "code",
      "source": [
        "for i in range(len(Nested_list)):\n",
        "  print(i)"
      ],
      "metadata": {
        "colab": {
          "base_uri": "https://localhost:8080/"
        },
        "id": "aYaPmN5x67VQ",
        "outputId": "eb79ab01-8c10-41a7-9177-9c3d6c35cb54"
      },
      "execution_count": null,
      "outputs": [
        {
          "output_type": "stream",
          "name": "stdout",
          "text": [
            "0\n",
            "1\n",
            "2\n",
            "3\n"
          ]
        }
      ]
    },
    {
      "cell_type": "code",
      "source": [
        ""
      ],
      "metadata": {
        "id": "uM3d5P7X7Ed_"
      },
      "execution_count": null,
      "outputs": []
    },
    {
      "cell_type": "markdown",
      "source": [
        "## List operations\n",
        "The + operator concatenates lists:\n",
        "The * operator repeats a list a given number of times:\n"
      ],
      "metadata": {
        "id": "h1Otx5KO7MeM"
      }
    },
    {
      "cell_type": "code",
      "source": [
        "a = [1,2,3]\n",
        "b= [4,5,6]\n",
        "c= a+b"
      ],
      "metadata": {
        "id": "wGSHJOFA7VT_"
      },
      "execution_count": null,
      "outputs": []
    },
    {
      "cell_type": "code",
      "source": [
        "c"
      ],
      "metadata": {
        "colab": {
          "base_uri": "https://localhost:8080/"
        },
        "id": "CLtBPs9E7eFA",
        "outputId": "30e347d1-1e98-4111-fe4c-0d601513045a"
      },
      "execution_count": null,
      "outputs": [
        {
          "output_type": "execute_result",
          "data": {
            "text/plain": [
              "[1, 2, 3, 4, 5, 6]"
            ]
          },
          "metadata": {},
          "execution_count": 25
        }
      ]
    },
    {
      "cell_type": "code",
      "source": [
        "d= [0]*4\n",
        "d"
      ],
      "metadata": {
        "colab": {
          "base_uri": "https://localhost:8080/"
        },
        "id": "Wme-DOFj7fBg",
        "outputId": "b76ea691-bfd5-4544-c4b1-f563f0366645"
      },
      "execution_count": null,
      "outputs": [
        {
          "output_type": "execute_result",
          "data": {
            "text/plain": [
              "[0, 0, 0, 0]"
            ]
          },
          "metadata": {},
          "execution_count": 26
        }
      ]
    },
    {
      "cell_type": "code",
      "source": [
        "e= [1,2]*2\n",
        "e"
      ],
      "metadata": {
        "colab": {
          "base_uri": "https://localhost:8080/"
        },
        "id": "WccGaL8K7qiH",
        "outputId": "07a3cf6f-0f66-4860-f181-a85e1ae1243b"
      },
      "execution_count": null,
      "outputs": [
        {
          "output_type": "execute_result",
          "data": {
            "text/plain": [
              "[1, 2, 1, 2]"
            ]
          },
          "metadata": {},
          "execution_count": 27
        }
      ]
    },
    {
      "cell_type": "code",
      "source": [
        ""
      ],
      "metadata": {
        "id": "eS7D5CRS7yef"
      },
      "execution_count": null,
      "outputs": []
    },
    {
      "cell_type": "markdown",
      "source": [
        "## List slices\n",
        "slice operator ':' also works\n",
        "If you omit the first index, the slice starts at the beginning. If you omit the second, the\n",
        "slice goes to the end. So if you omit both, the slice is a copy of the whole list"
      ],
      "metadata": {
        "id": "Y_onbmVC8uJi"
      }
    },
    {
      "cell_type": "code",
      "source": [
        "t=['a','b','c','d','e','f']\n",
        "t[1:3]"
      ],
      "metadata": {
        "colab": {
          "base_uri": "https://localhost:8080/"
        },
        "id": "ywUfIA0T88Y5",
        "outputId": "0eb59b91-15fa-40cc-e1fa-161ea962aa48"
      },
      "execution_count": null,
      "outputs": [
        {
          "output_type": "execute_result",
          "data": {
            "text/plain": [
              "['b', 'c']"
            ]
          },
          "metadata": {},
          "execution_count": 28
        }
      ]
    },
    {
      "cell_type": "code",
      "source": [
        "t[:4]"
      ],
      "metadata": {
        "colab": {
          "base_uri": "https://localhost:8080/"
        },
        "id": "hASOFseQ9Rth",
        "outputId": "4b7dbad2-34d2-4d75-9516-402bacf7dfff"
      },
      "execution_count": null,
      "outputs": [
        {
          "output_type": "execute_result",
          "data": {
            "text/plain": [
              "['a', 'b', 'c', 'd']"
            ]
          },
          "metadata": {},
          "execution_count": 29
        }
      ]
    },
    {
      "cell_type": "code",
      "source": [
        "t[3:]"
      ],
      "metadata": {
        "colab": {
          "base_uri": "https://localhost:8080/"
        },
        "id": "N1utDG3g9VnI",
        "outputId": "3f267f71-5a37-4647-aa0e-90645ee0a4d2"
      },
      "execution_count": null,
      "outputs": [
        {
          "output_type": "execute_result",
          "data": {
            "text/plain": [
              "['d', 'e', 'f']"
            ]
          },
          "metadata": {},
          "execution_count": 30
        }
      ]
    },
    {
      "cell_type": "markdown",
      "source": [
        "Since lists are mutable, it is often useful to make a copy before performing operations that\n",
        "modify lists.\n",
        "\n",
        "A slice operator on the left side of an assignment can update multiple elements"
      ],
      "metadata": {
        "id": "nJqYAaOH9jL3"
      }
    },
    {
      "cell_type": "code",
      "source": [
        "t[:]"
      ],
      "metadata": {
        "colab": {
          "base_uri": "https://localhost:8080/"
        },
        "id": "VuDhfcrT9bZT",
        "outputId": "009a1490-69dd-4a24-ddcf-c7de00aa221e"
      },
      "execution_count": null,
      "outputs": [
        {
          "output_type": "execute_result",
          "data": {
            "text/plain": [
              "['a', 'b', 'c', 'd', 'e', 'f']"
            ]
          },
          "metadata": {},
          "execution_count": 31
        }
      ]
    },
    {
      "cell_type": "code",
      "source": [
        "t[1:3] =['x', 'y']"
      ],
      "metadata": {
        "id": "sw9H4zfi9lBG"
      },
      "execution_count": null,
      "outputs": []
    },
    {
      "cell_type": "code",
      "source": [
        "t[:]"
      ],
      "metadata": {
        "colab": {
          "base_uri": "https://localhost:8080/"
        },
        "id": "Asgznzhk93rP",
        "outputId": "fcbea0db-fc04-411a-f84f-bb62777842e1"
      },
      "execution_count": null,
      "outputs": [
        {
          "output_type": "execute_result",
          "data": {
            "text/plain": [
              "['a', 'x', 'y', 'd', 'e', 'f']"
            ]
          },
          "metadata": {},
          "execution_count": 33
        }
      ]
    },
    {
      "cell_type": "code",
      "source": [
        ""
      ],
      "metadata": {
        "id": "NYruK8cN95a_"
      },
      "execution_count": null,
      "outputs": []
    },
    {
      "cell_type": "markdown",
      "source": [
        "## List methods\n",
        "Python provides methods that operate on lists. For example, append adds a new element to\n",
        "the end of a list:\n"
      ],
      "metadata": {
        "id": "7Xt3aGcf970x"
      }
    },
    {
      "cell_type": "code",
      "source": [
        "t.append('d')"
      ],
      "metadata": {
        "id": "Ug1qIOKK99ZH"
      },
      "execution_count": null,
      "outputs": []
    },
    {
      "cell_type": "code",
      "source": [
        "t"
      ],
      "metadata": {
        "colab": {
          "base_uri": "https://localhost:8080/"
        },
        "id": "y6KBjP6X-Gq4",
        "outputId": "ece1b56a-6383-476b-c97e-510dddcf7ab4"
      },
      "execution_count": null,
      "outputs": [
        {
          "output_type": "execute_result",
          "data": {
            "text/plain": [
              "['a', 'x', 'y', 'd', 'e', 'f', 'd']"
            ]
          },
          "metadata": {},
          "execution_count": 35
        }
      ]
    },
    {
      "cell_type": "code",
      "source": [
        "#extend takes a list as an argument and appends all of the elements:\n",
        "t1=t\n",
        "t2=['l','o','v','e']\n"
      ],
      "metadata": {
        "id": "i-sxGARv-Hi4"
      },
      "execution_count": null,
      "outputs": []
    },
    {
      "cell_type": "code",
      "source": [
        "t1.extend(t2)"
      ],
      "metadata": {
        "id": "WZF5_hGP-e4e"
      },
      "execution_count": null,
      "outputs": []
    },
    {
      "cell_type": "code",
      "source": [
        "t1"
      ],
      "metadata": {
        "colab": {
          "base_uri": "https://localhost:8080/"
        },
        "id": "FHYBTcf_-haf",
        "outputId": "4b735523-8e7a-408c-9aa1-ec1a5b909ac3"
      },
      "execution_count": null,
      "outputs": [
        {
          "output_type": "execute_result",
          "data": {
            "text/plain": [
              "['a', 'x', 'y', 'd', 'e', 'f', 'd', 'l', 'o', 'v', 'e']"
            ]
          },
          "metadata": {},
          "execution_count": 38
        }
      ]
    },
    {
      "cell_type": "code",
      "source": [
        "#This example leaves t2 unmodified.\n",
        "#sort arranges the elements of the list from low to high:\n",
        "t.sort()"
      ],
      "metadata": {
        "id": "mUQK_Ccn-ihh"
      },
      "execution_count": null,
      "outputs": []
    },
    {
      "cell_type": "code",
      "source": [
        "t"
      ],
      "metadata": {
        "colab": {
          "base_uri": "https://localhost:8080/"
        },
        "id": "6Br79dvb-y9_",
        "outputId": "c35f8b98-5f4e-46d1-8962-3e73e1dc2aff"
      },
      "execution_count": null,
      "outputs": [
        {
          "output_type": "execute_result",
          "data": {
            "text/plain": [
              "['a', 'd', 'd', 'e', 'e', 'f', 'l', 'o', 'v', 'x', 'y']"
            ]
          },
          "metadata": {},
          "execution_count": 40
        }
      ]
    },
    {
      "cell_type": "markdown",
      "source": [
        "Most list methods are void; they modify the list and return None. If you accidentally write\n",
        "t = t.sort(), you will be disappointed with the result"
      ],
      "metadata": {
        "id": "i7AYm6lUAWQZ"
      }
    },
    {
      "cell_type": "code",
      "source": [
        "t=t.sort()"
      ],
      "metadata": {
        "id": "YuD3P8_V-0Fo"
      },
      "execution_count": null,
      "outputs": []
    },
    {
      "cell_type": "code",
      "source": [
        "t"
      ],
      "metadata": {
        "id": "QQrddLO2AW7f"
      },
      "execution_count": null,
      "outputs": []
    },
    {
      "cell_type": "code",
      "source": [
        "type(t)"
      ],
      "metadata": {
        "colab": {
          "base_uri": "https://localhost:8080/"
        },
        "id": "F_d6Mr23AbBe",
        "outputId": "20cee496-b1ea-4c52-eae7-ad00b3b390f6"
      },
      "execution_count": null,
      "outputs": [
        {
          "output_type": "execute_result",
          "data": {
            "text/plain": [
              "NoneType"
            ]
          },
          "metadata": {},
          "execution_count": 43
        }
      ]
    },
    {
      "cell_type": "code",
      "source": [
        ""
      ],
      "metadata": {
        "id": "Y1DqmlJuAd98"
      },
      "execution_count": null,
      "outputs": []
    },
    {
      "cell_type": "markdown",
      "source": [
        "## Map, Filter, Reduce\n",
        "To add up all the numbers in a list, you can use a loop like this:"
      ],
      "metadata": {
        "id": "l2DGyDFtAtI1"
      }
    },
    {
      "cell_type": "code",
      "source": [
        "def add_all(t):\n",
        "  total =0\n",
        "  for x in t:\n",
        "    total += x\n",
        "  return total"
      ],
      "metadata": {
        "id": "HEw5Kz6EAzUx"
      },
      "execution_count": null,
      "outputs": []
    },
    {
      "cell_type": "code",
      "source": [
        "t=[1,2,3,4,5,6]\n",
        "t"
      ],
      "metadata": {
        "colab": {
          "base_uri": "https://localhost:8080/"
        },
        "id": "U-hudTJhUKsS",
        "outputId": "83f6d2ab-11f1-4453-b12e-c53d6d44d724"
      },
      "execution_count": null,
      "outputs": [
        {
          "output_type": "execute_result",
          "data": {
            "text/plain": [
              "[1, 2, 3, 4, 5, 6]"
            ]
          },
          "metadata": {},
          "execution_count": 51
        }
      ]
    },
    {
      "cell_type": "code",
      "source": [
        "add_all(t)"
      ],
      "metadata": {
        "colab": {
          "base_uri": "https://localhost:8080/"
        },
        "id": "sky3vMG3URv4",
        "outputId": "67c3e9c7-9ef0-4483-80e8-2771281a0745"
      },
      "execution_count": null,
      "outputs": [
        {
          "output_type": "execute_result",
          "data": {
            "text/plain": [
              "21"
            ]
          },
          "metadata": {},
          "execution_count": 53
        }
      ]
    },
    {
      "cell_type": "markdown",
      "source": [
        "total is initialized to 0. Each time through the loop, x gets one element from the list. The\n",
        "+= operator provides a short way to update a variable. This augmented assignment\n",
        "statement"
      ],
      "metadata": {
        "id": "P1j5agsLV8VL"
      }
    },
    {
      "cell_type": "markdown",
      "source": [
        "As the loop runs, total accumulates the sum of the elements; a variable used this way is\n",
        "sometimes called an accumulator.\n",
        "Adding up the elements of a list is such a common operation that Python provides it as a\n",
        "built-in function, sum"
      ],
      "metadata": {
        "id": "Gs4YP98wWSTh"
      }
    },
    {
      "cell_type": "code",
      "source": [
        "t=[1,2,3]"
      ],
      "metadata": {
        "id": "bH0BEx6bUmqF"
      },
      "execution_count": null,
      "outputs": []
    },
    {
      "cell_type": "code",
      "source": [
        "sum(t)"
      ],
      "metadata": {
        "colab": {
          "base_uri": "https://localhost:8080/"
        },
        "id": "51ZW_WO-V9XM",
        "outputId": "6bb67262-375d-413d-a448-0d32c3425b13"
      },
      "execution_count": null,
      "outputs": [
        {
          "output_type": "execute_result",
          "data": {
            "text/plain": [
              "6"
            ]
          },
          "metadata": {},
          "execution_count": 55
        }
      ]
    },
    {
      "cell_type": "markdown",
      "source": [
        "An operation like this that combines a sequence of elements into a single value is\n",
        "sometimes called reduce.\n"
      ],
      "metadata": {
        "id": "__Gsn2g7Wf90"
      }
    },
    {
      "cell_type": "code",
      "source": [
        "#capitalize strings\n",
        "def capitalize_all(t):\n",
        "  res =[]\n",
        "  for s in t:\n",
        "    res.append(s.capitalize())\n",
        "  return res"
      ],
      "metadata": {
        "id": "5mikPAwUWaBE"
      },
      "execution_count": null,
      "outputs": []
    },
    {
      "cell_type": "code",
      "source": [
        "capitalize_all('curious soul')"
      ],
      "metadata": {
        "colab": {
          "base_uri": "https://localhost:8080/"
        },
        "id": "vDP8skC5Wgw0",
        "outputId": "8e5d6ae6-814b-4f51-83f1-5a41253b5c95"
      },
      "execution_count": null,
      "outputs": [
        {
          "output_type": "execute_result",
          "data": {
            "text/plain": [
              "['C', 'U', 'R', 'I', 'O', 'U', 'S', ' ', 'S', 'O', 'U', 'L']"
            ]
          },
          "metadata": {},
          "execution_count": 57
        }
      ]
    },
    {
      "cell_type": "markdown",
      "source": [
        "res is initialized with an empty list; each time through the loop, we append the next\n",
        "element. So res is another kind of accumulator.\n",
        "An operation like capitalize_all is sometimes called a map because it “maps” a\n",
        "function (in this case the method capitalize) onto each of the elements in a sequence."
      ],
      "metadata": {
        "id": "6L_wZkY3Xlj1"
      }
    },
    {
      "cell_type": "code",
      "source": [
        "def only_upper(t):\n",
        "  res =[]\n",
        "  for s in t:\n",
        "    if s.isupper():\n",
        "      res.append(s)\n",
        "  return res"
      ],
      "metadata": {
        "id": "V4vrQPPfXGiw"
      },
      "execution_count": null,
      "outputs": []
    },
    {
      "cell_type": "code",
      "source": [
        "only_upper('cUriouS souL')"
      ],
      "metadata": {
        "colab": {
          "base_uri": "https://localhost:8080/"
        },
        "id": "DeGAh6slXmW-",
        "outputId": "4f2b46f7-bdeb-46a7-9d7b-7a8ef443cd4a"
      },
      "execution_count": null,
      "outputs": [
        {
          "output_type": "execute_result",
          "data": {
            "text/plain": [
              "['U', 'S', 'L']"
            ]
          },
          "metadata": {},
          "execution_count": 59
        }
      ]
    },
    {
      "cell_type": "markdown",
      "source": [
        "isupper is a string method that returns True if the string contains only uppercase letters.\n",
        "An operation like only_upper is called a filter because it selects some of the elements and\n",
        "filters out the others."
      ],
      "metadata": {
        "id": "QJCT6jJaYqBc"
      }
    },
    {
      "cell_type": "markdown",
      "source": [
        "## Deleting Elements\n",
        "There are several ways to delete elements from a list. If you know the index of the element\n",
        "you want, you can use pop:"
      ],
      "metadata": {
        "id": "mtWVqvjCYywl"
      }
    },
    {
      "cell_type": "code",
      "source": [
        "t = ['a','b','c']"
      ],
      "metadata": {
        "id": "5d3VegXoYBAW"
      },
      "execution_count": null,
      "outputs": []
    },
    {
      "cell_type": "code",
      "source": [
        "x = t.pop(1)"
      ],
      "metadata": {
        "id": "UenoEzW2YroK"
      },
      "execution_count": null,
      "outputs": []
    },
    {
      "cell_type": "code",
      "source": [
        "x"
      ],
      "metadata": {
        "colab": {
          "base_uri": "https://localhost:8080/",
          "height": 35
        },
        "id": "kA74a7SYZPo0",
        "outputId": "a4bd81b1-9b85-4348-e212-78e52a706208"
      },
      "execution_count": null,
      "outputs": [
        {
          "output_type": "execute_result",
          "data": {
            "application/vnd.google.colaboratory.intrinsic+json": {
              "type": "string"
            },
            "text/plain": [
              "'b'"
            ]
          },
          "metadata": {},
          "execution_count": 62
        }
      ]
    },
    {
      "cell_type": "code",
      "source": [
        "t"
      ],
      "metadata": {
        "colab": {
          "base_uri": "https://localhost:8080/"
        },
        "id": "mc69EJXcZRKM",
        "outputId": "a63a37ee-dbc9-4247-ea78-ca950ab31216"
      },
      "execution_count": null,
      "outputs": [
        {
          "output_type": "execute_result",
          "data": {
            "text/plain": [
              "['a', 'c']"
            ]
          },
          "metadata": {},
          "execution_count": 63
        }
      ]
    },
    {
      "cell_type": "code",
      "source": [
        "x=t.pop()"
      ],
      "metadata": {
        "id": "W2BogN2vZcTX"
      },
      "execution_count": null,
      "outputs": []
    },
    {
      "cell_type": "code",
      "source": [
        "x"
      ],
      "metadata": {
        "colab": {
          "base_uri": "https://localhost:8080/",
          "height": 35
        },
        "id": "Sd8gJ1JFZ4M1",
        "outputId": "d7a74fd9-7e7c-4715-e771-faae99364513"
      },
      "execution_count": null,
      "outputs": [
        {
          "output_type": "execute_result",
          "data": {
            "application/vnd.google.colaboratory.intrinsic+json": {
              "type": "string"
            },
            "text/plain": [
              "'c'"
            ]
          },
          "metadata": {},
          "execution_count": 65
        }
      ]
    },
    {
      "cell_type": "code",
      "source": [
        ""
      ],
      "metadata": {
        "id": "Ow6arqJlZ5Gt"
      },
      "execution_count": null,
      "outputs": []
    },
    {
      "cell_type": "markdown",
      "source": [
        "pop modifies the list and returns the element that was removed. If you don’t provide an\n",
        "index, it deletes and returns the last element.\n",
        "If you don’t need the removed value, you can use the del operator\n"
      ],
      "metadata": {
        "id": "fVLkbnB4Z6K6"
      }
    },
    {
      "cell_type": "code",
      "source": [
        "t =['a','b','c']"
      ],
      "metadata": {
        "id": "WJdIScPAaDQH"
      },
      "execution_count": null,
      "outputs": []
    },
    {
      "cell_type": "code",
      "source": [
        "del t[1]\n",
        "t"
      ],
      "metadata": {
        "colab": {
          "base_uri": "https://localhost:8080/"
        },
        "id": "XPRZQioIaKQ3",
        "outputId": "9ff80090-c7f8-4ce1-ce99-9d3bef64331e"
      },
      "execution_count": null,
      "outputs": [
        {
          "output_type": "execute_result",
          "data": {
            "text/plain": [
              "['a', 'c']"
            ]
          },
          "metadata": {},
          "execution_count": 67
        }
      ]
    },
    {
      "cell_type": "markdown",
      "source": [
        "If you know the element you want to remove (but not the index), you can use remove:\n"
      ],
      "metadata": {
        "id": "6SF-zoaDcFFg"
      }
    },
    {
      "cell_type": "code",
      "source": [
        "t=['a','b','c']"
      ],
      "metadata": {
        "id": "hD6sZf2caOCk"
      },
      "execution_count": null,
      "outputs": []
    },
    {
      "cell_type": "code",
      "source": [
        "t.remove('b')"
      ],
      "metadata": {
        "id": "Jl1w-_v6cF_F"
      },
      "execution_count": null,
      "outputs": []
    },
    {
      "cell_type": "code",
      "source": [
        "t"
      ],
      "metadata": {
        "colab": {
          "base_uri": "https://localhost:8080/"
        },
        "id": "nVq0rewocWOd",
        "outputId": "3c4e2bd1-4a56-4bfe-d988-da87f9279800"
      },
      "execution_count": null,
      "outputs": [
        {
          "output_type": "execute_result",
          "data": {
            "text/plain": [
              "['a', 'c']"
            ]
          },
          "metadata": {},
          "execution_count": 70
        }
      ]
    },
    {
      "cell_type": "markdown",
      "source": [
        "The return value from remove is None.\n",
        "To remove more than one element, you can use del with a slice index:"
      ],
      "metadata": {
        "id": "4T5dFC32ck-i"
      }
    },
    {
      "cell_type": "code",
      "source": [
        "t = ['a', 'b', 'c', 'd', 'e', 'f']\n",
        "del t[1:5]"
      ],
      "metadata": {
        "id": "-_60bXuscYVc"
      },
      "execution_count": null,
      "outputs": []
    },
    {
      "cell_type": "code",
      "source": [
        "t"
      ],
      "metadata": {
        "colab": {
          "base_uri": "https://localhost:8080/"
        },
        "id": "G4qDFxKHcm89",
        "outputId": "d8322d0e-f86a-4db1-fd55-b4e0e01bd99e"
      },
      "execution_count": null,
      "outputs": [
        {
          "output_type": "execute_result",
          "data": {
            "text/plain": [
              "['a', 'f']"
            ]
          },
          "metadata": {},
          "execution_count": 72
        }
      ]
    },
    {
      "cell_type": "code",
      "source": [
        ""
      ],
      "metadata": {
        "id": "ApUtOiP2c1F8"
      },
      "execution_count": null,
      "outputs": []
    },
    {
      "cell_type": "markdown",
      "source": [
        "## Lists and Strings\n",
        "A string is a sequence of characters and a list is a sequence of values, but a list of\n",
        "characters is not the same as a string. To convert from a string to a list of characters, you\n",
        "can use list"
      ],
      "metadata": {
        "id": "Sso0ldl8UCvY"
      }
    },
    {
      "cell_type": "code",
      "source": [
        "s = 'spam'\n",
        "t = list(s)\n",
        "t"
      ],
      "metadata": {
        "colab": {
          "base_uri": "https://localhost:8080/"
        },
        "id": "RbVWRMS9UJ4G",
        "outputId": "ae364d86-1c98-402d-eca1-36b8babfe719"
      },
      "execution_count": null,
      "outputs": [
        {
          "output_type": "execute_result",
          "data": {
            "text/plain": [
              "['s', 'p', 'a', 'm']"
            ]
          },
          "metadata": {},
          "execution_count": 1
        }
      ]
    },
    {
      "cell_type": "markdown",
      "source": [
        "The list function breaks a string into individual letters. If you want to break a string into\n",
        "words, you can use the split method:"
      ],
      "metadata": {
        "id": "nJ1EQfonUfLD"
      }
    },
    {
      "cell_type": "code",
      "source": [
        "s = 'Hey, How are you doing?'\n",
        "t = s.split()\n",
        "t"
      ],
      "metadata": {
        "colab": {
          "base_uri": "https://localhost:8080/"
        },
        "id": "gsOUIbDWUQGn",
        "outputId": "1b78bdd4-6612-41b2-ee0d-e5030a175877"
      },
      "execution_count": null,
      "outputs": [
        {
          "output_type": "execute_result",
          "data": {
            "text/plain": [
              "['Hey,', 'How', 'are', 'you', 'doing?']"
            ]
          },
          "metadata": {},
          "execution_count": 2
        }
      ]
    },
    {
      "cell_type": "markdown",
      "source": [
        "An optional argument called a delimiter specifies which characters to use as word\n",
        "boundaries. The following example uses a hyphen as a delimiter:\n"
      ],
      "metadata": {
        "id": "OSKv8DvpVB6z"
      }
    },
    {
      "cell_type": "code",
      "source": [
        "s='I am doing great duh'\n",
        "delimiter= ' ' # Here the delimiter is space\n",
        "t = s.split(delimiter)\n",
        "t"
      ],
      "metadata": {
        "colab": {
          "base_uri": "https://localhost:8080/"
        },
        "id": "uGq2KJvEUf5F",
        "outputId": "8024b52d-d226-45af-f500-71024af46861"
      },
      "execution_count": null,
      "outputs": [
        {
          "output_type": "execute_result",
          "data": {
            "text/plain": [
              "['I', 'am', 'doing', 'great', 'duh']"
            ]
          },
          "metadata": {},
          "execution_count": 3
        }
      ]
    },
    {
      "cell_type": "markdown",
      "source": [
        "join is the inverse of split. It takes a list of strings and concatenates the elements. join\n",
        "is a string method, so you have to invoke it on the delimiter and pass the list as a\n",
        "parameter:"
      ],
      "metadata": {
        "id": "aK1mBJIwXN5f"
      }
    },
    {
      "cell_type": "code",
      "source": [
        "delimiter = ' '\n",
        "s= delimiter.join(t)"
      ],
      "metadata": {
        "id": "w12XwljXVCr9"
      },
      "execution_count": null,
      "outputs": []
    },
    {
      "cell_type": "code",
      "source": [
        "s"
      ],
      "metadata": {
        "colab": {
          "base_uri": "https://localhost:8080/",
          "height": 35
        },
        "id": "_ymVSMpqXQX1",
        "outputId": "37e633f9-0649-43b4-dfb7-2f8ec6308a1c"
      },
      "execution_count": null,
      "outputs": [
        {
          "output_type": "execute_result",
          "data": {
            "application/vnd.google.colaboratory.intrinsic+json": {
              "type": "string"
            },
            "text/plain": [
              "'I am doing great duh'"
            ]
          },
          "metadata": {},
          "execution_count": 5
        }
      ]
    },
    {
      "cell_type": "code",
      "source": [
        ""
      ],
      "metadata": {
        "id": "SBU7gp0OYf9E"
      },
      "execution_count": null,
      "outputs": []
    },
    {
      "cell_type": "markdown",
      "source": [
        "## Objects and Values\n",
        "If we run these assignment statements:\n",
        "a= 'banana'\n",
        "b='banana'\n",
        "In one case, a and b refer to two different objects that have the same value. In the second\n",
        "case, they refer to the same object."
      ],
      "metadata": {
        "id": "BzZe9TnOYl-2"
      }
    },
    {
      "cell_type": "code",
      "source": [
        "a = 'banana'\n",
        "b = 'banana'\n",
        "a is b"
      ],
      "metadata": {
        "colab": {
          "base_uri": "https://localhost:8080/"
        },
        "id": "JCyMmlNcZLjs",
        "outputId": "c96d5678-f505-4cf3-bb8c-07cad18712ee"
      },
      "execution_count": null,
      "outputs": [
        {
          "output_type": "execute_result",
          "data": {
            "text/plain": [
              "True"
            ]
          },
          "metadata": {},
          "execution_count": 6
        }
      ]
    },
    {
      "cell_type": "markdown",
      "source": [
        "Until now, we have been using “object” and “value” interchangeably, but it is more precise\n",
        "to say that an object has a value. If you evaluate [1, 2, 3], you get a list object whose\n",
        "value is a sequence of integers. If another list has the same elements, we say it has the\n",
        "same value, but it is not the same object"
      ],
      "metadata": {
        "id": "KhLHIQFGZmjO"
      }
    },
    {
      "cell_type": "code",
      "source": [
        ""
      ],
      "metadata": {
        "id": "GyROIAcPZRB1"
      },
      "execution_count": null,
      "outputs": []
    },
    {
      "cell_type": "markdown",
      "source": [
        "## Aliasing\n",
        "If a refers to an object and you assign b = a, then both variables refer to the same object"
      ],
      "metadata": {
        "id": "dam0SFtlZptS"
      }
    },
    {
      "cell_type": "code",
      "source": [
        "a= [1,2,3]\n",
        "b=a\n",
        "b is a"
      ],
      "metadata": {
        "colab": {
          "base_uri": "https://localhost:8080/"
        },
        "id": "hhsz8yJBaHqE",
        "outputId": "35d8aa61-35cd-4f42-c7da-62634b0f635a"
      },
      "execution_count": null,
      "outputs": [
        {
          "output_type": "execute_result",
          "data": {
            "text/plain": [
              "True"
            ]
          },
          "metadata": {},
          "execution_count": 11
        }
      ]
    },
    {
      "cell_type": "markdown",
      "source": [
        "The association of a variable with an object is called a reference. In this example, there\n",
        "are two references to the same object.\n",
        "An object with more than one reference has more than one name, so we say that the object\n",
        "is aliased.\n",
        "If the aliased object is mutable, changes made with one alias affect the other"
      ],
      "metadata": {
        "id": "2mkTYj0iaqNG"
      }
    },
    {
      "cell_type": "code",
      "source": [
        "b[0]=42\n",
        "a"
      ],
      "metadata": {
        "colab": {
          "base_uri": "https://localhost:8080/"
        },
        "id": "rvYQVg4taq_U",
        "outputId": "ec0d67cc-af13-496a-8413-e8d5213fce40"
      },
      "execution_count": null,
      "outputs": [
        {
          "output_type": "execute_result",
          "data": {
            "text/plain": [
              "[42, 2, 3]"
            ]
          },
          "metadata": {},
          "execution_count": 12
        }
      ]
    },
    {
      "cell_type": "markdown",
      "source": [
        "Although this behavior can be useful, it is error-prone. In general, it is safer to avoid\n",
        "aliasing when you are working with mutable objects.\n",
        "For immutable objects like strings, aliasing is not as much of a problem"
      ],
      "metadata": {
        "id": "dJnRbx0-a06K"
      }
    },
    {
      "cell_type": "code",
      "source": [
        ""
      ],
      "metadata": {
        "id": "GEWq5P_uaW7b"
      },
      "execution_count": null,
      "outputs": []
    },
    {
      "cell_type": "markdown",
      "source": [
        "## List Arguments"
      ],
      "metadata": {
        "id": "U15hMwkMa7Jf"
      }
    },
    {
      "cell_type": "markdown",
      "source": [
        "When you pass a list to a function, the function gets a reference to the list. If the function\n",
        "modifies the list, the caller sees the change. For example, delete_head removes the first\n",
        "element from a list:\n"
      ],
      "metadata": {
        "id": "_-bjoD8_dkpu"
      }
    },
    {
      "cell_type": "code",
      "source": [
        "def delete_head(t):\n",
        "  del t[0]"
      ],
      "metadata": {
        "id": "4eNoL_SWa1jL"
      },
      "execution_count": null,
      "outputs": []
    },
    {
      "cell_type": "code",
      "source": [
        "delete_head(t)"
      ],
      "metadata": {
        "id": "ShM83UpNdlXr"
      },
      "execution_count": null,
      "outputs": []
    },
    {
      "cell_type": "code",
      "source": [
        "t"
      ],
      "metadata": {
        "colab": {
          "base_uri": "https://localhost:8080/"
        },
        "id": "38vgK0L0dv6U",
        "outputId": "b1bcebf8-2d81-438c-bc29-929ecd0abaec"
      },
      "execution_count": null,
      "outputs": [
        {
          "output_type": "execute_result",
          "data": {
            "text/plain": [
              "[]"
            ]
          },
          "metadata": {},
          "execution_count": 15
        }
      ]
    },
    {
      "cell_type": "code",
      "source": [
        "s='abc'\n",
        "t=list(s)"
      ],
      "metadata": {
        "id": "5ZwM3a_xdw6s"
      },
      "execution_count": null,
      "outputs": []
    },
    {
      "cell_type": "code",
      "source": [
        "t"
      ],
      "metadata": {
        "colab": {
          "base_uri": "https://localhost:8080/"
        },
        "id": "Xl9Pa10qeArF",
        "outputId": "fdfb1b0e-46a8-428f-adaf-fbfb611f3f91"
      },
      "execution_count": null,
      "outputs": [
        {
          "output_type": "execute_result",
          "data": {
            "text/plain": [
              "['a', 'b', 'c']"
            ]
          },
          "metadata": {},
          "execution_count": 17
        }
      ]
    },
    {
      "cell_type": "code",
      "source": [
        "delete_head(t)\n",
        "t"
      ],
      "metadata": {
        "colab": {
          "base_uri": "https://localhost:8080/"
        },
        "id": "4t0rpuETeBVr",
        "outputId": "735a8da8-66d8-461f-a12b-a01bddd7f18b"
      },
      "execution_count": null,
      "outputs": [
        {
          "output_type": "execute_result",
          "data": {
            "text/plain": [
              "['b', 'c']"
            ]
          },
          "metadata": {},
          "execution_count": 19
        }
      ]
    },
    {
      "cell_type": "markdown",
      "source": [
        "It is important to distinguish between operations that modify lists and operations that\n",
        "create new lists. For example, the append method modifies a list, but the + operator creates\n",
        "a new list:"
      ],
      "metadata": {
        "id": "3KUNDsl0yug8"
      }
    },
    {
      "cell_type": "code",
      "source": [
        "t1 = [1,2]\n",
        "t2 = t1.append(3)"
      ],
      "metadata": {
        "id": "BYiPL54peHXU"
      },
      "execution_count": null,
      "outputs": []
    },
    {
      "cell_type": "code",
      "source": [
        "t1"
      ],
      "metadata": {
        "colab": {
          "base_uri": "https://localhost:8080/"
        },
        "id": "c2ArZ7x7yvUK",
        "outputId": "24da1818-7db4-452a-a284-7a60669af6e6"
      },
      "execution_count": null,
      "outputs": [
        {
          "output_type": "execute_result",
          "data": {
            "text/plain": [
              "[1, 2, 3]"
            ]
          },
          "metadata": {},
          "execution_count": 2
        }
      ]
    },
    {
      "cell_type": "code",
      "source": [
        "t2"
      ],
      "metadata": {
        "id": "MVIBcB6qy_yT"
      },
      "execution_count": null,
      "outputs": []
    },
    {
      "cell_type": "code",
      "source": [
        "type(t2)"
      ],
      "metadata": {
        "colab": {
          "base_uri": "https://localhost:8080/"
        },
        "id": "FDLm-sHizC0Z",
        "outputId": "805d5d26-6c5c-4f6d-86c6-780adce947bb"
      },
      "execution_count": null,
      "outputs": [
        {
          "output_type": "execute_result",
          "data": {
            "text/plain": [
              "NoneType"
            ]
          },
          "metadata": {},
          "execution_count": 4
        }
      ]
    },
    {
      "cell_type": "code",
      "source": [
        "# append modifies the list and returns None\n",
        "t3 = t1 + [4]"
      ],
      "metadata": {
        "id": "FdhwT1dwzGwp"
      },
      "execution_count": null,
      "outputs": []
    },
    {
      "cell_type": "code",
      "source": [
        "t1"
      ],
      "metadata": {
        "colab": {
          "base_uri": "https://localhost:8080/"
        },
        "id": "JLNPmYfQzXmx",
        "outputId": "8604424a-84ea-4d48-86a2-b1670752c5ed"
      },
      "execution_count": null,
      "outputs": [
        {
          "output_type": "execute_result",
          "data": {
            "text/plain": [
              "[1, 2, 3]"
            ]
          },
          "metadata": {},
          "execution_count": 6
        }
      ]
    },
    {
      "cell_type": "code",
      "source": [
        "t3"
      ],
      "metadata": {
        "colab": {
          "base_uri": "https://localhost:8080/"
        },
        "id": "h-PkuI1JzZ25",
        "outputId": "52d67028-1e46-4fa5-a352-c1917c7d7447"
      },
      "execution_count": null,
      "outputs": [
        {
          "output_type": "execute_result",
          "data": {
            "text/plain": [
              "[1, 2, 3, 4]"
            ]
          },
          "metadata": {},
          "execution_count": 7
        }
      ]
    },
    {
      "cell_type": "code",
      "source": [
        "def tail(t):\n",
        "  return t[1:]\n",
        "\n",
        "letters = ['a', 'b', 'c']\n",
        "rest = tail(letters)\n",
        "rest"
      ],
      "metadata": {
        "colab": {
          "base_uri": "https://localhost:8080/"
        },
        "id": "a62-rENjzbb6",
        "outputId": "c9618523-81ab-4799-daba-852f5444e2e5"
      },
      "execution_count": null,
      "outputs": [
        {
          "output_type": "execute_result",
          "data": {
            "text/plain": [
              "['b', 'c']"
            ]
          },
          "metadata": {},
          "execution_count": 9
        }
      ]
    },
    {
      "cell_type": "code",
      "source": [
        ""
      ],
      "metadata": {
        "id": "uNkf7E060R5p"
      },
      "execution_count": null,
      "outputs": []
    },
    {
      "cell_type": "markdown",
      "source": [
        "## Debugging\n",
        "Careless use of lists (and other mutable objects) can lead to long hours of debugging. Here\n",
        "are some common pitfalls and ways to avoid them:\n",
        "1. Most list methods modify the argument and return None. This is the opposite of the\n",
        "string methods, which return a new string and leave the original alone.\n",
        "If you are used to writing string code like this:\n",
        "word = word.strip()\n",
        "It is tempting to write list code like this:\n",
        "t = t.sort() # WRONG!\n",
        "Because sort returns None, the next operation you perform with t is likely to fail.\n",
        "Before using list methods and operators, you should read the documentation\n",
        "carefully and then test them in interactive mode.\n",
        "2. Pick an idiom and stick with it.\n",
        "Part of the problem with lists is that there are too many ways to do things. For\n",
        "example, to remove an element from a list, you can use pop, remove, del, or even a\n",
        "slice assignment.\n",
        "To add an element, you can use the append method or the + operator. Assuming that\n",
        "t is a list and x is a list element, these are correct:\n",
        "t.append(x)\n",
        "t = t + [x]\n",
        "t += [x]\n",
        "And these are wrong:\n",
        "t.append([x]) # WRONG\n",
        "t = t.append(x) # WRONG!\n",
        "t + [x] # WRONG!\n",
        "t = t + x # WRONG!\n",
        "Try out each of these examples in interactive mode to make sure you understand\n",
        "what they do. Notice that only the last one causes a runtime error; the other three are\n",
        "legal, but they do the wrong thing.\n",
        "3. Make copies to avoid aliasing.\n",
        "If you want to use a method like sort that modifies the argument, but you need to\n",
        "keep the original list as well, you can make a copy:\n",
        "In this example you could also use the built-in function sorted, which returns a new,\n",
        "sorted list and leaves the original alone:\n",
        "\n"
      ],
      "metadata": {
        "id": "vETKPxiH1SmH"
      }
    },
    {
      "cell_type": "code",
      "source": [
        "t = [3, 1, 2]"
      ],
      "metadata": {
        "id": "O8WZbAyF1uRo"
      },
      "execution_count": null,
      "outputs": []
    },
    {
      "cell_type": "code",
      "source": [
        "t2 = t[:]"
      ],
      "metadata": {
        "id": "-XP4zn6t11XR"
      },
      "execution_count": null,
      "outputs": []
    },
    {
      "cell_type": "code",
      "source": [
        "t2.sort()"
      ],
      "metadata": {
        "id": "RIzrx87H15nM"
      },
      "execution_count": null,
      "outputs": []
    },
    {
      "cell_type": "code",
      "source": [
        "t2"
      ],
      "metadata": {
        "colab": {
          "base_uri": "https://localhost:8080/"
        },
        "id": "FpGBYBlq19Uh",
        "outputId": "e28143ee-77db-4746-8d6f-c25a2d7a27d7"
      },
      "execution_count": null,
      "outputs": [
        {
          "output_type": "execute_result",
          "data": {
            "text/plain": [
              "[1, 2, 3]"
            ]
          },
          "metadata": {},
          "execution_count": 13
        }
      ]
    },
    {
      "cell_type": "code",
      "source": [
        "t"
      ],
      "metadata": {
        "colab": {
          "base_uri": "https://localhost:8080/"
        },
        "id": "JpB35r7d1-iN",
        "outputId": "0297f7de-f4c9-496d-fb2e-8a85f5727fc5"
      },
      "execution_count": null,
      "outputs": [
        {
          "output_type": "execute_result",
          "data": {
            "text/plain": [
              "[3, 1, 2]"
            ]
          },
          "metadata": {},
          "execution_count": 14
        }
      ]
    },
    {
      "cell_type": "code",
      "source": [
        ""
      ],
      "metadata": {
        "id": "yZzzUe0e2AlR"
      },
      "execution_count": null,
      "outputs": []
    },
    {
      "cell_type": "markdown",
      "source": [
        "# C11. Dictionaries\n",
        " Dictionaries are one of\n",
        "Python’s best features; they are the building blocks of many efficient and elegant\n",
        "algorithms.\n"
      ],
      "metadata": {
        "id": "VRmwm7NzPvi1"
      }
    },
    {
      "cell_type": "markdown",
      "source": [
        "## A dictionary is Mapping\n",
        "A dictionary is like a list, but more general. In a list, the indices have to be integers; in a\n",
        "dictionary they can be (almost) any type.\n",
        "\n",
        "A dictionary contains a collection of indices, which are called keys, and a collection of\n",
        "values. Each key is associated with a single value. The association of a key and a value is\n",
        "called a key-value pair or sometimes an item.\n",
        "In mathematical language, a dictionary represents a mapping from keys to values, so you\n",
        "can also say that each key “maps to” a value. As an example, we’ll build a dictionary that\n",
        "maps from English to Spanish words, so the keys and the values are all strings.\n",
        "The function dict creates a new dictionary with no items. Because dict is the name of a\n",
        "built-in function, you should avoid using it as a variable name.\n"
      ],
      "metadata": {
        "id": "HvR35KKXQAks"
      }
    },
    {
      "cell_type": "code",
      "source": [
        "eng2sp = dict()\n",
        "eng2sp"
      ],
      "metadata": {
        "colab": {
          "base_uri": "https://localhost:8080/"
        },
        "id": "B7Zk1CtKP8vJ",
        "outputId": "a59c8e79-1faf-4922-9f13-1f068e045e91"
      },
      "execution_count": null,
      "outputs": [
        {
          "output_type": "execute_result",
          "data": {
            "text/plain": [
              "{}"
            ]
          },
          "metadata": {},
          "execution_count": 1
        }
      ]
    },
    {
      "cell_type": "markdown",
      "source": [
        "The squiggly brackets, {}, represent an empty dictionary. To add items to the dictionary,\n",
        "you can use square brackets"
      ],
      "metadata": {
        "id": "B04-wxvenO4A"
      }
    },
    {
      "cell_type": "code",
      "source": [
        "eng2sp['one'] = 'uno'"
      ],
      "metadata": {
        "id": "wItTlvg4QPFV"
      },
      "execution_count": null,
      "outputs": []
    },
    {
      "cell_type": "code",
      "source": [
        "eng2sp"
      ],
      "metadata": {
        "colab": {
          "base_uri": "https://localhost:8080/"
        },
        "id": "9Eo9SDTGnPqg",
        "outputId": "fb3cab21-78c4-4bf8-f8d7-c0b8bd533bae"
      },
      "execution_count": null,
      "outputs": [
        {
          "output_type": "execute_result",
          "data": {
            "text/plain": [
              "{'one': 'uno'}"
            ]
          },
          "metadata": {},
          "execution_count": 3
        }
      ]
    },
    {
      "cell_type": "markdown",
      "source": [
        "This line creates an item that maps from the key 'one' to the value 'uno'. If we print the\n",
        "dictionary again, we see a key-value pair with a colon between the key and value"
      ],
      "metadata": {
        "id": "ghjqIkidnepV"
      }
    },
    {
      "cell_type": "code",
      "source": [
        "eng2sp = {'one':'uno', 'two':'dos', 'three':'tres'}"
      ],
      "metadata": {
        "id": "5ratG7l-nZDA"
      },
      "execution_count": null,
      "outputs": []
    },
    {
      "cell_type": "code",
      "source": [
        "eng2sp"
      ],
      "metadata": {
        "colab": {
          "base_uri": "https://localhost:8080/"
        },
        "id": "oEPq4-ugnfoI",
        "outputId": "da49b8e4-a302-4899-9c04-1c47b6499980"
      },
      "execution_count": null,
      "outputs": [
        {
          "output_type": "execute_result",
          "data": {
            "text/plain": [
              "{'one': 'uno', 'three': 'tres', 'two': 'dos'}"
            ]
          },
          "metadata": {},
          "execution_count": 5
        }
      ]
    },
    {
      "cell_type": "code",
      "source": [
        "eng2sp"
      ],
      "metadata": {
        "colab": {
          "base_uri": "https://localhost:8080/"
        },
        "id": "qzn6811moymA",
        "outputId": "b56d7bbf-4260-4f33-a987-fcc69447f4a1"
      },
      "execution_count": null,
      "outputs": [
        {
          "output_type": "execute_result",
          "data": {
            "text/plain": [
              "{'one': 'uno', 'three': 'tres', 'two': 'dos'}"
            ]
          },
          "metadata": {},
          "execution_count": 6
        }
      ]
    },
    {
      "cell_type": "markdown",
      "source": [
        "The order of the key-value pairs might not be the same. If you type the same example on\n",
        "your computer, you might get a different result. In general, the order of items in a\n",
        "dictionary is unpredictable.\n",
        "\n",
        "But that’s not a problem because the elements of a dictionary are never indexed with\n",
        "integer indices. Instead, you use the keys to look up the corresponding values"
      ],
      "metadata": {
        "id": "DhMxfs6qo9fM"
      }
    },
    {
      "cell_type": "code",
      "source": [
        "eng2sp['two']"
      ],
      "metadata": {
        "colab": {
          "base_uri": "https://localhost:8080/",
          "height": 35
        },
        "id": "I-sCpoilo2w8",
        "outputId": "c4d7b4c2-9971-43ff-ceb5-faa43c24ce3f"
      },
      "execution_count": null,
      "outputs": [
        {
          "output_type": "execute_result",
          "data": {
            "application/vnd.google.colaboratory.intrinsic+json": {
              "type": "string"
            },
            "text/plain": [
              "'dos'"
            ]
          },
          "metadata": {},
          "execution_count": 7
        }
      ]
    },
    {
      "cell_type": "code",
      "source": [
        "eng2sp['four']"
      ],
      "metadata": {
        "colab": {
          "base_uri": "https://localhost:8080/",
          "height": 165
        },
        "id": "qi_GQQ-ro-Rv",
        "outputId": "c39fb6b4-cfb4-4fbc-d33c-f527722a8b6e"
      },
      "execution_count": null,
      "outputs": [
        {
          "output_type": "error",
          "ename": "KeyError",
          "evalue": "ignored",
          "traceback": [
            "\u001b[0;31m---------------------------------------------------------------------------\u001b[0m",
            "\u001b[0;31mKeyError\u001b[0m                                  Traceback (most recent call last)",
            "\u001b[0;32m<ipython-input-8-d6070d49aedb>\u001b[0m in \u001b[0;36m<module>\u001b[0;34m()\u001b[0m\n\u001b[0;32m----> 1\u001b[0;31m \u001b[0meng2sp\u001b[0m\u001b[0;34m[\u001b[0m\u001b[0;34m'four'\u001b[0m\u001b[0;34m]\u001b[0m\u001b[0;34m\u001b[0m\u001b[0;34m\u001b[0m\u001b[0m\n\u001b[0m",
            "\u001b[0;31mKeyError\u001b[0m: 'four'"
          ]
        }
      ]
    },
    {
      "cell_type": "code",
      "source": [
        "len(eng2sp) # Gives no of keys in the dict"
      ],
      "metadata": {
        "colab": {
          "base_uri": "https://localhost:8080/"
        },
        "id": "PXiLmrBFpMnY",
        "outputId": "b5f032f9-592a-464a-8249-803ef622f8eb"
      },
      "execution_count": null,
      "outputs": [
        {
          "output_type": "execute_result",
          "data": {
            "text/plain": [
              "3"
            ]
          },
          "metadata": {},
          "execution_count": 10
        }
      ]
    },
    {
      "cell_type": "code",
      "source": [
        "# IN \n",
        "'one' in eng2sp # if key present..True"
      ],
      "metadata": {
        "colab": {
          "base_uri": "https://localhost:8080/"
        },
        "id": "sMv69fpwpR6B",
        "outputId": "01f0fe7f-a893-40b4-ca6a-a56284872022"
      },
      "execution_count": null,
      "outputs": [
        {
          "output_type": "execute_result",
          "data": {
            "text/plain": [
              "True"
            ]
          },
          "metadata": {},
          "execution_count": 11
        }
      ]
    },
    {
      "cell_type": "code",
      "source": [
        "'uno' in eng2sp"
      ],
      "metadata": {
        "colab": {
          "base_uri": "https://localhost:8080/"
        },
        "id": "s2cmuM4fppo3",
        "outputId": "d14fa30d-5d35-49be-b282-139bc40271e5"
      },
      "execution_count": null,
      "outputs": [
        {
          "output_type": "execute_result",
          "data": {
            "text/plain": [
              "False"
            ]
          },
          "metadata": {},
          "execution_count": 12
        }
      ]
    },
    {
      "cell_type": "markdown",
      "source": [
        "To see whether something appears as a value in a dictionary, you can use the method\n",
        "values, which returns a collection of values, and then use the in operator"
      ],
      "metadata": {
        "id": "MY-td1A2pyiz"
      }
    },
    {
      "cell_type": "code",
      "source": [
        "vals = eng2sp.values()\n",
        "'uno' in vals"
      ],
      "metadata": {
        "colab": {
          "base_uri": "https://localhost:8080/"
        },
        "id": "VWRdoVU-puFg",
        "outputId": "4a8a4889-4fd0-495d-e28f-0719147f71db"
      },
      "execution_count": null,
      "outputs": [
        {
          "output_type": "execute_result",
          "data": {
            "text/plain": [
              "True"
            ]
          },
          "metadata": {},
          "execution_count": 13
        }
      ]
    },
    {
      "cell_type": "markdown",
      "source": [
        "The in operator uses different algorithms for lists and dictionaries. For lists, it searches the\n",
        "elements of the list in order, as in “Searching”. As the list gets longer, the search time gets\n",
        "longer in direct proportion.\n",
        "\n",
        "For dictionaries, Python uses an algorithm called a hashtable that has a remarkable\n",
        "property: the in operator takes about the same amount of time no matter how many items\n",
        "are in the dictionary. I explain how that’s possible in “Hashtables”, but the explanation\n",
        "might not make sense until you’ve read a few more chapters"
      ],
      "metadata": {
        "id": "TcxgXatDrONT"
      }
    },
    {
      "cell_type": "code",
      "source": [
        ""
      ],
      "metadata": {
        "id": "GFqZXaVSpzgR"
      },
      "execution_count": null,
      "outputs": []
    },
    {
      "cell_type": "markdown",
      "source": [
        "## Dictionary as a collection of counters\n",
        "Suppose you are given a string and you want to count how many times each letter appears.\n",
        "There are several ways you could do it:\n",
        "1. You could create 26 variables, one for each letter of the alphabet. Then you could\n",
        "traverse the string and, for each character, increment the corresponding counter,\n",
        "probably using a chained conditional.\n",
        "2. You could create a list with 26 elements. Then you could convert each character to a\n",
        "number (using the built-in function ord), use the number as an index into the list,\n",
        "and increment the appropriate counter.\n",
        "3. You could create a dictionary with characters as keys and counters as the\n",
        "corresponding values. The first time you see a character, you would add an item to\n",
        "the dictionary. After that you would increment the value of an existing item.\n",
        "Each of these options performs the same computation, but each of them implements that\n",
        "computation in a different way.\n",
        "An implementation is a way of performing a computation; some implementations are\n",
        "better than others. For example, an advantage of the dictionary implementation is that we\n",
        "don’t have to know ahead of time which letters appear in the string and we only have to\n",
        "make room for the letters that do appear.\n"
      ],
      "metadata": {
        "id": "2aghSGvUtCuQ"
      }
    },
    {
      "cell_type": "code",
      "source": [
        "def histogram(s):\n",
        "  d = dict()\n",
        "  for c in s:\n",
        "    if c not in d:\n",
        "      d[c] = 1\n",
        "    else:\n",
        "      d[c] += 1\n",
        "  return d"
      ],
      "metadata": {
        "id": "fAFqdINjuOTb"
      },
      "execution_count": null,
      "outputs": []
    },
    {
      "cell_type": "code",
      "source": [
        "histogram('bronotosaurus')"
      ],
      "metadata": {
        "colab": {
          "base_uri": "https://localhost:8080/"
        },
        "id": "5yxWPr_rv5S4",
        "outputId": "81d5f021-f51e-4836-9f38-e077b8794fb6"
      },
      "execution_count": null,
      "outputs": [
        {
          "output_type": "execute_result",
          "data": {
            "text/plain": [
              "{'a': 1, 'b': 1, 'n': 1, 'o': 3, 'r': 2, 's': 2, 't': 1, 'u': 2}"
            ]
          },
          "metadata": {},
          "execution_count": 27
        }
      ]
    },
    {
      "cell_type": "markdown",
      "source": [
        "The name of the function is histogram, which is a statistical term for a collection of\n",
        "counters (or frequencies).\n"
      ],
      "metadata": {
        "id": "E_oRI9yOw3XJ"
      }
    },
    {
      "cell_type": "markdown",
      "source": [
        "The first line of the function creates an empty dictionary. The for loop traverses the string.\n",
        "Each time through the loop, if the character c is not in the dictionary, we create a new item\n",
        "with key c and the initial value 1 (since we have seen this letter once). If c is already in the\n",
        "dictionary we increment d[c]."
      ],
      "metadata": {
        "id": "bL2RodBFw7nq"
      }
    },
    {
      "cell_type": "code",
      "source": [
        "h =histogram('curious soul')"
      ],
      "metadata": {
        "id": "ByepEqwNv-eZ"
      },
      "execution_count": null,
      "outputs": []
    },
    {
      "cell_type": "code",
      "source": [
        "h"
      ],
      "metadata": {
        "colab": {
          "base_uri": "https://localhost:8080/"
        },
        "id": "AIaoXxAfw8VR",
        "outputId": "07231df2-a21f-417a-914f-a2af10c6b765"
      },
      "execution_count": null,
      "outputs": [
        {
          "output_type": "execute_result",
          "data": {
            "text/plain": [
              "{' ': 1, 'c': 1, 'i': 1, 'l': 1, 'o': 2, 'r': 1, 's': 2, 'u': 3}"
            ]
          },
          "metadata": {},
          "execution_count": 29
        }
      ]
    },
    {
      "cell_type": "code",
      "source": [
        "h.get('s')"
      ],
      "metadata": {
        "colab": {
          "base_uri": "https://localhost:8080/"
        },
        "id": "0Wp7zFQaxDkW",
        "outputId": "558395f0-4294-4e74-c983-85a54eb6b43d"
      },
      "execution_count": null,
      "outputs": [
        {
          "output_type": "execute_result",
          "data": {
            "text/plain": [
              "2"
            ]
          },
          "metadata": {},
          "execution_count": 30
        }
      ]
    },
    {
      "cell_type": "code",
      "source": [
        ""
      ],
      "metadata": {
        "id": "9NAbWzHbxUjF"
      },
      "execution_count": null,
      "outputs": []
    },
    {
      "cell_type": "markdown",
      "source": [
        "## Looping and Dictionaries\n",
        "If you use a dictionary in a for statement, it traverses the keys of the dictionary. For\n",
        "example, print_hist prints each key and the corresponding value"
      ],
      "metadata": {
        "id": "bWHpHwlXxlR8"
      }
    },
    {
      "cell_type": "code",
      "source": [
        "def print_hist(h):\n",
        "  for c in h:\n",
        "    print(c, h[c])"
      ],
      "metadata": {
        "id": "J7GxnthIxxBA"
      },
      "execution_count": null,
      "outputs": []
    },
    {
      "cell_type": "code",
      "source": [
        "h=histogram('parrot')"
      ],
      "metadata": {
        "id": "PeVMejMbx_cN"
      },
      "execution_count": null,
      "outputs": []
    },
    {
      "cell_type": "code",
      "source": [
        "h"
      ],
      "metadata": {
        "colab": {
          "base_uri": "https://localhost:8080/"
        },
        "id": "0QembD-9yEww",
        "outputId": "15fc88ae-5536-4931-e662-49cb8c725b9a"
      },
      "execution_count": null,
      "outputs": [
        {
          "output_type": "execute_result",
          "data": {
            "text/plain": [
              "{'a': 1, 'o': 1, 'p': 1, 'r': 2, 't': 1}"
            ]
          },
          "metadata": {},
          "execution_count": 33
        }
      ]
    },
    {
      "cell_type": "code",
      "source": [
        "print_hist(h)"
      ],
      "metadata": {
        "colab": {
          "base_uri": "https://localhost:8080/"
        },
        "id": "rXwBuuuLyFcy",
        "outputId": "91570938-bde3-46f3-f62b-1f5e3bc4e8f7"
      },
      "execution_count": null,
      "outputs": [
        {
          "output_type": "stream",
          "name": "stdout",
          "text": [
            "p 1\n",
            "a 1\n",
            "r 2\n",
            "o 1\n",
            "t 1\n"
          ]
        }
      ]
    },
    {
      "cell_type": "code",
      "source": [
        "print_hist(h)"
      ],
      "metadata": {
        "colab": {
          "base_uri": "https://localhost:8080/"
        },
        "id": "7jnnaHG0yNpR",
        "outputId": "ba06f0cb-4828-4f84-bc6d-0fd384c6573c"
      },
      "execution_count": null,
      "outputs": [
        {
          "output_type": "stream",
          "name": "stdout",
          "text": [
            "p 1\n",
            "a 1\n",
            "r 2\n",
            "o 1\n",
            "t 1\n"
          ]
        }
      ]
    },
    {
      "cell_type": "code",
      "source": [
        "for key in sorted(h):\n",
        "  print(key, h[key])"
      ],
      "metadata": {
        "colab": {
          "base_uri": "https://localhost:8080/"
        },
        "id": "BEHBi7RryaMe",
        "outputId": "a429a7d0-bfb4-4e4a-ab6c-345bb616d56a"
      },
      "execution_count": null,
      "outputs": [
        {
          "output_type": "stream",
          "name": "stdout",
          "text": [
            "a 1\n",
            "o 1\n",
            "p 1\n",
            "r 2\n",
            "t 1\n"
          ]
        }
      ]
    },
    {
      "cell_type": "code",
      "source": [
        ""
      ],
      "metadata": {
        "id": "YdAuD_kcyjrg"
      },
      "execution_count": null,
      "outputs": []
    },
    {
      "cell_type": "markdown",
      "source": [
        "## Reverse Lookup\n",
        "\n",
        "Given a dictionary d and a key k, it is easy to find the corresponding value v = d[k]. This\n",
        "operation is called a lookup.\n",
        "But what if you have v and you want to find k? You have two problems: first, there might\n",
        "be more than one key that maps to the value v. Depending on the application, you might\n",
        "be able to pick one, or you might have to make a list that contains all of them. Second,\n",
        "there is no simple syntax to do a reverse lookup; you have to search.\n",
        "Here is a function that takes a value and returns the first key that maps to that value\n"
      ],
      "metadata": {
        "id": "iGzgpvE6zBYm"
      }
    },
    {
      "cell_type": "code",
      "source": [
        "def reverse_lookup(d,v):\n",
        "  for k in d:\n",
        "    if d[k] == v:\n",
        "      return k\n",
        "  raise LookupError()"
      ],
      "metadata": {
        "id": "4FXGNMPgzLCv"
      },
      "execution_count": null,
      "outputs": []
    },
    {
      "cell_type": "markdown",
      "source": [
        "This function is yet another example of the search pattern, but it uses a feature we haven’t\n",
        "seen before: raise. The raise statement causes an exception; in this case it causes a\n",
        "LookupError, which is a built-in exception used to indicate that a lookup operation failed.\n"
      ],
      "metadata": {
        "id": "00Tz8MDszyD5"
      }
    },
    {
      "cell_type": "code",
      "source": [
        "h = histogram('parrot')"
      ],
      "metadata": {
        "id": "cQy-Rw6ZzpOS"
      },
      "execution_count": null,
      "outputs": []
    },
    {
      "cell_type": "code",
      "source": [
        "k = reverse_lookup(h, 2)"
      ],
      "metadata": {
        "id": "AYI0Wqyrzy3W"
      },
      "execution_count": null,
      "outputs": []
    },
    {
      "cell_type": "code",
      "source": [
        "k"
      ],
      "metadata": {
        "colab": {
          "base_uri": "https://localhost:8080/",
          "height": 35
        },
        "id": "FirHe9UNz8eX",
        "outputId": "1b33ab8a-9d37-42f3-b292-2a6ecb617507"
      },
      "execution_count": null,
      "outputs": [
        {
          "output_type": "execute_result",
          "data": {
            "application/vnd.google.colaboratory.intrinsic+json": {
              "type": "string"
            },
            "text/plain": [
              "'r'"
            ]
          },
          "metadata": {},
          "execution_count": 40
        }
      ]
    },
    {
      "cell_type": "code",
      "source": [
        "k=reverse_lookup(h,3)"
      ],
      "metadata": {
        "colab": {
          "base_uri": "https://localhost:8080/",
          "height": 252
        },
        "id": "a8HTo66xz9e3",
        "outputId": "907da943-1513-42e8-dcd2-c097a80beea8"
      },
      "execution_count": null,
      "outputs": [
        {
          "output_type": "error",
          "ename": "LookupError",
          "evalue": "ignored",
          "traceback": [
            "\u001b[0;31m---------------------------------------------------------------------------\u001b[0m",
            "\u001b[0;31mLookupError\u001b[0m                               Traceback (most recent call last)",
            "\u001b[0;32m<ipython-input-41-9137dd6fdb5d>\u001b[0m in \u001b[0;36m<module>\u001b[0;34m()\u001b[0m\n\u001b[0;32m----> 1\u001b[0;31m \u001b[0mk\u001b[0m\u001b[0;34m=\u001b[0m\u001b[0mreverse_lookup\u001b[0m\u001b[0;34m(\u001b[0m\u001b[0mh\u001b[0m\u001b[0;34m,\u001b[0m\u001b[0;36m3\u001b[0m\u001b[0;34m)\u001b[0m\u001b[0;34m\u001b[0m\u001b[0;34m\u001b[0m\u001b[0m\n\u001b[0m",
            "\u001b[0;32m<ipython-input-37-15ee005f0f79>\u001b[0m in \u001b[0;36mreverse_lookup\u001b[0;34m(d, v)\u001b[0m\n\u001b[1;32m      3\u001b[0m     \u001b[0;32mif\u001b[0m \u001b[0md\u001b[0m\u001b[0;34m[\u001b[0m\u001b[0mk\u001b[0m\u001b[0;34m]\u001b[0m \u001b[0;34m==\u001b[0m \u001b[0mv\u001b[0m\u001b[0;34m:\u001b[0m\u001b[0;34m\u001b[0m\u001b[0;34m\u001b[0m\u001b[0m\n\u001b[1;32m      4\u001b[0m       \u001b[0;32mreturn\u001b[0m \u001b[0mk\u001b[0m\u001b[0;34m\u001b[0m\u001b[0;34m\u001b[0m\u001b[0m\n\u001b[0;32m----> 5\u001b[0;31m   \u001b[0;32mraise\u001b[0m \u001b[0mLookupError\u001b[0m\u001b[0;34m(\u001b[0m\u001b[0;34m)\u001b[0m\u001b[0;34m\u001b[0m\u001b[0;34m\u001b[0m\u001b[0m\n\u001b[0m",
            "\u001b[0;31mLookupError\u001b[0m: "
          ]
        }
      ]
    },
    {
      "cell_type": "code",
      "source": [
        "#raise LookupError('value does not appear in the dictionary')\n",
        "#A reverse lookup is much slower than a forward lookup; if you have to do it often, or if the\n",
        "#dictionary gets big, the performance of your program will suffer"
      ],
      "metadata": {
        "id": "KygBbnc30EEc"
      },
      "execution_count": null,
      "outputs": []
    },
    {
      "cell_type": "markdown",
      "source": [
        "## Dictionaries and Lists"
      ],
      "metadata": {
        "id": "WQw0CURs0ZmL"
      }
    },
    {
      "cell_type": "code",
      "source": [
        "def invert_dict(d):\n",
        "  inverse = dict()\n",
        "  for key in d:\n",
        "    val = d[key]\n",
        "    if val not in inverse:\n",
        "      inverse[val] = [key]\n",
        "      print('inverse of val', inverse[val])\n",
        "    else:\n",
        "      inverse[val].append(key)\n",
        "    return inverse"
      ],
      "metadata": {
        "id": "lADCDX8_0bux"
      },
      "execution_count": null,
      "outputs": []
    },
    {
      "cell_type": "code",
      "source": [
        "hist = histogram('parrot')"
      ],
      "metadata": {
        "id": "5kmemd0gOAin"
      },
      "execution_count": null,
      "outputs": []
    },
    {
      "cell_type": "code",
      "source": [
        "hist"
      ],
      "metadata": {
        "colab": {
          "base_uri": "https://localhost:8080/"
        },
        "id": "Ay1bSAsvPgoe",
        "outputId": "906704fa-a17d-4871-9385-c08817c79e1f"
      },
      "execution_count": null,
      "outputs": [
        {
          "output_type": "execute_result",
          "data": {
            "text/plain": [
              "{'a': 1, 'o': 1, 'p': 1, 'r': 2, 't': 1}"
            ]
          },
          "metadata": {},
          "execution_count": 55
        }
      ]
    },
    {
      "cell_type": "code",
      "source": [
        "inverse= invert_dict(hist)"
      ],
      "metadata": {
        "colab": {
          "base_uri": "https://localhost:8080/"
        },
        "id": "wpQYC8hzPsPl",
        "outputId": "cfa744b1-c001-4c53-ae6f-ad42a01bd3f4"
      },
      "execution_count": null,
      "outputs": [
        {
          "output_type": "stream",
          "name": "stdout",
          "text": [
            "inverse of val ['p']\n"
          ]
        }
      ]
    },
    {
      "cell_type": "code",
      "source": [
        "inverse"
      ],
      "metadata": {
        "colab": {
          "base_uri": "https://localhost:8080/"
        },
        "id": "rlpVk6nYPznM",
        "outputId": "55a130a0-e272-4ec1-aa9b-424883425b0d"
      },
      "execution_count": null,
      "outputs": [
        {
          "output_type": "execute_result",
          "data": {
            "text/plain": [
              "{1: ['p']}"
            ]
          },
          "metadata": {},
          "execution_count": 57
        }
      ]
    },
    {
      "cell_type": "code",
      "source": [
        "hist2 =histogram('curioussoul')"
      ],
      "metadata": {
        "id": "-nuJNcIIP3Wc"
      },
      "execution_count": null,
      "outputs": []
    },
    {
      "cell_type": "code",
      "source": [
        "hist2"
      ],
      "metadata": {
        "colab": {
          "base_uri": "https://localhost:8080/"
        },
        "id": "EFZxhF-zQS4U",
        "outputId": "bd638288-f5a8-4168-b32f-d52c6c7d3cf0"
      },
      "execution_count": null,
      "outputs": [
        {
          "output_type": "execute_result",
          "data": {
            "text/plain": [
              "{'c': 1, 'i': 1, 'l': 1, 'o': 2, 'r': 1, 's': 2, 'u': 3}"
            ]
          },
          "metadata": {},
          "execution_count": 59
        }
      ]
    },
    {
      "cell_type": "code",
      "source": [
        "inverse2=invert_dict(hist2)"
      ],
      "metadata": {
        "colab": {
          "base_uri": "https://localhost:8080/"
        },
        "id": "upDWEJIxQU_y",
        "outputId": "4f6b7f0b-f389-4220-e9cd-48b59af7eeeb"
      },
      "execution_count": null,
      "outputs": [
        {
          "output_type": "stream",
          "name": "stdout",
          "text": [
            "inverse of val ['c']\n"
          ]
        }
      ]
    },
    {
      "cell_type": "code",
      "source": [
        "inverse2 # Result not matching with text book: page no:204"
      ],
      "metadata": {
        "colab": {
          "base_uri": "https://localhost:8080/"
        },
        "id": "5miTJWpzQaC2",
        "outputId": "e13954f4-cd81-4622-9e70-5ad07699881c"
      },
      "execution_count": null,
      "outputs": [
        {
          "output_type": "execute_result",
          "data": {
            "text/plain": [
              "{1: ['c']}"
            ]
          },
          "metadata": {},
          "execution_count": 63
        }
      ]
    },
    {
      "cell_type": "markdown",
      "source": [
        "Each time through the loop, key gets a key from d and val gets the corresponding value. If\n",
        "val is not in inverse, that means we haven’t seen it before, so we create a new item and\n",
        "initialize it with a singleton (a list that contains a single element). Otherwise we have seen\n",
        "this value before, so we append the corresponding key to the list."
      ],
      "metadata": {
        "id": "TUj9heuNQ_LW"
      }
    },
    {
      "cell_type": "code",
      "source": [
        "#Lists can be values in a dictionary, as this example shows, but they cannot be keys. Here’s\n",
        "#what happens if you try:\n",
        "t = [1,2,3]\n",
        "d=dict()\n",
        "d[t] ='oops'"
      ],
      "metadata": {
        "colab": {
          "base_uri": "https://localhost:8080/",
          "height": 200
        },
        "id": "xUmHP_HTQcHF",
        "outputId": "da1d29eb-2e26-47cb-bd1c-9cb8d0f410d5"
      },
      "execution_count": null,
      "outputs": [
        {
          "output_type": "error",
          "ename": "TypeError",
          "evalue": "ignored",
          "traceback": [
            "\u001b[0;31m---------------------------------------------------------------------------\u001b[0m",
            "\u001b[0;31mTypeError\u001b[0m                                 Traceback (most recent call last)",
            "\u001b[0;32m<ipython-input-65-d559017ff2eb>\u001b[0m in \u001b[0;36m<module>\u001b[0;34m()\u001b[0m\n\u001b[1;32m      3\u001b[0m \u001b[0mt\u001b[0m \u001b[0;34m=\u001b[0m \u001b[0;34m[\u001b[0m\u001b[0;36m1\u001b[0m\u001b[0;34m,\u001b[0m\u001b[0;36m2\u001b[0m\u001b[0;34m,\u001b[0m\u001b[0;36m3\u001b[0m\u001b[0;34m]\u001b[0m\u001b[0;34m\u001b[0m\u001b[0;34m\u001b[0m\u001b[0m\n\u001b[1;32m      4\u001b[0m \u001b[0md\u001b[0m\u001b[0;34m=\u001b[0m\u001b[0mdict\u001b[0m\u001b[0;34m(\u001b[0m\u001b[0;34m)\u001b[0m\u001b[0;34m\u001b[0m\u001b[0;34m\u001b[0m\u001b[0m\n\u001b[0;32m----> 5\u001b[0;31m \u001b[0md\u001b[0m\u001b[0;34m[\u001b[0m\u001b[0mt\u001b[0m\u001b[0;34m]\u001b[0m \u001b[0;34m=\u001b[0m\u001b[0;34m'oops'\u001b[0m\u001b[0;34m\u001b[0m\u001b[0;34m\u001b[0m\u001b[0m\n\u001b[0m",
            "\u001b[0;31mTypeError\u001b[0m: unhashable type: 'list'"
          ]
        }
      ]
    },
    {
      "cell_type": "markdown",
      "source": [
        "I mentioned earlier that a dictionary is implemented using a hashtable and that means that\n",
        "the keys have to be hashable.\n",
        "A hash is a function that takes a value (of any kind) and returns an integer. Dictionaries\n",
        "use these integers, called hash values, to store and look up key-value pairs.\n",
        "This system works fine if the keys are immutable. But if the keys are mutable, like lists,\n",
        "bad things happen. For example, when you create a key-value pair, Python hashes the key\n",
        "and stores it in the corresponding location. If you modify the key and then hash it again, it\n",
        "would go to a different location. In that case you might have two entries for the same key,\n",
        "or you might not be able to find a key. Either way, the dictionary wouldn’t work correctly.\n",
        "That’s why keys have to be hashable, and why mutable types like lists aren’t. The simplest\n",
        "way to get around this limitation is to use tuples, which we will see in the next chapter.\n",
        "Since dictionaries are mutable, they can’t be used as keys, but they can be used as values"
      ],
      "metadata": {
        "id": "n5r5ARVeRxEX"
      }
    },
    {
      "cell_type": "code",
      "source": [
        ""
      ],
      "metadata": {
        "id": "0H8RkkIcRAB8"
      },
      "execution_count": null,
      "outputs": []
    },
    {
      "cell_type": "markdown",
      "source": [
        "## Memos\n",
        "If you played with the fibonacci function from “One More Example”, you might have\n",
        "noticed that the bigger the argument you provide, the longer the function takes to run.\n",
        "Furthermore, the runtime increases quickly.\n",
        "![image.png](data:image/png;base64,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)\n"
      ],
      "metadata": {
        "id": "F7wdQEFrSV7P"
      }
    },
    {
      "cell_type": "code",
      "source": [
        ""
      ],
      "metadata": {
        "id": "0rcAxGjlSiCr"
      },
      "execution_count": null,
      "outputs": []
    },
    {
      "cell_type": "markdown",
      "source": [
        "A call graph shows a set of function frames, with lines connecting each frame to the\n",
        "frames of the functions it calls. At the top of the graph, fibonacci with n=4 calls\n",
        "fibonacci with n=3 and n=2. In turn, fibonacci with n=3 calls fibonacci with n=2 and\n",
        "n=1. And so on.\n",
        "\n",
        "Count how many times fibonacci(0) and fibonacci(1) are called. This is an inefficient\n",
        "solution to the problem, and it gets worse as the argument gets bigger.\n",
        "\n",
        "One solution is to keep track of values that have already been computed by storing them in\n",
        "a dictionary. A previously computed value that is stored for later use is called a memo.\n",
        "Here is a “memoized” version of fibonacci:\n"
      ],
      "metadata": {
        "id": "jvK7FSTFSqVx"
      }
    },
    {
      "cell_type": "code",
      "source": [
        "known ={0:0, 1:1}\n",
        "def fibonacci(n):\n",
        "  if n in known:\n",
        "    return known[n]\n",
        "  res = fibonacci(n-1) + fibonacci(n-2)\n",
        "  known[n] = res\n",
        "  return res"
      ],
      "metadata": {
        "id": "F-nrySUwSuH0"
      },
      "execution_count": null,
      "outputs": []
    },
    {
      "cell_type": "code",
      "source": [
        "fibonacci(4)"
      ],
      "metadata": {
        "colab": {
          "base_uri": "https://localhost:8080/"
        },
        "id": "ISEcRTPJTP7r",
        "outputId": "0bcd8959-1371-4768-e6ae-2ba64db4414d"
      },
      "execution_count": null,
      "outputs": [
        {
          "output_type": "execute_result",
          "data": {
            "text/plain": [
              "3"
            ]
          },
          "metadata": {},
          "execution_count": 67
        }
      ]
    },
    {
      "cell_type": "code",
      "source": [
        "fibonacci(120)"
      ],
      "metadata": {
        "colab": {
          "base_uri": "https://localhost:8080/"
        },
        "id": "qRB0pX7WTSci",
        "outputId": "2d889edd-a68a-47e1-d42e-60fe46c737c9"
      },
      "execution_count": null,
      "outputs": [
        {
          "output_type": "execute_result",
          "data": {
            "text/plain": [
              "5358359254990966640871840"
            ]
          },
          "metadata": {},
          "execution_count": 68
        }
      ]
    },
    {
      "cell_type": "code",
      "source": [
        "fibonacci(125)       # yay......wooooooow"
      ],
      "metadata": {
        "colab": {
          "base_uri": "https://localhost:8080/"
        },
        "id": "HAReHdnBTVI2",
        "outputId": "c01c7387-91d2-4bb3-85d1-79de001ae191"
      },
      "execution_count": null,
      "outputs": [
        {
          "output_type": "execute_result",
          "data": {
            "text/plain": [
              "59425114757512643212875125"
            ]
          },
          "metadata": {},
          "execution_count": 70
        }
      ]
    },
    {
      "cell_type": "markdown",
      "source": [
        "known is a dictionary that keeps track of the Fibonacci numbers we already know. It starts\n",
        "with two items: 0 maps to 0 and 1 maps to 1.\n",
        "Whenever fibonacci is called, it checks known. If the result is already there, it can return\n",
        "immediately. Otherwise it has to compute the new value, add it to the dictionary, and\n",
        "return it.\n",
        "If you run this version of fibonacci and compare it with the original, you will find that it\n",
        "is much faster"
      ],
      "metadata": {
        "id": "o6BBIqeLTgId"
      }
    },
    {
      "cell_type": "code",
      "source": [
        ""
      ],
      "metadata": {
        "id": "M05gg7NnTYOU"
      },
      "execution_count": null,
      "outputs": []
    },
    {
      "cell_type": "markdown",
      "source": [
        "## Global Variables\n",
        "\n",
        "In the previous example, known is created outside the function, so it belongs to the special\n",
        "frame called __main__. Variables in __main__ are sometimes called global because they\n",
        "can be accessed from any function. Unlike local variables, which disappear when their\n",
        "function ends, global variables persist from one function call to the next.\n",
        "It is common to use global variables for flags; that is, boolean variables that indicate\n",
        "(“flag”) whether a condition is true. For example, some programs use a flag named\n",
        "verbose to control the level of detail in the output:\n"
      ],
      "metadata": {
        "id": "6pdxDmapToLI"
      }
    },
    {
      "cell_type": "code",
      "source": [
        "been_called = False\n",
        "def example2():\n",
        "  been_called = True       # wrong"
      ],
      "metadata": {
        "id": "O7BGbQUsTg1z"
      },
      "execution_count": null,
      "outputs": []
    },
    {
      "cell_type": "code",
      "source": [
        "been_called"
      ],
      "metadata": {
        "colab": {
          "base_uri": "https://localhost:8080/"
        },
        "id": "JOttcAW1T5F2",
        "outputId": "5cea82ac-2ae3-4925-d5fe-a5385d6de832"
      },
      "execution_count": null,
      "outputs": [
        {
          "output_type": "execute_result",
          "data": {
            "text/plain": [
              "False"
            ]
          },
          "metadata": {},
          "execution_count": 72
        }
      ]
    },
    {
      "cell_type": "markdown",
      "source": [
        "If you try to reassign a global variable, you might be surprised. The following example is\n",
        "supposed to keep track of whether the function has been called:\n",
        "\n",
        "The global statement tells the interpreter something like, “In this function, when I say\n",
        "been_called, I mean the global variable; don’t create a local one"
      ],
      "metadata": {
        "id": "TYvYTcOxT-gT"
      }
    },
    {
      "cell_type": "code",
      "source": [
        "count =0\n",
        "def example3():\n",
        "  count = count+1"
      ],
      "metadata": {
        "id": "t719cRMhT7Py"
      },
      "execution_count": null,
      "outputs": []
    },
    {
      "cell_type": "code",
      "source": [
        "example3()"
      ],
      "metadata": {
        "colab": {
          "base_uri": "https://localhost:8080/",
          "height": 252
        },
        "id": "0WgsI_j7T_Li",
        "outputId": "b23c5ea2-0227-4b02-a30f-b699fa0386db"
      },
      "execution_count": null,
      "outputs": [
        {
          "output_type": "error",
          "ename": "UnboundLocalError",
          "evalue": "ignored",
          "traceback": [
            "\u001b[0;31m---------------------------------------------------------------------------\u001b[0m",
            "\u001b[0;31mUnboundLocalError\u001b[0m                         Traceback (most recent call last)",
            "\u001b[0;32m<ipython-input-74-bf3402d0be88>\u001b[0m in \u001b[0;36m<module>\u001b[0;34m()\u001b[0m\n\u001b[0;32m----> 1\u001b[0;31m \u001b[0mexample3\u001b[0m\u001b[0;34m(\u001b[0m\u001b[0;34m)\u001b[0m\u001b[0;34m\u001b[0m\u001b[0;34m\u001b[0m\u001b[0m\n\u001b[0m",
            "\u001b[0;32m<ipython-input-73-c5e14dd525ed>\u001b[0m in \u001b[0;36mexample3\u001b[0;34m()\u001b[0m\n\u001b[1;32m      1\u001b[0m \u001b[0mcount\u001b[0m \u001b[0;34m=\u001b[0m\u001b[0;36m0\u001b[0m\u001b[0;34m\u001b[0m\u001b[0;34m\u001b[0m\u001b[0m\n\u001b[1;32m      2\u001b[0m \u001b[0;32mdef\u001b[0m \u001b[0mexample3\u001b[0m\u001b[0;34m(\u001b[0m\u001b[0;34m)\u001b[0m\u001b[0;34m:\u001b[0m\u001b[0;34m\u001b[0m\u001b[0;34m\u001b[0m\u001b[0m\n\u001b[0;32m----> 3\u001b[0;31m   \u001b[0mcount\u001b[0m \u001b[0;34m=\u001b[0m \u001b[0mcount\u001b[0m\u001b[0;34m+\u001b[0m\u001b[0;36m1\u001b[0m\u001b[0;34m\u001b[0m\u001b[0;34m\u001b[0m\u001b[0m\n\u001b[0m",
            "\u001b[0;31mUnboundLocalError\u001b[0m: local variable 'count' referenced before assignment"
          ]
        }
      ]
    },
    {
      "cell_type": "code",
      "source": [
        "#Python assumes that count is local, and under that assumption you are reading it before\n",
        "#writing it. The solution, again, is to declare count global:\n",
        "count =1\n",
        "def example3():\n",
        "  global count\n",
        "  count += 1"
      ],
      "metadata": {
        "id": "l-kLM5MFUZRa"
      },
      "execution_count": null,
      "outputs": []
    },
    {
      "cell_type": "code",
      "source": [
        "example3()"
      ],
      "metadata": {
        "id": "69h6zSDFUndh"
      },
      "execution_count": null,
      "outputs": []
    },
    {
      "cell_type": "code",
      "source": [
        "type(example3)"
      ],
      "metadata": {
        "colab": {
          "base_uri": "https://localhost:8080/"
        },
        "id": "RlIP-gfzUpJa",
        "outputId": "2a80dc91-58b9-494a-ed2e-c042050a3349"
      },
      "execution_count": null,
      "outputs": [
        {
          "output_type": "execute_result",
          "data": {
            "text/plain": [
              "function"
            ]
          },
          "metadata": {},
          "execution_count": 79
        }
      ]
    },
    {
      "cell_type": "markdown",
      "source": [
        "If a global variable refers to a mutable value, you can modify the value without declaring\n",
        "the variable:"
      ],
      "metadata": {
        "id": "l5rR6JhrVA5q"
      }
    },
    {
      "cell_type": "code",
      "source": [
        "known ={0:0, 1:1}\n",
        "def example4():\n",
        "  known[2] =1"
      ],
      "metadata": {
        "id": "TnHxHV2QU6Mq"
      },
      "execution_count": null,
      "outputs": []
    },
    {
      "cell_type": "code",
      "source": [
        "example4()"
      ],
      "metadata": {
        "id": "w3oRjrJOVCMK"
      },
      "execution_count": null,
      "outputs": []
    },
    {
      "cell_type": "code",
      "source": [
        "known"
      ],
      "metadata": {
        "colab": {
          "base_uri": "https://localhost:8080/"
        },
        "id": "3_6HobLzVPHD",
        "outputId": "6ca911bf-c44d-4539-a447-7291d658ddef"
      },
      "execution_count": null,
      "outputs": [
        {
          "output_type": "execute_result",
          "data": {
            "text/plain": [
              "{0: 0, 1: 1, 2: 1}"
            ]
          },
          "metadata": {},
          "execution_count": 86
        }
      ]
    },
    {
      "cell_type": "markdown",
      "source": [
        "Global variables can be useful, but if you have a lot of them, and you modify them\n",
        "frequently, they can make programs hard to debug"
      ],
      "metadata": {
        "id": "h7LVYclJVhQu"
      }
    },
    {
      "cell_type": "code",
      "source": [
        ""
      ],
      "metadata": {
        "id": "Y7qS3euRVdDJ"
      },
      "execution_count": null,
      "outputs": []
    },
    {
      "cell_type": "markdown",
      "source": [
        "# C12. Tuples Page. No: 216\n"
      ],
      "metadata": {
        "id": "HQA9YwfPVpBe"
      }
    },
    {
      "cell_type": "code",
      "source": [
        ""
      ],
      "metadata": {
        "id": "K2TURO6vViGF"
      },
      "execution_count": null,
      "outputs": []
    }
  ]
}