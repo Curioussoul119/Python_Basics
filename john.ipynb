{
 "cells": [
  {
   "cell_type": "code",
   "execution_count": 1,
   "id": "c9a32b5d",
   "metadata": {},
   "outputs": [],
   "source": [
    "my_str='john'\n"
   ]
  },
  {
   "cell_type": "code",
   "execution_count": 2,
   "id": "bcbc541a",
   "metadata": {},
   "outputs": [
    {
     "data": {
      "text/plain": [
       "True"
      ]
     },
     "execution_count": 2,
     "metadata": {},
     "output_type": "execute_result"
    }
   ],
   "source": [
    "\n",
    "my_str.istitle()\n"
   ]
  },
  {
   "cell_type": "code",
   "execution_count": 3,
   "id": "ff4f17cc",
   "metadata": {},
   "outputs": [
    {
     "name": "stdout",
     "output_type": "stream",
     "text": [
      "True\n"
     ]
    }
   ],
   "source": [
    "\n",
    "print(my_str.isalnum())"
   ]
  },
  {
   "cell_type": "code",
   "execution_count": null,
   "id": "b3708f1b",
   "metadata": {},
   "outputs": [],
   "source": []
  }
 ],
 "metadata": {
  "kernelspec": {
   "display_name": "Python 3",
   "language": "python",
   "name": "python3"
  },
  "language_info": {
   "codemirror_mode": {
    "name": "ipython",
    "version": 3
   },
   "file_extension": ".py",
   "mimetype": "text/x-python",
   "name": "python",
   "nbconvert_exporter": "python",
   "pygments_lexer": "ipython3",
   "version": "3.8.8"
  }
 },
 "nbformat": 4,
 "nbformat_minor": 5
}
