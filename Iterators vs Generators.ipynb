{
 "cells": [
  {
   "cell_type": "markdown",
   "id": "4c90bce0",
   "metadata": {},
   "source": [
    "# Python Generators Vs Iterators"
   ]
  },
  {
   "cell_type": "code",
   "execution_count": 3,
   "id": "dd85b041",
   "metadata": {},
   "outputs": [
    {
     "name": "stdout",
     "output_type": "stream",
     "text": [
      "1\n",
      "2\n",
      "3\n",
      "4\n"
     ]
    }
   ],
   "source": [
    "## Iterable\n",
    "lst=[1,2,3,4]\n",
    "for i in lst:\n",
    "    print(i)"
   ]
  },
  {
   "cell_type": "code",
   "execution_count": 4,
   "id": "ecc1642c",
   "metadata": {},
   "outputs": [],
   "source": [
    "## Iterator\n",
    "iterable=iter(lst)"
   ]
  },
  {
   "cell_type": "code",
   "execution_count": 5,
   "id": "b22edb70",
   "metadata": {},
   "outputs": [
    {
     "data": {
      "text/plain": [
       "list_iterator"
      ]
     },
     "execution_count": 5,
     "metadata": {},
     "output_type": "execute_result"
    }
   ],
   "source": [
    "type(iterable)"
   ]
  },
  {
   "cell_type": "code",
   "execution_count": 6,
   "id": "6fca59cd",
   "metadata": {},
   "outputs": [
    {
     "data": {
      "text/plain": [
       "<list_iterator at 0x27948507310>"
      ]
     },
     "execution_count": 6,
     "metadata": {},
     "output_type": "execute_result"
    }
   ],
   "source": [
    "iterable"
   ]
  },
  {
   "cell_type": "code",
   "execution_count": 7,
   "id": "827cb9d2",
   "metadata": {},
   "outputs": [
    {
     "name": "stdout",
     "output_type": "stream",
     "text": [
      "1\n",
      "2\n",
      "3\n",
      "4\n"
     ]
    }
   ],
   "source": [
    "## We can iterate\n",
    "for i in iterable:\n",
    "    print(i)"
   ]
  },
  {
   "cell_type": "code",
   "execution_count": 9,
   "id": "3f8ed658",
   "metadata": {},
   "outputs": [
    {
     "name": "stdout",
     "output_type": "stream",
     "text": [
      "The iterator is empty\n"
     ]
    }
   ],
   "source": [
    "try:\n",
    "    print(next(iterable))\n",
    "except StopIteration:\n",
    "    print('The iterator is empty')"
   ]
  },
  {
   "cell_type": "code",
   "execution_count": 26,
   "id": "7b438a07",
   "metadata": {},
   "outputs": [],
   "source": [
    "### Generator\n",
    "def square(n):\n",
    "    for i in range(n):\n",
    "        yield i**2"
   ]
  },
  {
   "cell_type": "code",
   "execution_count": 16,
   "id": "49b7eda3",
   "metadata": {},
   "outputs": [
    {
     "data": {
      "text/plain": [
       "<generator object square at 0x00000279485496D0>"
      ]
     },
     "execution_count": 16,
     "metadata": {},
     "output_type": "execute_result"
    }
   ],
   "source": [
    "square(5)"
   ]
  },
  {
   "cell_type": "code",
   "execution_count": null,
   "id": "7be24209",
   "metadata": {},
   "outputs": [],
   "source": []
  },
  {
   "cell_type": "code",
   "execution_count": 27,
   "id": "27faa969",
   "metadata": {},
   "outputs": [
    {
     "name": "stdout",
     "output_type": "stream",
     "text": [
      "0\n",
      "1\n",
      "4\n",
      "9\n",
      "16\n",
      "25\n",
      "36\n",
      "49\n",
      "64\n",
      "81\n"
     ]
    }
   ],
   "source": [
    "for i in square(10):\n",
    "    print(i)"
   ]
  },
  {
   "cell_type": "code",
   "execution_count": 36,
   "id": "901bac47",
   "metadata": {},
   "outputs": [
    {
     "name": "stdout",
     "output_type": "stream",
     "text": [
      "0\n",
      "1\n",
      "8\n",
      "27\n"
     ]
    }
   ],
   "source": [
    "def cubic(n):\n",
    "    for i in range(n):\n",
    "        yield i**(3)\n",
    "for i in cubic(4):\n",
    "    print(i)"
   ]
  },
  {
   "cell_type": "code",
   "execution_count": 34,
   "id": "13d46ca4",
   "metadata": {},
   "outputs": [],
   "source": [
    "cub_lst"
   ]
  },
  {
   "cell_type": "code",
   "execution_count": 29,
   "id": "9b54f3c8",
   "metadata": {},
   "outputs": [
    {
     "data": {
      "text/plain": [
       "<generator object cubic at 0x0000027948549430>"
      ]
     },
     "execution_count": 29,
     "metadata": {},
     "output_type": "execute_result"
    }
   ],
   "source": [
    "cubic(4)"
   ]
  },
  {
   "cell_type": "code",
   "execution_count": 35,
   "id": "78eaee46",
   "metadata": {},
   "outputs": [
    {
     "name": "stdout",
     "output_type": "stream",
     "text": [
      "None\n"
     ]
    }
   ],
   "source": [
    "print(cub_lst)"
   ]
  },
  {
   "cell_type": "code",
   "execution_count": null,
   "id": "b7af09ba",
   "metadata": {},
   "outputs": [],
   "source": []
  },
  {
   "cell_type": "code",
   "execution_count": 23,
   "id": "30b50a3e",
   "metadata": {},
   "outputs": [],
   "source": [
    "a=square(3)"
   ]
  },
  {
   "cell_type": "code",
   "execution_count": null,
   "id": "61a16462",
   "metadata": {},
   "outputs": [],
   "source": []
  },
  {
   "cell_type": "code",
   "execution_count": 24,
   "id": "2c9e0679",
   "metadata": {},
   "outputs": [
    {
     "data": {
      "text/plain": [
       "<generator object square at 0x0000027948549C80>"
      ]
     },
     "execution_count": 24,
     "metadata": {},
     "output_type": "execute_result"
    }
   ],
   "source": [
    "a"
   ]
  },
  {
   "cell_type": "code",
   "execution_count": 25,
   "id": "761ed69e",
   "metadata": {},
   "outputs": [
    {
     "data": {
      "text/plain": [
       "0"
      ]
     },
     "execution_count": 25,
     "metadata": {},
     "output_type": "execute_result"
    }
   ],
   "source": [
    "next(a)"
   ]
  },
  {
   "cell_type": "markdown",
   "id": "880009dc",
   "metadata": {},
   "source": [
    "# Difference\n",
    "\n",
    "1. To create iterator we use iter() and to generator we use function along with yield keyword\n",
    "2. Generator uses the yield keyword. It saves the local variable\n",
    "3. Generator in Python helps us top write fast and compact code\n",
    "4. Python Iterator is much more memomry efficient"
   ]
  },
  {
   "cell_type": "markdown",
   "id": "7620546d",
   "metadata": {},
   "source": [
    "# sum of cubes of natural number series"
   ]
  },
  {
   "cell_type": "code",
   "execution_count": 37,
   "id": "5d25ff32",
   "metadata": {},
   "outputs": [],
   "source": [
    "# Two approaches: 1. run sum iteration over series 2. Math formula"
   ]
  },
  {
   "cell_type": "code",
   "execution_count": 38,
   "id": "98b01900",
   "metadata": {},
   "outputs": [],
   "source": [
    "# computing sum of each term by adding by iterating over the numbers"
   ]
  },
  {
   "cell_type": "code",
   "execution_count": 55,
   "id": "b4ad16eb",
   "metadata": {},
   "outputs": [],
   "source": [
    "def sum_cub(n):\n",
    "    sum1=0\n",
    "    for i in range(1,n+1):\n",
    "        sum1 +=i*i*i\n",
    "        return sum1"
   ]
  },
  {
   "cell_type": "code",
   "execution_count": 58,
   "id": "2d12566c",
   "metadata": {},
   "outputs": [
    {
     "name": "stdout",
     "output_type": "stream",
     "text": [
      "1\n"
     ]
    }
   ],
   "source": [
    "print(sum_cub(5)) ######### Will see later........\"(\"\n",
    "    "
   ]
  },
  {
   "cell_type": "code",
   "execution_count": null,
   "id": "39fbd41f",
   "metadata": {},
   "outputs": [],
   "source": []
  }
 ],
 "metadata": {
  "kernelspec": {
   "display_name": "Python 3",
   "language": "python",
   "name": "python3"
  },
  "language_info": {
   "codemirror_mode": {
    "name": "ipython",
    "version": 3
   },
   "file_extension": ".py",
   "mimetype": "text/x-python",
   "name": "python",
   "nbconvert_exporter": "python",
   "pygments_lexer": "ipython3",
   "version": "3.8.8"
  }
 },
 "nbformat": 4,
 "nbformat_minor": 5
}
