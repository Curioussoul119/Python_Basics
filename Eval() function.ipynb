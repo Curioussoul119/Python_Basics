{
 "cells": [
  {
   "cell_type": "markdown",
   "id": "42585f96",
   "metadata": {},
   "source": [
    "# Python Eval Function--Evaluating expressions Dynamically"
   ]
  },
  {
   "cell_type": "code",
   "execution_count": 1,
   "id": "d5aa793f",
   "metadata": {},
   "outputs": [
    {
     "ename": "SyntaxError",
     "evalue": "invalid syntax (<ipython-input-1-0b77fe29dd1c>, line 1)",
     "output_type": "error",
     "traceback": [
      "\u001b[1;36m  File \u001b[1;32m\"<ipython-input-1-0b77fe29dd1c>\"\u001b[1;36m, line \u001b[1;32m1\u001b[0m\n\u001b[1;33m    5*5+\u001b[0m\n\u001b[1;37m        ^\u001b[0m\n\u001b[1;31mSyntaxError\u001b[0m\u001b[1;31m:\u001b[0m invalid syntax\n"
     ]
    }
   ],
   "source": [
    "5*5+"
   ]
  },
  {
   "cell_type": "code",
   "execution_count": 2,
   "id": "38a8791b",
   "metadata": {},
   "outputs": [
    {
     "data": {
      "text/plain": [
       "28.5"
      ]
     },
     "execution_count": 2,
     "metadata": {},
     "output_type": "execute_result"
    }
   ],
   "source": [
    "# Eval function evaluate python expression which are written as strings\n",
    "eval('5*5+7/2')"
   ]
  },
  {
   "cell_type": "code",
   "execution_count": 3,
   "id": "c890b40a",
   "metadata": {},
   "outputs": [
    {
     "name": "stdout",
     "output_type": "stream",
     "text": [
      "Enter the python Expressionsum([1,2,3,4,5])\n"
     ]
    },
    {
     "data": {
      "text/plain": [
       "15"
      ]
     },
     "execution_count": 3,
     "metadata": {},
     "output_type": "execute_result"
    }
   ],
   "source": [
    "eval(input('Enter the python Expression'))"
   ]
  },
  {
   "cell_type": "code",
   "execution_count": 4,
   "id": "c77c177b",
   "metadata": {},
   "outputs": [
    {
     "data": {
      "text/plain": [
       "15"
      ]
     },
     "execution_count": 4,
     "metadata": {},
     "output_type": "execute_result"
    }
   ],
   "source": [
    "sum([1,2,3,4,5])"
   ]
  },
  {
   "cell_type": "code",
   "execution_count": 5,
   "id": "93ff1b65",
   "metadata": {},
   "outputs": [],
   "source": [
    "def square_num(num):\n",
    "    return num**2"
   ]
  },
  {
   "cell_type": "code",
   "execution_count": 6,
   "id": "265d59ba",
   "metadata": {},
   "outputs": [],
   "source": [
    "num=2\n"
   ]
  },
  {
   "cell_type": "code",
   "execution_count": 7,
   "id": "556c767c",
   "metadata": {},
   "outputs": [
    {
     "data": {
      "text/plain": [
       "4"
      ]
     },
     "execution_count": 7,
     "metadata": {},
     "output_type": "execute_result"
    }
   ],
   "source": [
    "square_num(2)"
   ]
  },
  {
   "cell_type": "code",
   "execution_count": 8,
   "id": "0cf4bb7b",
   "metadata": {},
   "outputs": [
    {
     "data": {
      "text/plain": [
       "4"
      ]
     },
     "execution_count": 8,
     "metadata": {},
     "output_type": "execute_result"
    }
   ],
   "source": [
    "eval('square_num(2)')"
   ]
  },
  {
   "cell_type": "markdown",
   "id": "01aaac44",
   "metadata": {},
   "source": [
    "# How does Eval work\n",
    "1. Parse Python Expression\n",
    "2. Compile into a byte code\n",
    "3. Evaluate the python expression\n",
    "4. It will return the result"
   ]
  },
  {
   "cell_type": "code",
   "execution_count": 9,
   "id": "379ec1bd",
   "metadata": {},
   "outputs": [],
   "source": [
    "var=compile('5*5', '<string>', 'eval')"
   ]
  },
  {
   "cell_type": "code",
   "execution_count": 10,
   "id": "a00d94cc",
   "metadata": {},
   "outputs": [
    {
     "data": {
      "text/plain": [
       "25"
      ]
     },
     "execution_count": 10,
     "metadata": {},
     "output_type": "execute_result"
    }
   ],
   "source": [
    "eval(var)"
   ]
  },
  {
   "cell_type": "code",
   "execution_count": 11,
   "id": "60ad32c1",
   "metadata": {},
   "outputs": [
    {
     "data": {
      "text/plain": [
       "160"
      ]
     },
     "execution_count": 11,
     "metadata": {},
     "output_type": "execute_result"
    }
   ],
   "source": [
    "### Globals\n",
    "x=10\n",
    "eval('x+50+x**2', {'x':x})"
   ]
  },
  {
   "cell_type": "code",
   "execution_count": 15,
   "id": "fcf5790e",
   "metadata": {},
   "outputs": [
    {
     "data": {
      "text/plain": [
       "1200"
      ]
     },
     "execution_count": 15,
     "metadata": {},
     "output_type": "execute_result"
    }
   ],
   "source": [
    "\n",
    "eval('x+z+w',{'x':x, 'z':100,'w':1000})"
   ]
  },
  {
   "cell_type": "code",
   "execution_count": 16,
   "id": "671915dd",
   "metadata": {},
   "outputs": [
    {
     "data": {
      "text/plain": [
       "10200"
      ]
     },
     "execution_count": 16,
     "metadata": {},
     "output_type": "execute_result"
    }
   ],
   "source": [
    "x=100\n",
    "z=100\n",
    "y=10000\n",
    "eval('x+z+y')"
   ]
  },
  {
   "cell_type": "code",
   "execution_count": 17,
   "id": "e30f256a",
   "metadata": {},
   "outputs": [
    {
     "data": {
      "text/plain": [
       "True"
      ]
     },
     "execution_count": 17,
     "metadata": {},
     "output_type": "execute_result"
    }
   ],
   "source": [
    "a=100\n",
    "b=200\n",
    "eval('a<b')"
   ]
  },
  {
   "cell_type": "code",
   "execution_count": 20,
   "id": "a4c2dfd4",
   "metadata": {},
   "outputs": [
    {
     "ename": "NameError",
     "evalue": "name 'x' is not defined",
     "output_type": "error",
     "traceback": [
      "\u001b[1;31m---------------------------------------------------------------------------\u001b[0m",
      "\u001b[1;31mNameError\u001b[0m                                 Traceback (most recent call last)",
      "\u001b[1;32m<ipython-input-20-14a189f5d7c0>\u001b[0m in \u001b[0;36m<module>\u001b[1;34m\u001b[0m\n\u001b[0;32m      1\u001b[0m \u001b[0mx\u001b[0m\u001b[1;33m=\u001b[0m\u001b[1;36m100\u001b[0m\u001b[1;33m\u001b[0m\u001b[1;33m\u001b[0m\u001b[0m\n\u001b[0;32m      2\u001b[0m \u001b[0my\u001b[0m\u001b[1;33m=\u001b[0m\u001b[1;36m100\u001b[0m\u001b[1;33m\u001b[0m\u001b[1;33m\u001b[0m\u001b[0m\n\u001b[1;32m----> 3\u001b[1;33m \u001b[0meval\u001b[0m\u001b[1;33m(\u001b[0m\u001b[1;34m'x+y'\u001b[0m\u001b[1;33m,\u001b[0m\u001b[1;33m{\u001b[0m\u001b[1;33m}\u001b[0m\u001b[1;33m,\u001b[0m\u001b[1;33m{\u001b[0m\u001b[1;33m}\u001b[0m\u001b[1;33m)\u001b[0m\u001b[1;33m\u001b[0m\u001b[1;33m\u001b[0m\u001b[0m\n\u001b[0m",
      "\u001b[1;32m<string>\u001b[0m in \u001b[0;36m<module>\u001b[1;34m\u001b[0m\n",
      "\u001b[1;31mNameError\u001b[0m: name 'x' is not defined"
     ]
    }
   ],
   "source": [
    "x=100\n",
    "y=100\n",
    "eval('x+y',{},{})"
   ]
  },
  {
   "cell_type": "code",
   "execution_count": null,
   "id": "593daee9",
   "metadata": {},
   "outputs": [],
   "source": []
  }
 ],
 "metadata": {
  "kernelspec": {
   "display_name": "Python 3",
   "language": "python",
   "name": "python3"
  },
  "language_info": {
   "codemirror_mode": {
    "name": "ipython",
    "version": 3
   },
   "file_extension": ".py",
   "mimetype": "text/x-python",
   "name": "python",
   "nbconvert_exporter": "python",
   "pygments_lexer": "ipython3",
   "version": "3.8.8"
  }
 },
 "nbformat": 4,
 "nbformat_minor": 5
}
